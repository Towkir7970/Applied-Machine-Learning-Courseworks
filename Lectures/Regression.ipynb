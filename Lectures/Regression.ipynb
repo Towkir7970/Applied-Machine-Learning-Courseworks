{
 "cells": [
  {
   "cell_type": "markdown",
   "metadata": {
    "slideshow": {
     "slide_type": "slide"
    }
   },
   "source": [
    "# Regression and regularisation\n",
    "\n",
    " - Regression is used when prediction a continuous dependent variable using one ore more independent variables.\n",
    " - Classical regression is not working well when the number of features is large or when the data contains plenty of noise or the dependency is non-linear\n",
    " - Application areas of classical regression can be extended by using regularisation\n",
    " - Non-linear regression models SVR, RFR, GBRT\n",
    " - Recursive feature elimination/addition are useful methods for model optimisation and feature selection \n"
   ]
  },
  {
   "cell_type": "markdown",
   "metadata": {
    "slideshow": {
     "slide_type": "subslide"
    }
   },
   "source": [
    "## Ordinary Least mean Squares (OLS) regression\n",
    "\n",
    " - OLS using p-features $x_i$ to predict variable $y$.\n",
    " - $x_i$ are called as independent variables\n",
    " - $y$ is called as a dependent variable\n",
    " - $\\beta_i$ are the model parameters\n",
    " - $\\beta_0$ is the intersection, which is not always modeled\n",
    " \n",
    "$$\n",
    "    \\hat{y}_i = \\beta_0 + \\beta_1 x_{i,1} + \\beta_2 x_{i,2} + \\beta_3 x_{i,3} + \\cdots + \\beta_p x_{i,p} + \\epsilon_i\n",
    "$$\n",
    "\n",
    "Cost function to be minimized (square error):\n",
    "$$\n",
    "   Obj(\\Theta) = L(\\Theta) = \\sum_{i=1}^{n} (y_i - \\sum_{j=1}^p \\beta_j x_{ij})^2\n",
    "$$\n",
    "\n",
    "This Classic regression, usually the first choice to be tested. It Does not work well when **p is large** and when the training data contains **plenty of noise**"
   ]
  },
  {
   "cell_type": "markdown",
   "metadata": {
    "slideshow": {
     "slide_type": "subslide"
    }
   },
   "source": [
    "The **prediction** with the model is the following:\n",
    "\n",
    "$$  \\hat{y} = \\beta_0 + \\beta_1 x_1 + \\beta_2 x_2, ..., \\beta_n x_n + \\epsilon$$\n",
    "\n",
    "In 1-dimensional case, the regression is simply\n",
    "\n",
    "$$  \\hat{y} = \\beta_0 + \\beta_1 x + \\epsilon$$,\n",
    "\n",
    "where $\\beta_1$ is the reciprocal and $\\beta_0$ is the constant (the y-axis crossing point) and $\\epsilon$ is the prediction error. The optimal solution is when the squared sum of error (Loss function, $L()$) between predicted and true values is minimized:\n",
    "\n",
    "$$\n",
    "   L(\\beta) = \\sum_{i=1}^{n} (y_i - \\hat{y})^2\n",
    "$$\n",
    "\n",
    "The linear regression has a well known solution, which can be calculated very efficiently (closed form):\n",
    "\n",
    "$$\n",
    "   \\beta = (\\mathbf{X}^T\\mathbf{X})^{-1}\\mathbf{X}^T Y,\n",
    "$$\n",
    "\n",
    "Where $\\mathbf{X}$ is a design matrix containing data samples in rows, and variables in columns. It is also called as design matrix, at it was shown in the top of this section."
   ]
  },
  {
   "cell_type": "markdown",
   "metadata": {
    "slideshow": {
     "slide_type": "subslide"
    }
   },
   "source": [
    "## The fitness of a regression model\n",
    "\n",
    "The fitness of a regression model is often estimated using coefficient of determination ($R^2$) or Root Mean Square Error of prediction (RMSE).\n",
    "\n",
    "### Coefficient of determination, $R^2$\n",
    "The [coefficient of determination](https://en.wikipedia.org/wiki/Coefficient_of_determination), $R^2$, defines how large proportion of the variance in $y$ is explained by the model. $R^2$ is zero if the model cannot predict anything and it is 1 when the model fit is perfect. \n",
    "\n",
    "$$\n",
    "    R^2 = 1- \\frac{\\mathrm{var(residual)}}{\\mathrm{var}(y)} = 1- \\frac{\\Sigma_{i=1}^{n} (y_i - \\hat{y}_i)^2}{\\Sigma_{i=1}^{n} (y_i - \\bar{y})^2}\n",
    "$$\n",
    "\n",
    "For Ordinary Least mean Squares regression models (OLS) it is the same as the square of the Pearson correlation coefficient.\n",
    "\n",
    "$$\n",
    "   R^2 = \\rho^2\n",
    "$$"
   ]
  },
  {
   "cell_type": "markdown",
   "metadata": {
    "slideshow": {
     "slide_type": "subslide"
    }
   },
   "source": [
    "### Root Mean Square Error, RMSE\n",
    "[RMSE](https://towardsdatascience.com/what-does-rmse-really-mean-806b65f2e48e), is another often used measure for model fitness. RMSE shows the average prediction error in the same units and scale than $y$.\n",
    "\n",
    "$$\n",
    "   \\mathrm{RMSE} = \\sqrt{ \\left( \\frac{\\sum_{i=i}^{n} (y_i - \\hat{y}_i)^2}{n} \\right) }\n",
    "$$"
   ]
  },
  {
   "cell_type": "markdown",
   "metadata": {
    "slideshow": {
     "slide_type": "slide"
    }
   },
   "source": [
    "## Regularization and model simplicication\n",
    "![William_of_Ockham_-_Logica_1341.jpg](kuvat/William_of_Ockham_-_Logica_1341_s.jpg)\n",
    "\n",
    "<span id=\"kuvaviite\">Ockham - from a manuscipt of Ockham's Summa Logicae, MS Gonville and Caius College, Cambridge, 464/571, fol. 69r</span>\n",
    "\n",
    "> \"Simpler solutions are more likely to be correct than complex ones\"\n",
    ">\n",
    "        >William of Ockham"
   ]
  },
  {
   "cell_type": "markdown",
   "metadata": {
    "slideshow": {
     "slide_type": "slide"
    }
   },
   "source": [
    "Finding a model which fits to the data is not necessarily optimal. It may be unnecessary complex, which can cause problems in:\n",
    " - Generalization: too complex models may have unnecessary complex decision boundary or use redundant or unimportant variables in a regression model, which are producing noise to the model. The model may event fit to the noise in the training data, which is not repeated similarly in new samples.\n",
    " - Explainability: A complex model is difficult to understand, explain and believe.\n",
    " - Stability: Too complex model may have problems in converging in noisy training data and also the prediction can be too noise sensitive\n",
    " - Unnecessary high dimensionality means costs in recording, transferring, storing and processing data\n",
    "\n",
    "Therefore it is important to use means for simplifying data and making the models more stable."
   ]
  },
  {
   "cell_type": "markdown",
   "metadata": {
    "slideshow": {
     "slide_type": "subslide"
    }
   },
   "source": [
    "\n",
    "### L2 regularization, Ridge regression\n",
    "$$\n",
    "   Obj(\\Theta) = \\underbrace{\\sum_{i=1}^{n} (y_i - \\sum_{j=1}^p \\beta_j x_{ij})^2}_{L(\\Theta)} + \\underbrace{\\lambda \\sum_{j=1}^p \\beta_j^2}_{\\Omega(\\Theta)}\n",
    "$$\n",
    "\n",
    "* Regularization term, $\\Omega(\\Theta)$, makes it suitable for higher dimensional data\n",
    "* Minimal unbiased estimator in certain cases\n",
    "* Can be solved in closed form\n",
    "* All coefficients are always kept -> **Does not provide a parsimonious model**\n",
    "\n",
    "-------\n",
    "<div class=citation>\n",
    "Hoerl, Arthur E., ja Robert W. Kennard. ”Ridge Regression: Biased Estimation for Nonorthogonal Problems”. Technometrics 12, nro 1 (1. Feb 1970): 55–67. https://doi.org/10.1080/00401706.1970.10488634.\n",
    "</div>"
   ]
  },
  {
   "cell_type": "markdown",
   "metadata": {
    "slideshow": {
     "slide_type": "subslide"
    }
   },
   "source": [
    "### L1 regularization, LASSO\n",
    "$$\n",
    "   Obj(\\Theta) = \\underbrace{\\sum_{i=1}^{n} (y_i - \\sum_{j=1}^p \\beta_j x_{ij})^2}_{L(\\Theta)} + \\lambda \\sum_{j=1}^p |\\beta_j|\n",
    "$$\n",
    "\n",
    "* L1 regularization tends to lead solutions where many coefficients, $\\beta_i$ will be zeros -> **sparse model**.\n",
    "* Only iterative solutions are available, but for example <a href=\"https://scikit-learn.org/stable/modules/generated/sklearn.linear_model.LassoLars.html\">Least Angle Regression</a> (LARS) is fast method for finding LASSO solution\n",
    "* Will saturate if p>n, and select at maximum n feautures\n",
    "* in cases where n>p and high correlation between predictors, L1 is worse than L2\n",
    "\n",
    "-----\n",
    "<div class=\"citation\">Tibshirani, Robert. ”Regression Shrinkage and Selection Via the Lasso”. Journal of the Royal Statistical Society: Series B (Methodological) 58, nro 1 (1996): 267–88. https://doi.org/10.1111/j.2517-6161.1996.tb02080.x.\n",
    "</div>"
   ]
  },
  {
   "cell_type": "markdown",
   "metadata": {
    "slideshow": {
     "slide_type": "subslide"
    }
   },
   "source": [
    "### Elastic nets\n",
    "$$\n",
    "   Obj(\\Theta) = \\underbrace{\\sum_{i=1}^{n} (y_i - \\sum_{j=1}^p \\beta_j x_{ij})^2}_{L(\\Theta)} + \\lambda \\sum_{j=1}^p \\left( (1-\\alpha) \\beta_i^2 + \\alpha |\\beta_j| \\right)\n",
    "$$\n",
    "\n",
    "* Elastic net can perform like Rigde regression, when $\\alpha$=0 or like LASSO when $\\alpha$=1\n",
    "* For suitable value of, $\\alpha$, elastic net will also produce sparse model, but it does not saturate to in cases when n<p like LASSO.\n",
    "* Can tolerate correlation between predictors\n",
    "* Can be computed interatively quite efficiently\n",
    "\n",
    "\n",
    "\n",
    "<div class=\"citation\">Zou, Hui, ja Trevor Hastie. ”Regularization and variable selection via the elastic net”. Journal of the Royal Statistical Society: Series B (Statistical Methodology) 67, nro 2 (1. April 2005): 301–20. https://doi.org/10.1111/j.1467-9868.2005.00503.x.</div>\n"
   ]
  },
  {
   "cell_type": "markdown",
   "metadata": {
    "slideshow": {
     "slide_type": "subslide"
    }
   },
   "source": [
    "### Gradient Tree Boosting \n",
    " - Also called as Gradient Boosted Regression Trees (GBRT)\n",
    " - The GBRT has similar formal loss function and measure for complexity as linear regrssion\n",
    " \n",
    " $$Obj(\\Theta) = \\underbrace{L(\\Theta)}_{Training Loss} + \\underbrace{\\Omega(\\Theta)}_{Regularization}$$\n",
    " \n",
    " "
   ]
  },
  {
   "cell_type": "markdown",
   "metadata": {
    "ExecuteTime": {
     "end_time": "2021-11-10T07:03:01.249781Z",
     "start_time": "2021-11-10T07:03:01.246812Z"
    },
    "slideshow": {
     "slide_type": "slide"
    }
   },
   "source": [
    "## Coding examples\n",
    "\n",
    "Pay attention especially for these rows \n",
    "\n",
    " - Build the model:\n",
    "\n",
    "`    \n",
    "model = Model(<model parameters>).fit(X,y)\n",
    "`\n",
    "\n",
    " - Validate the model with R2 score in testing set and calculating Cross validation R2 score or R2 score and finaly for a separate testing set:\n",
    "\n",
    "`    \n",
    "model.score(X,y)\n",
    "model.cross_val_score(model, X, y, cv=5).mean()\n",
    "model.score(X_test, y_test)\n",
    "`\n",
    "\n",
    " - Variable selection:\n",
    " \n",
    "`    \n",
    "sfm = SelectFromModel(model, threshold=0.3)\n",
    "cross_val_score(model, sfm.transform(X), y, cv=5).mean()\n",
    "model.score(sfm.transform(X),y)\n",
    "`\n",
    "\n",
    " - Recursive feature selection\n",
    " \n",
    "`    \n",
    "rfe = RFE(estimator=model, n_features_to_select=1, step=1)\n",
    "`"
   ]
  },
  {
   "cell_type": "markdown",
   "metadata": {
    "slideshow": {
     "slide_type": "subslide"
    }
   },
   "source": [
    "### Housing prize example\n",
    "\n",
    "Can the house prizes be predicted? Which parameters affect most to the house prizes?\n",
    "\n",
    "- LotFrontage, Linear feet of street connected to property\n",
    "- LotArea, Lot size in square feet\n",
    "- OverallQual, Rates the overall material and finish of the house\n",
    "- OverallCond, Rates the overall condition of the house\n",
    "- YearBuilt, Original construction date\n",
    "- YearRemodAdd, Remodel date\n",
    "- BsmtFinSF1, Type 1 finished square feet (Basement)\n",
    "- BsmtFinSF2, Type 2 finished square feet (Basement)\n",
    "- BsmtUnfSF, Unfinished square feet of basement area\n",
    "- TotalBsmtSF, Total square feet of basement area\n",
    "- 1stFlrSF, First Floor square feet\n",
    "- 2ndFlrSF, Second floor square feet\n",
    "- LowQualFinSF, Low quality finished square feet (all floors)\n",
    "- GrLivArea, Above grade (ground) living area square feet\n",
    "- BsmtFullBath, Basement full bathrooms\n",
    "- BsmtHalfBath, Basement half bathrooms\n",
    "- FullBath, Full bathrooms above grade\n",
    "- HalfBath, Half baths above grade\n",
    "- BedroomAbvGr, Bedrooms above grade\n",
    "- KitchenAbvGr, Kitchens above grade\n",
    "- TotRmsAbvGrd, Total rooms above grade\n",
    "- Fireplaces, Number of fireplaces\n",
    "- GarageYrBlt, Year garage was built\n",
    "- GarageCars, Size of garage in car capacity\n",
    "- GarageArea, Size of garage in square feet\n",
    "- WoodDeckSF, Wood deck area in square feet\n",
    "- OpenPorchSF, Open porch area in square feet\n",
    "- EnclosedPorch, Enclosed porch area in square feet\n",
    "- 3SsnPorch, Three season porch area in square feet\n",
    "- ScreenPorch, Screen porch area in square feet\n",
    "- PoolArea, Pool area in square feet\n",
    "- YrSold, Year Sold (YYYY)"
   ]
  },
  {
   "cell_type": "code",
   "execution_count": 1,
   "metadata": {
    "ExecuteTime": {
     "end_time": "2022-11-28T06:25:34.368019Z",
     "start_time": "2022-11-28T06:25:34.363032Z"
    },
    "slideshow": {
     "slide_type": "subslide"
    }
   },
   "outputs": [],
   "source": [
    "import numpy as np\n",
    "import matplotlib.pyplot as plt\n",
    "from sklearn.linear_model import LinearRegression, Ridge, Lasso, ElasticNet, LassoCV, ElasticNetCV\n",
    "from sklearn.metrics import mean_squared_error, r2_score\n",
    "from sklearn.feature_selection import SelectFromModel\n",
    "import seaborn as sns\n",
    "from sklearn.model_selection import cross_val_score\n",
    "import pandas as pd\n",
    "\n",
    "def rmse(yh,y):\n",
    "    \"\"\"Calculates the RMS error between yh and y. Note yh and y must be numpy arrays.\"\"\"\n",
    "    return np.sqrt(np.mean((yh-y)**2))"
   ]
  },
  {
   "cell_type": "code",
   "execution_count": 5,
   "metadata": {},
   "outputs": [
    {
     "data": {
      "text/plain": [
       "\u001b[0;31mType:\u001b[0m        module\n",
       "\u001b[0;31mString form:\u001b[0m <module 'sklearn.linear_model' from '/mnt/debian/pvs/venv/JupyterAI/lib/python3.11/site-packages/sklearn/linear_model/__init__.py'>\n",
       "\u001b[0;31mFile:\u001b[0m        /mnt/debian/pvs/venv/JupyterAI/lib/python3.11/site-packages/sklearn/linear_model/__init__.py\n",
       "\u001b[0;31mDocstring:\u001b[0m   The :mod:`sklearn.linear_model` module implements a variety of linear models."
      ]
     },
     "metadata": {},
     "output_type": "display_data"
    }
   ],
   "source": [
    "import sklearn.linear_model as linear_model\n",
    "linear_model."
   ]
  },
  {
   "cell_type": "code",
   "execution_count": 107,
   "metadata": {
    "ExecuteTime": {
     "end_time": "2022-11-27T17:03:09.837769Z",
     "start_time": "2022-11-27T17:03:09.713755Z"
    },
    "slideshow": {
     "slide_type": "subslide"
    }
   },
   "outputs": [],
   "source": [
    "from sklearn.datasets import fetch_openml\n",
    "housing = fetch_openml(name=\"house_prices\", as_frame=True)\n",
    "Housing=housing['data']"
   ]
  },
  {
   "cell_type": "code",
   "execution_count": null,
   "metadata": {},
   "outputs": [],
   "source": []
  },
  {
   "cell_type": "code",
   "execution_count": 92,
   "metadata": {
    "ExecuteTime": {
     "end_time": "2022-11-27T16:59:42.241735Z",
     "start_time": "2022-11-27T16:59:42.215924Z"
    },
    "slideshow": {
     "slide_type": "subslide"
    }
   },
   "outputs": [
    {
     "name": "stdout",
     "output_type": "stream",
     "text": [
      "(1460, 81)\n"
     ]
    },
    {
     "data": {
      "text/html": [
       "<div>\n",
       "<style scoped>\n",
       "    .dataframe tbody tr th:only-of-type {\n",
       "        vertical-align: middle;\n",
       "    }\n",
       "\n",
       "    .dataframe tbody tr th {\n",
       "        vertical-align: top;\n",
       "    }\n",
       "\n",
       "    .dataframe thead th {\n",
       "        text-align: right;\n",
       "    }\n",
       "</style>\n",
       "<table border=\"1\" class=\"dataframe\">\n",
       "  <thead>\n",
       "    <tr style=\"text-align: right;\">\n",
       "      <th></th>\n",
       "      <th>Id</th>\n",
       "      <th>MSSubClass</th>\n",
       "      <th>MSZoning</th>\n",
       "      <th>LotFrontage</th>\n",
       "      <th>LotArea</th>\n",
       "      <th>Street</th>\n",
       "      <th>Alley</th>\n",
       "      <th>LotShape</th>\n",
       "      <th>LandContour</th>\n",
       "      <th>Utilities</th>\n",
       "      <th>...</th>\n",
       "      <th>PoolArea</th>\n",
       "      <th>PoolQC</th>\n",
       "      <th>Fence</th>\n",
       "      <th>MiscFeature</th>\n",
       "      <th>MiscVal</th>\n",
       "      <th>MoSold</th>\n",
       "      <th>YrSold</th>\n",
       "      <th>SaleType</th>\n",
       "      <th>SaleCondition</th>\n",
       "      <th>target</th>\n",
       "    </tr>\n",
       "  </thead>\n",
       "  <tbody>\n",
       "    <tr>\n",
       "      <th>0</th>\n",
       "      <td>1.0</td>\n",
       "      <td>60.0</td>\n",
       "      <td>RL</td>\n",
       "      <td>65.0</td>\n",
       "      <td>8450.0</td>\n",
       "      <td>Pave</td>\n",
       "      <td>None</td>\n",
       "      <td>Reg</td>\n",
       "      <td>Lvl</td>\n",
       "      <td>AllPub</td>\n",
       "      <td>...</td>\n",
       "      <td>0.0</td>\n",
       "      <td>None</td>\n",
       "      <td>None</td>\n",
       "      <td>None</td>\n",
       "      <td>0.0</td>\n",
       "      <td>2.0</td>\n",
       "      <td>2008.0</td>\n",
       "      <td>WD</td>\n",
       "      <td>Normal</td>\n",
       "      <td>208500.0</td>\n",
       "    </tr>\n",
       "    <tr>\n",
       "      <th>1</th>\n",
       "      <td>2.0</td>\n",
       "      <td>20.0</td>\n",
       "      <td>RL</td>\n",
       "      <td>80.0</td>\n",
       "      <td>9600.0</td>\n",
       "      <td>Pave</td>\n",
       "      <td>None</td>\n",
       "      <td>Reg</td>\n",
       "      <td>Lvl</td>\n",
       "      <td>AllPub</td>\n",
       "      <td>...</td>\n",
       "      <td>0.0</td>\n",
       "      <td>None</td>\n",
       "      <td>None</td>\n",
       "      <td>None</td>\n",
       "      <td>0.0</td>\n",
       "      <td>5.0</td>\n",
       "      <td>2007.0</td>\n",
       "      <td>WD</td>\n",
       "      <td>Normal</td>\n",
       "      <td>181500.0</td>\n",
       "    </tr>\n",
       "    <tr>\n",
       "      <th>2</th>\n",
       "      <td>3.0</td>\n",
       "      <td>60.0</td>\n",
       "      <td>RL</td>\n",
       "      <td>68.0</td>\n",
       "      <td>11250.0</td>\n",
       "      <td>Pave</td>\n",
       "      <td>None</td>\n",
       "      <td>IR1</td>\n",
       "      <td>Lvl</td>\n",
       "      <td>AllPub</td>\n",
       "      <td>...</td>\n",
       "      <td>0.0</td>\n",
       "      <td>None</td>\n",
       "      <td>None</td>\n",
       "      <td>None</td>\n",
       "      <td>0.0</td>\n",
       "      <td>9.0</td>\n",
       "      <td>2008.0</td>\n",
       "      <td>WD</td>\n",
       "      <td>Normal</td>\n",
       "      <td>223500.0</td>\n",
       "    </tr>\n",
       "    <tr>\n",
       "      <th>3</th>\n",
       "      <td>4.0</td>\n",
       "      <td>70.0</td>\n",
       "      <td>RL</td>\n",
       "      <td>60.0</td>\n",
       "      <td>9550.0</td>\n",
       "      <td>Pave</td>\n",
       "      <td>None</td>\n",
       "      <td>IR1</td>\n",
       "      <td>Lvl</td>\n",
       "      <td>AllPub</td>\n",
       "      <td>...</td>\n",
       "      <td>0.0</td>\n",
       "      <td>None</td>\n",
       "      <td>None</td>\n",
       "      <td>None</td>\n",
       "      <td>0.0</td>\n",
       "      <td>2.0</td>\n",
       "      <td>2006.0</td>\n",
       "      <td>WD</td>\n",
       "      <td>Abnorml</td>\n",
       "      <td>140000.0</td>\n",
       "    </tr>\n",
       "    <tr>\n",
       "      <th>4</th>\n",
       "      <td>5.0</td>\n",
       "      <td>60.0</td>\n",
       "      <td>RL</td>\n",
       "      <td>84.0</td>\n",
       "      <td>14260.0</td>\n",
       "      <td>Pave</td>\n",
       "      <td>None</td>\n",
       "      <td>IR1</td>\n",
       "      <td>Lvl</td>\n",
       "      <td>AllPub</td>\n",
       "      <td>...</td>\n",
       "      <td>0.0</td>\n",
       "      <td>None</td>\n",
       "      <td>None</td>\n",
       "      <td>None</td>\n",
       "      <td>0.0</td>\n",
       "      <td>12.0</td>\n",
       "      <td>2008.0</td>\n",
       "      <td>WD</td>\n",
       "      <td>Normal</td>\n",
       "      <td>250000.0</td>\n",
       "    </tr>\n",
       "  </tbody>\n",
       "</table>\n",
       "<p>5 rows × 81 columns</p>\n",
       "</div>"
      ],
      "text/plain": [
       "    Id  MSSubClass MSZoning  LotFrontage  LotArea Street Alley LotShape  \\\n",
       "0  1.0        60.0       RL         65.0   8450.0   Pave  None      Reg   \n",
       "1  2.0        20.0       RL         80.0   9600.0   Pave  None      Reg   \n",
       "2  3.0        60.0       RL         68.0  11250.0   Pave  None      IR1   \n",
       "3  4.0        70.0       RL         60.0   9550.0   Pave  None      IR1   \n",
       "4  5.0        60.0       RL         84.0  14260.0   Pave  None      IR1   \n",
       "\n",
       "  LandContour Utilities  ... PoolArea PoolQC Fence MiscFeature MiscVal MoSold  \\\n",
       "0         Lvl    AllPub  ...      0.0   None  None        None     0.0    2.0   \n",
       "1         Lvl    AllPub  ...      0.0   None  None        None     0.0    5.0   \n",
       "2         Lvl    AllPub  ...      0.0   None  None        None     0.0    9.0   \n",
       "3         Lvl    AllPub  ...      0.0   None  None        None     0.0    2.0   \n",
       "4         Lvl    AllPub  ...      0.0   None  None        None     0.0   12.0   \n",
       "\n",
       "   YrSold  SaleType  SaleCondition    target  \n",
       "0  2008.0        WD         Normal  208500.0  \n",
       "1  2007.0        WD         Normal  181500.0  \n",
       "2  2008.0        WD         Normal  223500.0  \n",
       "3  2006.0        WD        Abnorml  140000.0  \n",
       "4  2008.0        WD         Normal  250000.0  \n",
       "\n",
       "[5 rows x 81 columns]"
      ]
     },
     "execution_count": 92,
     "metadata": {},
     "output_type": "execute_result"
    }
   ],
   "source": [
    "#X= scaler.fit_transform(housing['data'])\n",
    "Xorig= housing['data']\n",
    "y= housing['target']\n",
    "Housing = pd.DataFrame(data=Xorig, columns=housing['feature_names'])\n",
    "Housing['target'] = y\n",
    "print(Housing.shape)\n",
    "Housing.head()"
   ]
  },
  {
   "cell_type": "code",
   "execution_count": 323,
   "metadata": {
    "ExecuteTime": {
     "end_time": "2022-11-28T06:10:35.166766Z",
     "start_time": "2022-11-28T06:10:35.063452Z"
    },
    "scrolled": true,
    "slideshow": {
     "slide_type": "subslide"
    }
   },
   "outputs": [
    {
     "name": "stdout",
     "output_type": "stream",
     "text": [
      "Id <class 'numpy.float64'> Keep\n",
      "MSSubClass <class 'numpy.float64'> Keep\n",
      "MSZoning <class 'str'> Drop\n",
      "LotFrontage <class 'numpy.float64'> Keep\n",
      "LotArea <class 'numpy.float64'> Keep\n",
      "Street <class 'str'> Drop\n",
      "Alley <class 'NoneType'> Drop\n",
      "LotShape <class 'str'> Drop\n",
      "LandContour <class 'str'> Drop\n",
      "Utilities <class 'str'> Drop\n",
      "LotConfig <class 'str'> Drop\n",
      "LandSlope <class 'str'> Drop\n",
      "Neighborhood <class 'str'> Drop\n",
      "Condition1 <class 'str'> Drop\n",
      "Condition2 <class 'str'> Drop\n",
      "BldgType <class 'str'> Drop\n",
      "HouseStyle <class 'str'> Drop\n",
      "OverallQual <class 'numpy.float64'> Keep\n",
      "OverallCond <class 'numpy.float64'> Keep\n",
      "YearBuilt <class 'numpy.float64'> Keep\n",
      "YearRemodAdd <class 'numpy.float64'> Keep\n",
      "RoofStyle <class 'str'> Drop\n",
      "RoofMatl <class 'str'> Drop\n",
      "Exterior1st <class 'str'> Drop\n",
      "Exterior2nd <class 'str'> Drop\n",
      "MasVnrType <class 'str'> Drop\n",
      "MasVnrArea <class 'numpy.float64'> Keep\n",
      "ExterQual <class 'str'> Drop\n",
      "ExterCond <class 'str'> Drop\n",
      "Foundation <class 'str'> Drop\n",
      "BsmtQual <class 'str'> Drop\n",
      "BsmtCond <class 'str'> Drop\n",
      "BsmtExposure <class 'str'> Drop\n",
      "BsmtFinType1 <class 'str'> Drop\n",
      "BsmtFinSF1 <class 'numpy.float64'> Keep\n",
      "BsmtFinType2 <class 'str'> Drop\n",
      "BsmtFinSF2 <class 'numpy.float64'> Keep\n",
      "BsmtUnfSF <class 'numpy.float64'> Keep\n",
      "TotalBsmtSF <class 'numpy.float64'> Keep\n",
      "Heating <class 'str'> Drop\n",
      "HeatingQC <class 'str'> Drop\n",
      "CentralAir <class 'str'> Drop\n",
      "Electrical <class 'str'> Drop\n",
      "1stFlrSF <class 'numpy.float64'> Keep\n",
      "2ndFlrSF <class 'numpy.float64'> Keep\n",
      "LowQualFinSF <class 'numpy.float64'> Keep\n",
      "GrLivArea <class 'numpy.float64'> Keep\n",
      "BsmtFullBath <class 'numpy.float64'> Keep\n",
      "BsmtHalfBath <class 'numpy.float64'> Keep\n",
      "FullBath <class 'numpy.float64'> Keep\n",
      "HalfBath <class 'numpy.float64'> Keep\n",
      "BedroomAbvGr <class 'numpy.float64'> Keep\n",
      "KitchenAbvGr <class 'numpy.float64'> Keep\n",
      "KitchenQual <class 'str'> Drop\n",
      "TotRmsAbvGrd <class 'numpy.float64'> Keep\n",
      "Functional <class 'str'> Drop\n",
      "Fireplaces <class 'numpy.float64'> Keep\n",
      "FireplaceQu <class 'NoneType'> Drop\n",
      "GarageType <class 'str'> Drop\n",
      "GarageYrBlt <class 'numpy.float64'> Keep\n",
      "GarageFinish <class 'str'> Drop\n",
      "GarageCars <class 'numpy.float64'> Keep\n",
      "GarageArea <class 'numpy.float64'> Keep\n",
      "GarageQual <class 'str'> Drop\n",
      "GarageCond <class 'str'> Drop\n",
      "PavedDrive <class 'str'> Drop\n",
      "WoodDeckSF <class 'numpy.float64'> Keep\n",
      "OpenPorchSF <class 'numpy.float64'> Keep\n",
      "EnclosedPorch <class 'numpy.float64'> Keep\n",
      "3SsnPorch <class 'numpy.float64'> Keep\n",
      "ScreenPorch <class 'numpy.float64'> Keep\n",
      "PoolArea <class 'numpy.float64'> Keep\n",
      "PoolQC <class 'NoneType'> Drop\n",
      "Fence <class 'NoneType'> Drop\n",
      "MiscFeature <class 'NoneType'> Drop\n",
      "MiscVal <class 'numpy.float64'> Keep\n",
      "MoSold <class 'numpy.float64'> Keep\n",
      "YrSold <class 'numpy.float64'> Keep\n",
      "SaleType <class 'str'> Drop\n",
      "SaleCondition <class 'str'> Drop\n"
     ]
    }
   ],
   "source": [
    "# Find all non-numerical columns\n",
    "Housing_num = Housing.copy()\n",
    "for column in Housing.columns:\n",
    "    if type(Housing[column][0])!=np.float64:\n",
    "        print(column, type(Housing[column][0]), \"Drop\")\n",
    "        Housing_num.drop(column, axis=1, inplace=True)\n",
    "    else:\n",
    "        print(column, type(Housing[column][0]), \"Keep\")\n",
    "        "
   ]
  },
  {
   "cell_type": "code",
   "execution_count": 325,
   "metadata": {
    "ExecuteTime": {
     "end_time": "2022-11-28T06:10:43.879015Z",
     "start_time": "2022-11-28T06:10:43.875677Z"
    },
    "slideshow": {
     "slide_type": "subslide"
    }
   },
   "outputs": [
    {
     "name": "stdout",
     "output_type": "stream",
     "text": [
      "Ask a home buyer to describe their dream house, and they probably won't begin with the height of the basement ceiling or the proximity to an east-west railroad. But this playground competition's dataset proves that much more influences price negotiations than the number of bedrooms or a white-picket fence.\n",
      "\n",
      "With 79 explanatory variables describing (almost) every aspect of residential homes in Ames, Iowa, this competition challenges you to predict the final price of each home.\n",
      "\n",
      "MSSubClass: Identifies the type of dwelling involved in the sale.\t\n",
      "\n",
      "        20\t1-STORY 1946 & NEWER ALL STYLES\n",
      "        30\t1-STORY 1945 & OLDER\n",
      "        40\t1-STORY W/FINISHED ATTIC ALL AGES\n",
      "        45\t1-1/2 STORY - UNFINISHED ALL AGES\n",
      "        50\t1-1/2 STORY FINISHED ALL AGES\n",
      "        60\t2-STORY 1946 & NEWER\n",
      "        70\t2-STORY 1945 & OLDER\n",
      "        75\t2-1/2 STORY ALL AGES\n",
      "        80\tSPLIT OR MULTI-LEVEL\n",
      "        85\tSPLIT FOYER\n",
      "        90\tDUPLEX - ALL STYLES AND AGES\n",
      "       120\t1-STORY PUD (Planned Unit Development) - 1946 & NEWER\n",
      "       150\t1-1/2 STORY PUD - ALL AGES\n",
      "       160\t2-STORY PUD - 1946 & NEWER\n",
      "       180\tPUD - MULTILEVEL - INCL SPLIT LEV/FOYER\n",
      "       190\t2 FAMILY CONVERSION - ALL STYLES AND AGES\n",
      "\n",
      "MSZoning: Identifies the general zoning classification of the sale.\n",
      "\t\t\n",
      "       A\tAgriculture\n",
      "       C\tCommercial\n",
      "       FV\tFloating Village Residential\n",
      "       I\tIndustrial\n",
      "       RH\tResidential High Density\n",
      "       RL\tResidential Low Density\n",
      "       RP\tResidential Low Density Park \n",
      "       RM\tResidential Medium Density\n",
      "\t\n",
      "LotFrontage: Linear feet of street connected to property\n",
      "\n",
      "LotArea: Lot size in square feet\n",
      "\n",
      "Street: Type of road access to property\n",
      "\n",
      "       Grvl\tGravel\t\n",
      "       Pave\tPaved\n",
      "       \t\n",
      "Alley: Type of alley access to property\n",
      "\n",
      "       Grvl\tGravel\n",
      "       Pave\tPaved\n",
      "       NA \tNo alley access\n",
      "\t\t\n",
      "LotShape: General shape of property\n",
      "\n",
      "       Reg\tRegular\t\n",
      "       IR1\tSlightly irregular\n",
      "       IR2\tModerately Irregular\n",
      "       IR3\tIrregular\n",
      "       \n",
      "LandContour: Flatness of the property\n",
      "\n",
      "       Lvl\tNear Flat/Level\t\n",
      "       Bnk\tBanked - Quick and significant rise from street grade to building\n",
      "       HLS\tHillside - Significant slope from side to side\n",
      "       Low\tDepression\n",
      "\t\t\n",
      "Utilities: Type of utilities available\n",
      "\t\t\n",
      "       AllPub\tAll public Utilities (E,G,W,& S)\t\n",
      "       NoSewr\tElectricity, Gas, and Water (Septic Tank)\n",
      "       NoSeWa\tElectricity and Gas Only\n",
      "       ELO\tElectricity only\t\n",
      "\t\n",
      "LotConfig: Lot configuration\n",
      "\n",
      "       Inside\tInside lot\n",
      "       Corner\tCorner lot\n",
      "       CulDSac\tCul-de-sac\n",
      "       FR2\tFrontage on 2 sides of property\n",
      "       FR3\tFrontage on 3 sides of property\n",
      "\t\n",
      "LandSlope: Slope of property\n",
      "\t\t\n",
      "       Gtl\tGentle slope\n",
      "       Mod\tModerate Slope\t\n",
      "       Sev\tSevere Slope\n",
      "\t\n",
      "Neighborhood: Physical locations within Ames city limits\n",
      "\n",
      "       Blmngtn\tBloomington Heights\n",
      "       Blueste\tBluestem\n",
      "       BrDale\tBriardale\n",
      "       BrkSide\tBrookside\n",
      "       ClearCr\tClear Creek\n",
      "       CollgCr\tCollege Creek\n",
      "       Crawfor\tCrawford\n",
      "       Edwards\tEdwards\n",
      "       Gilbert\tGilbert\n",
      "       IDOTRR\tIowa DOT and Rail Road\n",
      "       MeadowV\tMeadow Village\n",
      "       Mitchel\tMitchell\n",
      "       Names\tNorth Ames\n",
      "       NoRidge\tNorthridge\n",
      "       NPkVill\tNorthpark Villa\n",
      "       NridgHt\tNorthridge Heights\n",
      "       NWAmes\tNorthwest Ames\n",
      "       OldTown\tOld Town\n",
      "       SWISU\tSouth & West of Iowa State University\n",
      "       Sawyer\tSawyer\n",
      "       SawyerW\tSawyer West\n",
      "       Somerst\tSomerset\n",
      "       StoneBr\tStone Brook\n",
      "       Timber\tTimberland\n",
      "       Veenker\tVeenker\n",
      "\t\t\t\n",
      "Condition1: Proximity to various conditions\n",
      "\t\n",
      "       Artery\tAdjacent to arterial street\n",
      "       Feedr\tAdjacent to feeder street\t\n",
      "       Norm\tNormal\t\n",
      "       RRNn\tWithin 200' of North-South Railroad\n",
      "       RRAn\tAdjacent to North-South Railroad\n",
      "       PosN\tNear positive off-site feature--park, greenbelt, etc.\n",
      "       PosA\tAdjacent to postive off-site feature\n",
      "       RRNe\tWithin 200' of East-West Railroad\n",
      "       RRAe\tAdjacent to East-West Railroad\n",
      "\t\n",
      "Condition2: Proximity to various conditions (if more than one is present)\n",
      "\t\t\n",
      "       Artery\tAdjacent to arterial street\n",
      "       Feedr\tAdjacent to feeder street\t\n",
      "       Norm\tNormal\t\n",
      "       RRNn\tWithin 200' of North-South Railroad\n",
      "       RRAn\tAdjacent to North-South Railroad\n",
      "       PosN\tNear positive off-site feature--park, greenbelt, etc.\n",
      "       PosA\tAdjacent to postive off-site feature\n",
      "       RRNe\tWithin 200' of East-West Railroad\n",
      "       RRAe\tAdjacent to East-West Railroad\n",
      "\t\n",
      "BldgType: Type of dwelling\n",
      "\t\t\n",
      "       1Fam\tSingle-family Detached\t\n",
      "       2FmCon\tTwo-family Conversion; originally built as one-family dwelling\n",
      "       Duplx\tDuplex\n",
      "       TwnhsE\tTownhouse End Unit\n",
      "       TwnhsI\tTownhouse Inside Unit\n",
      "\t\n",
      "HouseStyle: Style of dwelling\n",
      "\t\n",
      "       1Story\tOne story\n",
      "       1.5Fin\tOne and one-half story: 2nd level finished\n",
      "       1.5Unf\tOne and one-half story: 2nd level unfinished\n",
      "       2Story\tTwo story\n",
      "       2.5Fin\tTwo and one-half story: 2nd level finished\n",
      "       2.5Unf\tTwo and one-half story: 2nd level unfinished\n",
      "       SFoyer\tSplit Foyer\n",
      "       SLvl\tSplit Level\n",
      "\t\n",
      "OverallQual: Rates the overall material and finish of the house\n",
      "\n",
      "       10\tVery Excellent\n",
      "       9\tExcellent\n",
      "       8\tVery Good\n",
      "       7\tGood\n",
      "       6\tAbove Average\n",
      "       5\tAverage\n",
      "       4\tBelow Average\n",
      "       3\tFair\n",
      "       2\tPoor\n",
      "       1\tVery Poor\n",
      "\t\n",
      "OverallCond: Rates the overall condition of the house\n",
      "\n",
      "       10\tVery Excellent\n",
      "       9\tExcellent\n",
      "       8\tVery Good\n",
      "       7\tGood\n",
      "       6\tAbove Average\t\n",
      "       5\tAverage\n",
      "       4\tBelow Average\t\n",
      "       3\tFair\n",
      "       2\tPoor\n",
      "       1\tVery Poor\n",
      "\t\t\n",
      "YearBuilt: Original construction date\n",
      "\n",
      "YearRemodAdd: Remodel date (same as construction date if no remodeling or additions)\n",
      "\n",
      "RoofStyle: Type of roof\n",
      "\n",
      "       Flat\tFlat\n",
      "       Gable\tGable\n",
      "       Gambrel\tGabrel (Barn)\n",
      "       Hip\tHip\n",
      "       Mansard\tMansard\n",
      "       Shed\tShed\n",
      "\t\t\n",
      "RoofMatl: Roof material\n",
      "\n",
      "       ClyTile\tClay or Tile\n",
      "       CompShg\tStandard (Composite) Shingle\n",
      "       Membran\tMembrane\n",
      "       Metal\tMetal\n",
      "       Roll\tRoll\n",
      "       Tar&Grv\tGravel & Tar\n",
      "       WdShake\tWood Shakes\n",
      "       WdShngl\tWood Shingles\n",
      "\t\t\n",
      "Exterior1st: Exterior covering on house\n",
      "\n",
      "       AsbShng\tAsbestos Shingles\n",
      "       AsphShn\tAsphalt Shingles\n",
      "       BrkComm\tBrick Common\n",
      "       BrkFace\tBrick Face\n",
      "       CBlock\tCinder Block\n",
      "       CemntBd\tCement Board\n",
      "       HdBoard\tHard Board\n",
      "       ImStucc\tImitation Stucco\n",
      "       MetalSd\tMetal Siding\n",
      "       Other\tOther\n",
      "       Plywood\tPlywood\n",
      "       PreCast\tPreCast\t\n",
      "       Stone\tStone\n",
      "       Stucco\tStucco\n",
      "       VinylSd\tVinyl Siding\n",
      "       Wd Sdng\tWood Siding\n",
      "       WdShing\tWood Shingles\n",
      "\t\n",
      "Exterior2nd: Exterior covering on house (if more than one material)\n",
      "\n",
      "       AsbShng\tAsbestos Shingles\n",
      "       AsphShn\tAsphalt Shingles\n",
      "       BrkComm\tBrick Common\n",
      "       BrkFace\tBrick Face\n",
      "       CBlock\tCinder Block\n",
      "       CemntBd\tCement Board\n",
      "       HdBoard\tHard Board\n",
      "       ImStucc\tImitation Stucco\n",
      "       MetalSd\tMetal Siding\n",
      "       Other\tOther\n",
      "       Plywood\tPlywood\n",
      "       PreCast\tPreCast\n",
      "       Stone\tStone\n",
      "       Stucco\tStucco\n",
      "       VinylSd\tVinyl Siding\n",
      "       Wd Sdng\tWood Siding\n",
      "       WdShing\tWood Shingles\n",
      "\t\n",
      "MasVnrType: Masonry veneer type\n",
      "\n",
      "       BrkCmn\tBrick Common\n",
      "       BrkFace\tBrick Face\n",
      "       CBlock\tCinder Block\n",
      "       None\tNone\n",
      "       Stone\tStone\n",
      "\t\n",
      "MasVnrArea: Masonry veneer area in square feet\n",
      "\n",
      "ExterQual: Evaluates the quality of the material on the exterior \n",
      "\t\t\n",
      "       Ex\tExcellent\n",
      "       Gd\tGood\n",
      "       TA\tAverage/Typical\n",
      "       Fa\tFair\n",
      "       Po\tPoor\n",
      "\t\t\n",
      "ExterCond: Evaluates the present condition of the material on the exterior\n",
      "\t\t\n",
      "       Ex\tExcellent\n",
      "       Gd\tGood\n",
      "       TA\tAverage/Typical\n",
      "       Fa\tFair\n",
      "       Po\tPoor\n",
      "\t\t\n",
      "Foundation: Type of foundation\n",
      "\t\t\n",
      "       BrkTil\tBrick & Tile\n",
      "       CBlock\tCinder Block\n",
      "       PConc\tPoured Contrete\t\n",
      "       Slab\tSlab\n",
      "       Stone\tStone\n",
      "       Wood\tWood\n",
      "\t\t\n",
      "BsmtQual: Evaluates the height of the basement\n",
      "\n",
      "       Ex\tExcellent (100+ inches)\t\n",
      "       Gd\tGood (90-99 inches)\n",
      "       TA\tTypical (80-89 inches)\n",
      "       Fa\tFair (70-79 inches)\n",
      "       Po\tPoor (<70 inches\n",
      "       NA\tNo Basement\n",
      "\t\t\n",
      "BsmtCond: Evaluates the general condition of the basement\n",
      "\n",
      "       Ex\tExcellent\n",
      "       Gd\tGood\n",
      "       TA\tTypical - slight dampness allowed\n",
      "       Fa\tFair - dampness or some cracking or settling\n",
      "       Po\tPoor - Severe cracking, settling, or wetness\n",
      "       NA\tNo Basement\n",
      "\t\n",
      "BsmtExposure: Refers to walkout or garden level walls\n",
      "\n",
      "       Gd\tGood Exposure\n",
      "       Av\tAverage Exposure (split levels or foyers typically score average or above)\t\n",
      "       Mn\tMimimum Exposure\n",
      "       No\tNo Exposure\n",
      "       NA\tNo Basement\n",
      "\t\n",
      "BsmtFinType1: Rating of basement finished area\n",
      "\n",
      "       GLQ\tGood Living Quarters\n",
      "       ALQ\tAverage Living Quarters\n",
      "       BLQ\tBelow Average Living Quarters\t\n",
      "       Rec\tAverage Rec Room\n",
      "       LwQ\tLow Quality\n",
      "       Unf\tUnfinshed\n",
      "       NA\tNo Basement\n",
      "\t\t\n",
      "BsmtFinSF1: Type 1 finished square feet\n",
      "\n",
      "BsmtFinType2: Rating of basement finished area (if multiple types)\n",
      "\n",
      "       GLQ\tGood Living Quarters\n",
      "       ALQ\tAverage Living Quarters\n",
      "       BLQ\tBelow Average Living Quarters\t\n",
      "       Rec\tAverage Rec Room\n",
      "       LwQ\tLow Quality\n",
      "       Unf\tUnfinshed\n",
      "       NA\tNo Basement\n",
      "\n",
      "BsmtFinSF2: Type 2 finished square feet\n",
      "\n",
      "BsmtUnfSF: Unfinished square feet of basement area\n",
      "\n",
      "TotalBsmtSF: Total square feet of basement area\n",
      "\n",
      "Heating: Type of heating\n",
      "\t\t\n",
      "       Floor\tFloor Furnace\n",
      "       GasA\tGas forced warm air furnace\n",
      "       GasW\tGas hot water or steam heat\n",
      "       Grav\tGravity furnace\t\n",
      "       OthW\tHot water or steam heat other than gas\n",
      "       Wall\tWall furnace\n",
      "\t\t\n",
      "HeatingQC: Heating quality and condition\n",
      "\n",
      "       Ex\tExcellent\n",
      "       Gd\tGood\n",
      "       TA\tAverage/Typical\n",
      "       Fa\tFair\n",
      "       Po\tPoor\n",
      "\t\t\n",
      "CentralAir: Central air conditioning\n",
      "\n",
      "       N\tNo\n",
      "       Y\tYes\n",
      "\t\t\n",
      "Electrical: Electrical system\n",
      "\n",
      "       SBrkr\tStandard Circuit Breakers & Romex\n",
      "       FuseA\tFuse Box over 60 AMP and all Romex wiring (Average)\t\n",
      "       FuseF\t60 AMP Fuse Box and mostly Romex wiring (Fair)\n",
      "       FuseP\t60 AMP Fuse Box and mostly knob & tube wiring (poor)\n",
      "       Mix\tMixed\n",
      "\t\t\n",
      "1stFlrSF: First Floor square feet\n",
      " \n",
      "2ndFlrSF: Second floor square feet\n",
      "\n",
      "LowQualFinSF: Low quality finished square feet (all floors)\n",
      "\n",
      "GrLivArea: Above grade (ground) living area square feet\n",
      "\n",
      "BsmtFullBath: Basement full bathrooms\n",
      "\n",
      "BsmtHalfBath: Basement half bathrooms\n",
      "\n",
      "FullBath: Full bathrooms above grade\n",
      "\n",
      "HalfBath: Half baths above grade\n",
      "\n",
      "Bedroom: Bedrooms above grade (does NOT include basement bedrooms)\n",
      "\n",
      "Kitchen: Kitchens above grade\n",
      "\n",
      "KitchenQual: Kitchen quality\n",
      "\n",
      "       Ex\tExcellent\n",
      "       Gd\tGood\n",
      "       TA\tTypical/Average\n",
      "       Fa\tFair\n",
      "       Po\tPoor\n",
      "       \t\n",
      "TotRmsAbvGrd: Total rooms above grade (does not include bathrooms)\n",
      "\n",
      "Functional: Home functionality (Assume typical unless deductions are warranted)\n",
      "\n",
      "       Typ\tTypical Functionality\n",
      "       Min1\tMinor Deductions 1\n",
      "       Min2\tMinor Deductions 2\n",
      "       Mod\tModerate Deductions\n",
      "       Maj1\tMajor Deductions 1\n",
      "       Maj2\tMajor Deductions 2\n",
      "       Sev\tSeverely Damaged\n",
      "       Sal\tSalvage only\n",
      "\t\t\n",
      "Fireplaces: Number of fireplaces\n",
      "\n",
      "FireplaceQu: Fireplace quality\n",
      "\n",
      "       Ex\tExcellent - Exceptional Masonry Fireplace\n",
      "       Gd\tGood - Masonry Fireplace in main level\n",
      "       TA\tAverage - Prefabricated Fireplace in main living area or Masonry Fireplace in basement\n",
      "       Fa\tFair - Prefabricated Fireplace in basement\n",
      "       Po\tPoor - Ben Franklin Stove\n",
      "       NA\tNo Fireplace\n",
      "\t\t\n",
      "GarageType: Garage location\n",
      "\t\t\n",
      "       2Types\tMore than one type of garage\n",
      "       Attchd\tAttached to home\n",
      "       Basment\tBasement Garage\n",
      "       BuiltIn\tBuilt-In (Garage part of house - typically has room above garage)\n",
      "       CarPort\tCar Port\n",
      "       Detchd\tDetached from home\n",
      "       NA\tNo Garage\n",
      "\t\t\n",
      "GarageYrBlt: Year garage was built\n",
      "\t\t\n",
      "GarageFinish: Interior finish of the garage\n",
      "\n",
      "       Fin\tFinished\n",
      "       RFn\tRough Finished\t\n",
      "       Unf\tUnfinished\n",
      "       NA\tNo Garage\n",
      "\t\t\n",
      "GarageCars: Size of garage in car capacity\n",
      "\n",
      "GarageArea: Size of garage in square feet\n",
      "\n",
      "GarageQual: Garage quality\n",
      "\n",
      "       Ex\tExcellent\n",
      "       Gd\tGood\n",
      "       TA\tTypical/Average\n",
      "       Fa\tFair\n",
      "       Po\tPoor\n",
      "       NA\tNo Garage\n",
      "\t\t\n",
      "GarageCond: Garage condition\n",
      "\n",
      "       Ex\tExcellent\n",
      "       Gd\tGood\n",
      "       TA\tTypical/Average\n",
      "       Fa\tFair\n",
      "       Po\tPoor\n",
      "       NA\tNo Garage\n",
      "\t\t\n",
      "PavedDrive: Paved driveway\n",
      "\n",
      "       Y\tPaved \n",
      "       P\tPartial Pavement\n",
      "       N\tDirt/Gravel\n",
      "\t\t\n",
      "WoodDeckSF: Wood deck area in square feet\n",
      "\n",
      "OpenPorchSF: Open porch area in square feet\n",
      "\n",
      "EnclosedPorch: Enclosed porch area in square feet\n",
      "\n",
      "3SsnPorch: Three season porch area in square feet\n",
      "\n",
      "ScreenPorch: Screen porch area in square feet\n",
      "\n",
      "PoolArea: Pool area in square feet\n",
      "\n",
      "PoolQC: Pool quality\n",
      "\t\t\n",
      "       Ex\tExcellent\n",
      "       Gd\tGood\n",
      "       TA\tAverage/Typical\n",
      "       Fa\tFair\n",
      "       NA\tNo Pool\n",
      "\t\t\n",
      "Fence: Fence quality\n",
      "\t\t\n",
      "       GdPrv\tGood Privacy\n",
      "       MnPrv\tMinimum Privacy\n",
      "       GdWo\tGood Wood\n",
      "       MnWw\tMinimum Wood/Wire\n",
      "       NA\tNo Fence\n",
      "\t\n",
      "MiscFeature: Miscellaneous feature not covered in other categories\n",
      "\t\t\n",
      "       Elev\tElevator\n",
      "       Gar2\t2nd Garage (if not described in garage section)\n",
      "       Othr\tOther\n",
      "       Shed\tShed (over 100 SF)\n",
      "       TenC\tTennis Court\n",
      "       NA\tNone\n",
      "\t\t\n",
      "MiscVal: $Value of miscellaneous feature\n",
      "\n",
      "MoSold: Month Sold (MM)\n",
      "\n",
      "YrSold: Year Sold (YYYY)\n",
      "\n",
      "SaleType: Type of sale\n",
      "\t\t\n",
      "       WD \tWarranty Deed - Conventional\n",
      "       CWD\tWarranty Deed - Cash\n",
      "       VWD\tWarranty Deed - VA Loan\n",
      "       New\tHome just constructed and sold\n",
      "       COD\tCourt Officer Deed/Estate\n",
      "       Con\tContract 15% Down payment regular terms\n",
      "       ConLw\tContract Low Down payment and low interest\n",
      "       ConLI\tContract Low Interest\n",
      "       ConLD\tContract Low Down\n",
      "       Oth\tOther\n",
      "\t\t\n",
      "SaleCondition: Condition of sale\n",
      "\n",
      "       Normal\tNormal Sale\n",
      "       Abnorml\tAbnormal Sale -  trade, foreclosure, short sale\n",
      "       AdjLand\tAdjoining Land Purchase\n",
      "       Alloca\tAllocation - two linked properties with separate deeds, typically condo with a garage unit\t\n",
      "       Family\tSale between family members\n",
      "       Partial\tHome was not completed when last assessed (associated with New Homes)\n",
      "\n",
      "Downloaded from openml.org.\n"
     ]
    }
   ],
   "source": [
    "print(housing['DESCR'])"
   ]
  },
  {
   "cell_type": "code",
   "execution_count": 326,
   "metadata": {
    "ExecuteTime": {
     "end_time": "2022-11-28T06:11:23.369961Z",
     "start_time": "2022-11-28T06:11:23.288890Z"
    },
    "slideshow": {
     "slide_type": "subslide"
    }
   },
   "outputs": [
    {
     "data": {
      "text/html": [
       "<div>\n",
       "<style scoped>\n",
       "    .dataframe tbody tr th:only-of-type {\n",
       "        vertical-align: middle;\n",
       "    }\n",
       "\n",
       "    .dataframe tbody tr th {\n",
       "        vertical-align: top;\n",
       "    }\n",
       "\n",
       "    .dataframe thead th {\n",
       "        text-align: right;\n",
       "    }\n",
       "</style>\n",
       "<table border=\"1\" class=\"dataframe\">\n",
       "  <thead>\n",
       "    <tr style=\"text-align: right;\">\n",
       "      <th></th>\n",
       "      <th>Id</th>\n",
       "      <th>LotFrontage</th>\n",
       "      <th>LotArea</th>\n",
       "      <th>OverallQual</th>\n",
       "      <th>OverallCond</th>\n",
       "      <th>YearBuilt</th>\n",
       "      <th>YearRemodAdd</th>\n",
       "      <th>BsmtFinSF1</th>\n",
       "      <th>BsmtFinSF2</th>\n",
       "      <th>BsmtUnfSF</th>\n",
       "      <th>...</th>\n",
       "      <th>GarageYrBlt</th>\n",
       "      <th>GarageCars</th>\n",
       "      <th>GarageArea</th>\n",
       "      <th>WoodDeckSF</th>\n",
       "      <th>OpenPorchSF</th>\n",
       "      <th>EnclosedPorch</th>\n",
       "      <th>3SsnPorch</th>\n",
       "      <th>ScreenPorch</th>\n",
       "      <th>PoolArea</th>\n",
       "      <th>YrSold</th>\n",
       "    </tr>\n",
       "  </thead>\n",
       "  <tbody>\n",
       "    <tr>\n",
       "      <th>0</th>\n",
       "      <td>1.0</td>\n",
       "      <td>65.0</td>\n",
       "      <td>8450.0</td>\n",
       "      <td>7.0</td>\n",
       "      <td>5.0</td>\n",
       "      <td>2003.0</td>\n",
       "      <td>2003.0</td>\n",
       "      <td>706.0</td>\n",
       "      <td>0.0</td>\n",
       "      <td>150.0</td>\n",
       "      <td>...</td>\n",
       "      <td>2003.0</td>\n",
       "      <td>2.0</td>\n",
       "      <td>548.0</td>\n",
       "      <td>0.0</td>\n",
       "      <td>61.0</td>\n",
       "      <td>0.0</td>\n",
       "      <td>0.0</td>\n",
       "      <td>0.0</td>\n",
       "      <td>0.0</td>\n",
       "      <td>2008.0</td>\n",
       "    </tr>\n",
       "    <tr>\n",
       "      <th>1</th>\n",
       "      <td>2.0</td>\n",
       "      <td>80.0</td>\n",
       "      <td>9600.0</td>\n",
       "      <td>6.0</td>\n",
       "      <td>8.0</td>\n",
       "      <td>1976.0</td>\n",
       "      <td>1976.0</td>\n",
       "      <td>978.0</td>\n",
       "      <td>0.0</td>\n",
       "      <td>284.0</td>\n",
       "      <td>...</td>\n",
       "      <td>1976.0</td>\n",
       "      <td>2.0</td>\n",
       "      <td>460.0</td>\n",
       "      <td>298.0</td>\n",
       "      <td>0.0</td>\n",
       "      <td>0.0</td>\n",
       "      <td>0.0</td>\n",
       "      <td>0.0</td>\n",
       "      <td>0.0</td>\n",
       "      <td>2007.0</td>\n",
       "    </tr>\n",
       "    <tr>\n",
       "      <th>2</th>\n",
       "      <td>3.0</td>\n",
       "      <td>68.0</td>\n",
       "      <td>11250.0</td>\n",
       "      <td>7.0</td>\n",
       "      <td>5.0</td>\n",
       "      <td>2001.0</td>\n",
       "      <td>2002.0</td>\n",
       "      <td>486.0</td>\n",
       "      <td>0.0</td>\n",
       "      <td>434.0</td>\n",
       "      <td>...</td>\n",
       "      <td>2001.0</td>\n",
       "      <td>2.0</td>\n",
       "      <td>608.0</td>\n",
       "      <td>0.0</td>\n",
       "      <td>42.0</td>\n",
       "      <td>0.0</td>\n",
       "      <td>0.0</td>\n",
       "      <td>0.0</td>\n",
       "      <td>0.0</td>\n",
       "      <td>2008.0</td>\n",
       "    </tr>\n",
       "    <tr>\n",
       "      <th>3</th>\n",
       "      <td>4.0</td>\n",
       "      <td>60.0</td>\n",
       "      <td>9550.0</td>\n",
       "      <td>7.0</td>\n",
       "      <td>5.0</td>\n",
       "      <td>1915.0</td>\n",
       "      <td>1970.0</td>\n",
       "      <td>216.0</td>\n",
       "      <td>0.0</td>\n",
       "      <td>540.0</td>\n",
       "      <td>...</td>\n",
       "      <td>1998.0</td>\n",
       "      <td>3.0</td>\n",
       "      <td>642.0</td>\n",
       "      <td>0.0</td>\n",
       "      <td>35.0</td>\n",
       "      <td>272.0</td>\n",
       "      <td>0.0</td>\n",
       "      <td>0.0</td>\n",
       "      <td>0.0</td>\n",
       "      <td>2006.0</td>\n",
       "    </tr>\n",
       "    <tr>\n",
       "      <th>4</th>\n",
       "      <td>5.0</td>\n",
       "      <td>84.0</td>\n",
       "      <td>14260.0</td>\n",
       "      <td>8.0</td>\n",
       "      <td>5.0</td>\n",
       "      <td>2000.0</td>\n",
       "      <td>2000.0</td>\n",
       "      <td>655.0</td>\n",
       "      <td>0.0</td>\n",
       "      <td>490.0</td>\n",
       "      <td>...</td>\n",
       "      <td>2000.0</td>\n",
       "      <td>3.0</td>\n",
       "      <td>836.0</td>\n",
       "      <td>192.0</td>\n",
       "      <td>84.0</td>\n",
       "      <td>0.0</td>\n",
       "      <td>0.0</td>\n",
       "      <td>0.0</td>\n",
       "      <td>0.0</td>\n",
       "      <td>2008.0</td>\n",
       "    </tr>\n",
       "  </tbody>\n",
       "</table>\n",
       "<p>5 rows × 33 columns</p>\n",
       "</div>"
      ],
      "text/plain": [
       "    Id  LotFrontage  LotArea  OverallQual  OverallCond  YearBuilt  \\\n",
       "0  1.0         65.0   8450.0          7.0          5.0     2003.0   \n",
       "1  2.0         80.0   9600.0          6.0          8.0     1976.0   \n",
       "2  3.0         68.0  11250.0          7.0          5.0     2001.0   \n",
       "3  4.0         60.0   9550.0          7.0          5.0     1915.0   \n",
       "4  5.0         84.0  14260.0          8.0          5.0     2000.0   \n",
       "\n",
       "   YearRemodAdd  BsmtFinSF1  BsmtFinSF2  BsmtUnfSF  ...  GarageYrBlt  \\\n",
       "0        2003.0       706.0         0.0      150.0  ...       2003.0   \n",
       "1        1976.0       978.0         0.0      284.0  ...       1976.0   \n",
       "2        2002.0       486.0         0.0      434.0  ...       2001.0   \n",
       "3        1970.0       216.0         0.0      540.0  ...       1998.0   \n",
       "4        2000.0       655.0         0.0      490.0  ...       2000.0   \n",
       "\n",
       "   GarageCars  GarageArea  WoodDeckSF  OpenPorchSF  EnclosedPorch  3SsnPorch  \\\n",
       "0         2.0       548.0         0.0         61.0            0.0        0.0   \n",
       "1         2.0       460.0       298.0          0.0            0.0        0.0   \n",
       "2         2.0       608.0         0.0         42.0            0.0        0.0   \n",
       "3         3.0       642.0         0.0         35.0          272.0        0.0   \n",
       "4         3.0       836.0       192.0         84.0            0.0        0.0   \n",
       "\n",
       "   ScreenPorch  PoolArea  YrSold  \n",
       "0          0.0       0.0  2008.0  \n",
       "1          0.0       0.0  2007.0  \n",
       "2          0.0       0.0  2008.0  \n",
       "3          0.0       0.0  2006.0  \n",
       "4          0.0       0.0  2008.0  \n",
       "\n",
       "[5 rows x 33 columns]"
      ]
     },
     "execution_count": 326,
     "metadata": {},
     "output_type": "execute_result"
    }
   ],
   "source": [
    " # Categorical fields\n",
    "categorical_features=[\"MSSubClass\", \"MSZoning\", \"Street\", \"Alley\", \"LotShape\", \"LandContour\", \n",
    "                     \"Utilities\", \"LotConfig\", \"LandSlope\", \"Neighborhood\", \"Condition1\", \n",
    "                     \"Condition2\", \"BldgType\", \"HouseStyle\", \"RoofStyle\", \"RoofMatl\", \"Exterior1st\", \n",
    "                     \"Exterior2nd\", \"MasVnrType\", \"MasVnrArea\", \"ExterQual\", \"ExterCond\", \"Foundation\", \n",
    "                     \"BsmtQual\", \"BsmtCond\", \"BsmtExposure\", \"BsmtFinType1\", \"BsmtFinType2\", \"Heating\", \n",
    "                     \"HeatingQC\", \"CentralAir\", \"Electrical\", \"KitchenQual\", \"Functional\", \"FireplaceQu\", \n",
    "                     \"GarageType\", \"GarageFinish\", \"GarageQual\", \"GarageCond\", \"PavedDrive\", \"PoolQC\", \n",
    "                     \"Fence\", \"MiscFeature\", \"MiscVal\", \"MoSold\", \"SaleCondition\", \"SaleType\"]\n",
    "\n",
    "# Remove categorical features, since OLS cannot use them\n",
    "Housing_noncat = Housing.copy()\n",
    "for column in categorical_features:\n",
    "    Housing_noncat.drop(column, axis=1, inplace=True)\n",
    "\n",
    "Housing_noncat.head()"
   ]
  },
  {
   "cell_type": "code",
   "execution_count": 208,
   "metadata": {
    "ExecuteTime": {
     "end_time": "2022-11-27T21:17:23.688945Z",
     "start_time": "2022-11-27T21:17:23.624026Z"
    },
    "slideshow": {
     "slide_type": "subslide"
    }
   },
   "outputs": [
    {
     "data": {
      "text/html": [
       "<div>\n",
       "<style scoped>\n",
       "    .dataframe tbody tr th:only-of-type {\n",
       "        vertical-align: middle;\n",
       "    }\n",
       "\n",
       "    .dataframe tbody tr th {\n",
       "        vertical-align: top;\n",
       "    }\n",
       "\n",
       "    .dataframe thead th {\n",
       "        text-align: right;\n",
       "    }\n",
       "</style>\n",
       "<table border=\"1\" class=\"dataframe\">\n",
       "  <thead>\n",
       "    <tr style=\"text-align: right;\">\n",
       "      <th></th>\n",
       "      <th>Id</th>\n",
       "      <th>LotFrontage</th>\n",
       "      <th>LotArea</th>\n",
       "      <th>OverallQual</th>\n",
       "      <th>OverallCond</th>\n",
       "      <th>YearBuilt</th>\n",
       "      <th>YearRemodAdd</th>\n",
       "      <th>BsmtFinSF1</th>\n",
       "      <th>BsmtFinSF2</th>\n",
       "      <th>BsmtUnfSF</th>\n",
       "      <th>...</th>\n",
       "      <th>GarageYrBlt</th>\n",
       "      <th>GarageCars</th>\n",
       "      <th>GarageArea</th>\n",
       "      <th>WoodDeckSF</th>\n",
       "      <th>OpenPorchSF</th>\n",
       "      <th>EnclosedPorch</th>\n",
       "      <th>3SsnPorch</th>\n",
       "      <th>ScreenPorch</th>\n",
       "      <th>PoolArea</th>\n",
       "      <th>YrSold</th>\n",
       "    </tr>\n",
       "  </thead>\n",
       "  <tbody>\n",
       "    <tr>\n",
       "      <th>count</th>\n",
       "      <td>1460.000000</td>\n",
       "      <td>1201.000000</td>\n",
       "      <td>1460.000000</td>\n",
       "      <td>1460.000000</td>\n",
       "      <td>1460.000000</td>\n",
       "      <td>1460.000000</td>\n",
       "      <td>1460.000000</td>\n",
       "      <td>1460.000000</td>\n",
       "      <td>1460.000000</td>\n",
       "      <td>1460.000000</td>\n",
       "      <td>...</td>\n",
       "      <td>1379.000000</td>\n",
       "      <td>1460.000000</td>\n",
       "      <td>1460.000000</td>\n",
       "      <td>1460.000000</td>\n",
       "      <td>1460.000000</td>\n",
       "      <td>1460.000000</td>\n",
       "      <td>1460.000000</td>\n",
       "      <td>1460.000000</td>\n",
       "      <td>1460.000000</td>\n",
       "      <td>1460.000000</td>\n",
       "    </tr>\n",
       "    <tr>\n",
       "      <th>mean</th>\n",
       "      <td>730.500000</td>\n",
       "      <td>70.049958</td>\n",
       "      <td>10516.828082</td>\n",
       "      <td>6.099315</td>\n",
       "      <td>5.575342</td>\n",
       "      <td>1971.267808</td>\n",
       "      <td>1984.865753</td>\n",
       "      <td>443.639726</td>\n",
       "      <td>46.549315</td>\n",
       "      <td>567.240411</td>\n",
       "      <td>...</td>\n",
       "      <td>1978.506164</td>\n",
       "      <td>1.767123</td>\n",
       "      <td>472.980137</td>\n",
       "      <td>94.244521</td>\n",
       "      <td>46.660274</td>\n",
       "      <td>21.954110</td>\n",
       "      <td>3.409589</td>\n",
       "      <td>15.060959</td>\n",
       "      <td>2.758904</td>\n",
       "      <td>2007.815753</td>\n",
       "    </tr>\n",
       "    <tr>\n",
       "      <th>std</th>\n",
       "      <td>421.610009</td>\n",
       "      <td>24.284752</td>\n",
       "      <td>9981.264932</td>\n",
       "      <td>1.382997</td>\n",
       "      <td>1.112799</td>\n",
       "      <td>30.202904</td>\n",
       "      <td>20.645407</td>\n",
       "      <td>456.098091</td>\n",
       "      <td>161.319273</td>\n",
       "      <td>441.866955</td>\n",
       "      <td>...</td>\n",
       "      <td>24.689725</td>\n",
       "      <td>0.747315</td>\n",
       "      <td>213.804841</td>\n",
       "      <td>125.338794</td>\n",
       "      <td>66.256028</td>\n",
       "      <td>61.119149</td>\n",
       "      <td>29.317331</td>\n",
       "      <td>55.757415</td>\n",
       "      <td>40.177307</td>\n",
       "      <td>1.328095</td>\n",
       "    </tr>\n",
       "    <tr>\n",
       "      <th>min</th>\n",
       "      <td>1.000000</td>\n",
       "      <td>21.000000</td>\n",
       "      <td>1300.000000</td>\n",
       "      <td>1.000000</td>\n",
       "      <td>1.000000</td>\n",
       "      <td>1872.000000</td>\n",
       "      <td>1950.000000</td>\n",
       "      <td>0.000000</td>\n",
       "      <td>0.000000</td>\n",
       "      <td>0.000000</td>\n",
       "      <td>...</td>\n",
       "      <td>1900.000000</td>\n",
       "      <td>0.000000</td>\n",
       "      <td>0.000000</td>\n",
       "      <td>0.000000</td>\n",
       "      <td>0.000000</td>\n",
       "      <td>0.000000</td>\n",
       "      <td>0.000000</td>\n",
       "      <td>0.000000</td>\n",
       "      <td>0.000000</td>\n",
       "      <td>2006.000000</td>\n",
       "    </tr>\n",
       "    <tr>\n",
       "      <th>25%</th>\n",
       "      <td>365.750000</td>\n",
       "      <td>59.000000</td>\n",
       "      <td>7553.500000</td>\n",
       "      <td>5.000000</td>\n",
       "      <td>5.000000</td>\n",
       "      <td>1954.000000</td>\n",
       "      <td>1967.000000</td>\n",
       "      <td>0.000000</td>\n",
       "      <td>0.000000</td>\n",
       "      <td>223.000000</td>\n",
       "      <td>...</td>\n",
       "      <td>1961.000000</td>\n",
       "      <td>1.000000</td>\n",
       "      <td>334.500000</td>\n",
       "      <td>0.000000</td>\n",
       "      <td>0.000000</td>\n",
       "      <td>0.000000</td>\n",
       "      <td>0.000000</td>\n",
       "      <td>0.000000</td>\n",
       "      <td>0.000000</td>\n",
       "      <td>2007.000000</td>\n",
       "    </tr>\n",
       "    <tr>\n",
       "      <th>50%</th>\n",
       "      <td>730.500000</td>\n",
       "      <td>69.000000</td>\n",
       "      <td>9478.500000</td>\n",
       "      <td>6.000000</td>\n",
       "      <td>5.000000</td>\n",
       "      <td>1973.000000</td>\n",
       "      <td>1994.000000</td>\n",
       "      <td>383.500000</td>\n",
       "      <td>0.000000</td>\n",
       "      <td>477.500000</td>\n",
       "      <td>...</td>\n",
       "      <td>1980.000000</td>\n",
       "      <td>2.000000</td>\n",
       "      <td>480.000000</td>\n",
       "      <td>0.000000</td>\n",
       "      <td>25.000000</td>\n",
       "      <td>0.000000</td>\n",
       "      <td>0.000000</td>\n",
       "      <td>0.000000</td>\n",
       "      <td>0.000000</td>\n",
       "      <td>2008.000000</td>\n",
       "    </tr>\n",
       "    <tr>\n",
       "      <th>75%</th>\n",
       "      <td>1095.250000</td>\n",
       "      <td>80.000000</td>\n",
       "      <td>11601.500000</td>\n",
       "      <td>7.000000</td>\n",
       "      <td>6.000000</td>\n",
       "      <td>2000.000000</td>\n",
       "      <td>2004.000000</td>\n",
       "      <td>712.250000</td>\n",
       "      <td>0.000000</td>\n",
       "      <td>808.000000</td>\n",
       "      <td>...</td>\n",
       "      <td>2002.000000</td>\n",
       "      <td>2.000000</td>\n",
       "      <td>576.000000</td>\n",
       "      <td>168.000000</td>\n",
       "      <td>68.000000</td>\n",
       "      <td>0.000000</td>\n",
       "      <td>0.000000</td>\n",
       "      <td>0.000000</td>\n",
       "      <td>0.000000</td>\n",
       "      <td>2009.000000</td>\n",
       "    </tr>\n",
       "    <tr>\n",
       "      <th>max</th>\n",
       "      <td>1460.000000</td>\n",
       "      <td>313.000000</td>\n",
       "      <td>215245.000000</td>\n",
       "      <td>10.000000</td>\n",
       "      <td>9.000000</td>\n",
       "      <td>2010.000000</td>\n",
       "      <td>2010.000000</td>\n",
       "      <td>5644.000000</td>\n",
       "      <td>1474.000000</td>\n",
       "      <td>2336.000000</td>\n",
       "      <td>...</td>\n",
       "      <td>2010.000000</td>\n",
       "      <td>4.000000</td>\n",
       "      <td>1418.000000</td>\n",
       "      <td>857.000000</td>\n",
       "      <td>547.000000</td>\n",
       "      <td>552.000000</td>\n",
       "      <td>508.000000</td>\n",
       "      <td>480.000000</td>\n",
       "      <td>738.000000</td>\n",
       "      <td>2010.000000</td>\n",
       "    </tr>\n",
       "  </tbody>\n",
       "</table>\n",
       "<p>8 rows × 33 columns</p>\n",
       "</div>"
      ],
      "text/plain": [
       "                Id  LotFrontage        LotArea  OverallQual  OverallCond  \\\n",
       "count  1460.000000  1201.000000    1460.000000  1460.000000  1460.000000   \n",
       "mean    730.500000    70.049958   10516.828082     6.099315     5.575342   \n",
       "std     421.610009    24.284752    9981.264932     1.382997     1.112799   \n",
       "min       1.000000    21.000000    1300.000000     1.000000     1.000000   \n",
       "25%     365.750000    59.000000    7553.500000     5.000000     5.000000   \n",
       "50%     730.500000    69.000000    9478.500000     6.000000     5.000000   \n",
       "75%    1095.250000    80.000000   11601.500000     7.000000     6.000000   \n",
       "max    1460.000000   313.000000  215245.000000    10.000000     9.000000   \n",
       "\n",
       "         YearBuilt  YearRemodAdd   BsmtFinSF1   BsmtFinSF2    BsmtUnfSF  ...  \\\n",
       "count  1460.000000   1460.000000  1460.000000  1460.000000  1460.000000  ...   \n",
       "mean   1971.267808   1984.865753   443.639726    46.549315   567.240411  ...   \n",
       "std      30.202904     20.645407   456.098091   161.319273   441.866955  ...   \n",
       "min    1872.000000   1950.000000     0.000000     0.000000     0.000000  ...   \n",
       "25%    1954.000000   1967.000000     0.000000     0.000000   223.000000  ...   \n",
       "50%    1973.000000   1994.000000   383.500000     0.000000   477.500000  ...   \n",
       "75%    2000.000000   2004.000000   712.250000     0.000000   808.000000  ...   \n",
       "max    2010.000000   2010.000000  5644.000000  1474.000000  2336.000000  ...   \n",
       "\n",
       "       GarageYrBlt   GarageCars   GarageArea   WoodDeckSF  OpenPorchSF  \\\n",
       "count  1379.000000  1460.000000  1460.000000  1460.000000  1460.000000   \n",
       "mean   1978.506164     1.767123   472.980137    94.244521    46.660274   \n",
       "std      24.689725     0.747315   213.804841   125.338794    66.256028   \n",
       "min    1900.000000     0.000000     0.000000     0.000000     0.000000   \n",
       "25%    1961.000000     1.000000   334.500000     0.000000     0.000000   \n",
       "50%    1980.000000     2.000000   480.000000     0.000000    25.000000   \n",
       "75%    2002.000000     2.000000   576.000000   168.000000    68.000000   \n",
       "max    2010.000000     4.000000  1418.000000   857.000000   547.000000   \n",
       "\n",
       "       EnclosedPorch    3SsnPorch  ScreenPorch     PoolArea       YrSold  \n",
       "count    1460.000000  1460.000000  1460.000000  1460.000000  1460.000000  \n",
       "mean       21.954110     3.409589    15.060959     2.758904  2007.815753  \n",
       "std        61.119149    29.317331    55.757415    40.177307     1.328095  \n",
       "min         0.000000     0.000000     0.000000     0.000000  2006.000000  \n",
       "25%         0.000000     0.000000     0.000000     0.000000  2007.000000  \n",
       "50%         0.000000     0.000000     0.000000     0.000000  2008.000000  \n",
       "75%         0.000000     0.000000     0.000000     0.000000  2009.000000  \n",
       "max       552.000000   508.000000   480.000000   738.000000  2010.000000  \n",
       "\n",
       "[8 rows x 33 columns]"
      ]
     },
     "execution_count": 208,
     "metadata": {},
     "output_type": "execute_result"
    }
   ],
   "source": [
    "Housing_noncat.describe()"
   ]
  },
  {
   "cell_type": "code",
   "execution_count": 209,
   "metadata": {
    "ExecuteTime": {
     "end_time": "2022-11-27T21:17:26.691918Z",
     "start_time": "2022-11-27T21:17:26.688531Z"
    },
    "slideshow": {
     "slide_type": "subslide"
    }
   },
   "outputs": [],
   "source": [
    "# Replace not a numbers\n",
    "Housing_noncat.LotFrontage.fillna(value=0, inplace=True)\n",
    "mean_garage_year = Housing_noncat.GarageYrBlt.mean()\n",
    "Housing_noncat.GarageYrBlt.fillna(value=mean_garage_year, inplace=True)"
   ]
  },
  {
   "cell_type": "code",
   "execution_count": 301,
   "metadata": {
    "ExecuteTime": {
     "end_time": "2022-11-27T21:36:37.229080Z",
     "start_time": "2022-11-27T21:36:37.225319Z"
    },
    "slideshow": {
     "slide_type": "subslide"
    }
   },
   "outputs": [],
   "source": [
    "X= scaler.fit_transform(Housing_noncat.values)\n",
    "y=housing['target']\n"
   ]
  },
  {
   "cell_type": "code",
   "execution_count": 350,
   "metadata": {
    "ExecuteTime": {
     "end_time": "2022-11-28T06:29:44.458450Z",
     "start_time": "2022-11-28T06:29:44.052754Z"
    },
    "slideshow": {
     "slide_type": "subslide"
    }
   },
   "outputs": [
    {
     "name": "stdout",
     "output_type": "stream",
     "text": [
      "CV score.......... 0.7795\n",
      "Training score.... 0.8047\n",
      "Training RMSE.....  35093\n"
     ]
    },
    {
     "data": {
      "image/png": "[encoded data removed]",
      "text/plain": [
       "<Figure size 432x288 with 1 Axes>"
      ]
     },
     "metadata": {
      "needs_background": "light"
     },
     "output_type": "display_data"
    }
   ],
   "source": [
    "# Ordinary Linear Regression First\n",
    "lr=LinearRegression().fit(X,y)\n",
    "yhat=lr.predict(X)\n",
    "\n",
    "# Cross_val_score and score are coefficient of determinations, R^2\n",
    "RsquaredCV=cross_val_score(lr, X, y, cv=5).mean()\n",
    "RsquaredTR=lr.score(X,y)\n",
    "\n",
    "sns.regplot(x=y,y=yhat, line_kws={\"color\": \"red\"})\n",
    "plt.xlabel('True price')\n",
    "plt.ylabel('Predicted price')\n",
    "plt.title('Coefficient of determination, $R^2$=%3.2f' % RsquaredCV)\n",
    "print(\"CV score.......... %6.4f\" % RsquaredCV)\n",
    "print(\"Training score.... %6.4f\" % RsquaredTR)\n",
    "print(\"Training RMSE..... %6d\" % rmse(yhat,y))"
   ]
  },
  {
   "cell_type": "code",
   "execution_count": 354,
   "metadata": {
    "ExecuteTime": {
     "end_time": "2022-11-28T06:31:18.146809Z",
     "start_time": "2022-11-28T06:31:17.785747Z"
    },
    "slideshow": {
     "slide_type": "subslide"
    }
   },
   "outputs": [
    {
     "name": "stdout",
     "output_type": "stream",
     "text": [
      "CV score.......... 0.7850\n",
      "Training score.... 0.8023\n",
      "Training RMSE.....  35310\n"
     ]
    },
    {
     "data": {
      "image/png": "[encoded data removed]",
      "text/plain": [
       "<Figure size 432x288 with 1 Axes>"
      ]
     },
     "metadata": {
      "needs_background": "light"
     },
     "output_type": "display_data"
    }
   ],
   "source": [
    "# Then L2 regularized Ridge Regression\n",
    "rr=Ridge(alpha=170).fit(X,y)\n",
    "yhat=rr.predict(X)\n",
    "RsquaredCV=cross_val_score(rr, X, y, cv=5).mean()\n",
    "RsquaredTR=rr.score(X,y)\n",
    "\n",
    "sns.regplot(x=y,y=yhat, line_kws={\"color\": \"red\"})\n",
    "plt.xlabel('True price')\n",
    "plt.ylabel('Predicted price')\n",
    "plt.title('Coefficient of determination, $R^2$=%3.2f' % RsquaredCV)\n",
    "print(\"CV score.......... %6.4f\" % RsquaredCV)\n",
    "print(\"Training score.... %6.4f\" % RsquaredTR)\n",
    "print(\"Training RMSE..... %6d\" % rmse(yhat,y))"
   ]
  },
  {
   "cell_type": "code",
   "execution_count": 370,
   "metadata": {
    "ExecuteTime": {
     "end_time": "2022-11-28T06:35:54.841779Z",
     "start_time": "2022-11-28T06:35:54.481898Z"
    },
    "slideshow": {
     "slide_type": "subslide"
    }
   },
   "outputs": [
    {
     "name": "stdout",
     "output_type": "stream",
     "text": [
      "CV score.......... 0.7759\n",
      "Training score.... 0.7948\n",
      "Training RMSE.....  35972\n"
     ]
    },
    {
     "data": {
      "image/png": "[encoded data removed]",
      "text/plain": [
       "<Figure size 432x288 with 1 Axes>"
      ]
     },
     "metadata": {
      "needs_background": "light"
     },
     "output_type": "display_data"
    }
   ],
   "source": [
    "# L1 regularized Lasso Regerssion\n",
    "la=Lasso(alpha=2000).fit(X,y)\n",
    "yhat=la.predict(X)\n",
    "RsquaredCV=cross_val_score(la, X, y, cv=5).mean()\n",
    "RsquaredTR=la.score(X,y)\n",
    "\n",
    "sns.regplot(x=y, y=yhat, line_kws={\"color\": \"red\"})\n",
    "plt.xlabel('True price')\n",
    "plt.ylabel('Predicted price')\n",
    "plt.title('Coefficient of determination, $R^2$=%3.2f' % RsquaredCV)\n",
    "print(\"CV score.......... %6.4f\" % RsquaredCV)\n",
    "print(\"Training score.... %6.4f\" % RsquaredTR)\n",
    "print(\"Training RMSE..... %6d\" % rmse(yhat,y))"
   ]
  },
  {
   "cell_type": "code",
   "execution_count": 358,
   "metadata": {
    "ExecuteTime": {
     "end_time": "2022-11-28T06:32:59.124629Z",
     "start_time": "2022-11-28T06:32:58.755134Z"
    },
    "slideshow": {
     "slide_type": "subslide"
    }
   },
   "outputs": [
    {
     "name": "stdout",
     "output_type": "stream",
     "text": [
      "CV score.......... 0.7770\n",
      "Training score.... 0.7858\n",
      "Training RMSE.....  36758\n"
     ]
    },
    {
     "data": {
      "image/png": "[encoded data removed]",
      "text/plain": [
       "<Figure size 432x288 with 1 Axes>"
      ]
     },
     "metadata": {
      "needs_background": "light"
     },
     "output_type": "display_data"
    }
   ],
   "source": [
    "# L2 + L1 regularized Elastic Net\n",
    "en=ElasticNet(alpha=6, l1_ratio=0.9).fit(X,y)\n",
    "yhat=en.predict(X)\n",
    "RsquaredCV=cross_val_score(en, X, y, cv=5).mean()\n",
    "RsquaredTR=en.score(X,y)\n",
    "\n",
    "sns.regplot(x=y, y=yhat, line_kws={\"color\": \"red\"})\n",
    "plt.xlabel('True price')\n",
    "plt.ylabel('Predicted price')\n",
    "plt.title('Coefficient of determination, $R^2$=%3.2f' % RsquaredCV)\n",
    "print(\"CV score.......... %6.4f\" % RsquaredCV)\n",
    "print(\"Training score.... %6.4f\" % RsquaredTR)\n",
    "print(\"Training RMSE..... %6d\" % rmse(yhat,y))"
   ]
  },
  {
   "cell_type": "code",
   "execution_count": 401,
   "metadata": {
    "ExecuteTime": {
     "end_time": "2022-11-28T06:53:25.356386Z",
     "start_time": "2022-11-28T06:53:24.174274Z"
    },
    "slideshow": {
     "slide_type": "subslide"
    }
   },
   "outputs": [
    {
     "name": "stdout",
     "output_type": "stream",
     "text": [
      "CV score.......... 0.7803\n",
      "Training score.... 0.7858\n",
      "Training RMSE.....  35426\n",
      "alpha=1.579592, L1-ratio=0.900000\n"
     ]
    },
    {
     "data": {
      "image/png": "[encoded data removed]",
      "text/plain": [
       "<Figure size 432x288 with 1 Axes>"
      ]
     },
     "metadata": {
      "needs_background": "light"
     },
     "output_type": "display_data"
    }
   ],
   "source": [
    "# Lets use Elastic Net for selecting the most relevant features\n",
    "#model = LassoCV(cv=5).fit(X,y)\n",
    "model = ElasticNetCV(cv=5, alphas=np.linspace(0.1,3), l1_ratio=0.9).fit(X,y)\n",
    "yhat=model.predict(X)\n",
    "RsquaredCV=cross_val_score(model, X, y, cv=5).mean()\n",
    "RsquaredTR=en.score(X,y)\n",
    " \n",
    "sns.regplot(x=y, y=yhat, line_kws={\"color\": \"red\"})\n",
    "plt.xlabel('True price')\n",
    "plt.ylabel('Predicted price')\n",
    "plt.title('Coefficient of determination, $R^2$=%3.2f' % RsquaredCV)\n",
    "print(\"CV score.......... %6.4f\" % RsquaredCV)\n",
    "print(\"Training score.... %6.4f\" % RsquaredTR)\n",
    "print(\"Training RMSE..... %6d\" % rmse(yhat,y))\n",
    "print(\"alpha=%f, L1-ratio=%f\" % (model.alpha_, model.l1_ratio))"
   ]
  },
  {
   "cell_type": "code",
   "execution_count": 427,
   "metadata": {
    "ExecuteTime": {
     "end_time": "2022-11-28T06:58:39.619626Z",
     "start_time": "2022-11-28T06:58:39.496233Z"
    },
    "slideshow": {
     "slide_type": "subslide"
    }
   },
   "outputs": [
    {
     "name": "stdout",
     "output_type": "stream",
     "text": [
      "(1460, 4)\n",
      "Selected variables are ['OverallQual' '1stFlrSF' 'GrLivArea' 'TotRmsAbvGrd']\n"
     ]
    }
   ],
   "source": [
    "# Lets use the previous Elastic Net for selecting the most relevant features\n",
    "# Features whose importance is greater or equal than the threshold are kept \n",
    "# while the others are discarded.\n",
    "\n",
    "sfm = SelectFromModel(model, threshold=7000)\n",
    "sfm.fit(X, y)\n",
    "\n",
    "print(sfm.transform(X).shape)\n",
    "print(\"Selected variables are\", sfm.transform([Housing_noncat.columns, Housing_noncat.columns])[0])\n",
    "        "
   ]
  },
  {
   "cell_type": "code",
   "execution_count": 431,
   "metadata": {
    "ExecuteTime": {
     "end_time": "2022-11-28T07:00:26.268862Z",
     "start_time": "2022-11-28T07:00:25.868356Z"
    },
    "slideshow": {
     "slide_type": "subslide"
    }
   },
   "outputs": [
    {
     "name": "stdout",
     "output_type": "stream",
     "text": [
      "CV score.......... 0.7309\n",
      "Training score.... 0.7381\n",
      "Training RMSE.....  40644\n",
      "alpha=0.159184, L1-ratio=0.900000\n"
     ]
    },
    {
     "data": {
      "image/png": "[encoded data removed]",
      "text/plain": [
       "<Figure size 432x288 with 1 Axes>"
      ]
     },
     "metadata": {
      "needs_background": "light"
     },
     "output_type": "display_data"
    }
   ],
   "source": [
    "model.fit(sfm.transform(X), y)\n",
    "yhat=model.predict(sfm.transform(X))\n",
    "RsquaredCV=cross_val_score(model, sfm.transform(X), y, cv=5).mean()\n",
    "RsquaredTR=model.score(sfm.transform(X),y)\n",
    "\n",
    "sns.regplot(x=y,y=yhat, line_kws={\"color\": \"red\"})\n",
    "plt.xlabel('True price')\n",
    "plt.ylabel('Predicted price')\n",
    "plt.title('Four-feature model, $R^2$=%3.2f' % RsquaredCV)\n",
    "\n",
    "print(\"CV score.......... %6.4f\" % RsquaredCV)\n",
    "print(\"Training score.... %6.4f\" % RsquaredTR)\n",
    "print(\"Training RMSE..... %6d\" % rmse(yhat,y))\n",
    "print(\"alpha=%f, L1-ratio=%f\" % (model.alpha_, model.l1_ratio))\n"
   ]
  },
  {
   "cell_type": "markdown",
   "metadata": {
    "slideshow": {
     "slide_type": "subslide"
    }
   },
   "source": [
    "## Gradient tree regression\n",
    "\n",
    "The housing prize model is clearly non-linear, so the above shown linear regression models are not optimal."
   ]
  },
  {
   "cell_type": "code",
   "execution_count": 433,
   "metadata": {
    "ExecuteTime": {
     "end_time": "2022-11-28T07:02:07.147219Z",
     "start_time": "2022-11-28T07:02:06.498445Z"
    },
    "slideshow": {
     "slide_type": "subslide"
    }
   },
   "outputs": [
    {
     "name": "stdout",
     "output_type": "stream",
     "text": [
      "CV score.......... 0.8739\n",
      "Training score.... 0.9467\n",
      "Training RMSE.....  18326\n"
     ]
    },
    {
     "data": {
      "image/png": "[encoded data removed]",
      "text/plain": [
       "<Figure size 432x288 with 1 Axes>"
      ]
     },
     "metadata": {
      "needs_background": "light"
     },
     "output_type": "display_data"
    }
   ],
   "source": [
    "from sklearn.ensemble import GradientBoostingRegressor\n",
    "from sklearn.model_selection import cross_val_score\n",
    "\n",
    "#est = GradientBoostingRegressor(n_estimators=50, learning_rate=0.1,\n",
    "#                                max_depth=2, random_state=0, loss='ls')\n",
    "est = GradientBoostingRegressor(max_features=3,alpha=0.2)\n",
    "est.fit(X, y)\n",
    "yhat=est.predict(X)\n",
    "RsquaredCV=cross_val_score(est, X, y, cv=5).mean()\n",
    "RsquaredTR=est.score(X,y)\n",
    "\n",
    "sns.regplot(x=y,y=yhat, line_kws={\"color\": \"red\"})\n",
    "plt.xlabel('True price')\n",
    "plt.ylabel('Predicted price')\n",
    "plt.title('Comparison of two-feature model, $R^2$=%3.2f' % RsquaredCV)\n",
    "print(\"CV score.......... %6.4f\" % RsquaredCV)\n",
    "print(\"Training score.... %6.4f\" % RsquaredTR)\n",
    "print(\"Training RMSE..... %6d\" % rmse(yhat,y))"
   ]
  },
  {
   "cell_type": "code",
   "execution_count": 456,
   "metadata": {
    "ExecuteTime": {
     "end_time": "2022-11-28T07:12:44.209120Z",
     "start_time": "2022-11-28T07:12:43.982419Z"
    },
    "slideshow": {
     "slide_type": "subslide"
    }
   },
   "outputs": [
    {
     "data": {
      "image/png": "[encoded data removed]",
      "text/plain": [
       "<Figure size 1008x360 with 1 Axes>"
      ]
     },
     "metadata": {
      "needs_background": "light"
     },
     "output_type": "display_data"
    }
   ],
   "source": [
    "# Plot the importance of each feature\n",
    "plt.figure(figsize=(14,5))\n",
    "#Rsquared=sum((yhat-np.mean(y))**2)/sum((y-np.mean(y))**2)\n",
    "i=range(len(california.feature_names))\n",
    "plt.stem(est.feature_importances_)\n",
    "ax=plt.gca()\n",
    "ax.set_xticks(np.arange(33))\n",
    "ax.set_xticklabels(Housing_noncat.columns,rotation=90);\n",
    "\n",
    "#for i in range(len(Housing_noncat.columns)):\n",
    "#    print(\"%2d %8s=%5.2f\" % (i,Housing_noncat.columns[i], est.feature_importances_[i]))"
   ]
  },
  {
   "cell_type": "code",
   "execution_count": 435,
   "metadata": {
    "ExecuteTime": {
     "end_time": "2022-11-28T07:03:10.257168Z",
     "start_time": "2022-11-28T07:03:09.684912Z"
    },
    "slideshow": {
     "slide_type": "subslide"
    }
   },
   "outputs": [
    {
     "data": {
      "text/plain": [
       "<AxesSubplot:>"
      ]
     },
     "execution_count": 435,
     "metadata": {},
     "output_type": "execute_result"
    },
    {
     "data": {
      "image/png": "[encoded data removed]",
      "text/plain": [
       "<Figure size 864x576 with 2 Axes>"
      ]
     },
     "metadata": {
      "needs_background": "light"
     },
     "output_type": "display_data"
    }
   ],
   "source": [
    "plt.figure(figsize=(12,8))\n",
    "sns.heatmap(Housing_noncat.corr())\n"
   ]
  },
  {
   "cell_type": "code",
   "execution_count": 457,
   "metadata": {
    "ExecuteTime": {
     "end_time": "2022-11-28T07:16:52.281908Z",
     "start_time": "2022-11-28T07:16:51.523275Z"
    },
    "slideshow": {
     "slide_type": "subslide"
    }
   },
   "outputs": [
    {
     "name": "stdout",
     "output_type": "stream",
     "text": [
      "23 GarageYrBlt\n",
      "11 1stFlrSF\n",
      "3 OverallQual\n",
      "5 YearBuilt\n",
      "(1460, 4)\n",
      "CV score.......... 0.7552\n",
      "Training score.... 0.8546\n",
      "Training RMSE.....  30284\n"
     ]
    },
    {
     "data": {
      "text/plain": [
       "GradientBoostingRegressor()"
      ]
     },
     "execution_count": 457,
     "metadata": {},
     "output_type": "execute_result"
    },
    {
     "data": {
      "image/png": "[encoded data removed]",
      "text/plain": [
       "<Figure size 432x288 with 1 Axes>"
      ]
     },
     "metadata": {
      "needs_background": "light"
     },
     "output_type": "display_data"
    }
   ],
   "source": [
    "# Select four most important features\n",
    "\n",
    "selected=est.feature_importances_.argsort()[-1:-5:-1]\n",
    "for feature in selected:\n",
    "    print(feature, Housing_noncat.columns[feature])\n",
    "\n",
    "Xs=X[:,selected]\n",
    "print(Xs.shape)\n",
    "\n",
    "ests = GradientBoostingRegressor()\n",
    "ests.fit(Xs, y)\n",
    "yhat=ests.predict(Xs)\n",
    "RsquaredCV=cross_val_score(ests, Xs, y, cv=5).mean()\n",
    "RsquaredTR=ests.score(Xs,y)\n",
    "\n",
    "sns.regplot(x=y, y=yhat, line_kws={\"color\": \"red\"})\n",
    "plt.xlabel('True price')\n",
    "plt.ylabel('Predicted price')\n",
    "plt.title('Comparison of two-feature model, $R^2$=%3.2f' % RsquaredCV)\n",
    "\n",
    "print(\"CV score.......... %6.4f\" % RsquaredCV)\n",
    "print(\"Training score.... %6.4f\" % RsquaredTR)\n",
    "print(\"Training RMSE..... %6d\" % rmse(yhat,y))\n",
    "ests\n"
   ]
  },
  {
   "cell_type": "markdown",
   "metadata": {},
   "source": [
    "## Conclusion on housing prizes\n",
    "\n",
    "- Data preprocessing was needed\n",
    "  - Remove/encode categorical features if using regression\n",
    "  - Impute missing values\n",
    "- Linear model was not optimal, non-linear was better even with only four features\n",
    "- Different features were selected when using linear / non-linear model\n",
    "- Regularization was at least useful in variable selection (Since this data had a lot of training data, the OLS worked quite well even without regularization this time)"
   ]
  },
  {
   "cell_type": "markdown",
   "metadata": {
    "slideshow": {
     "slide_type": "slide"
    }
   },
   "source": [
    "## Recursive feature elimination\n",
    "\n",
    "An example of familiar digits classification"
   ]
  },
  {
   "cell_type": "code",
   "execution_count": 293,
   "metadata": {
    "ExecuteTime": {
     "end_time": "2022-11-27T21:34:36.133060Z",
     "start_time": "2022-11-27T21:34:33.040926Z"
    },
    "slideshow": {
     "slide_type": "fragment"
    }
   },
   "outputs": [
    {
     "data": {
      "text/plain": [
       "RFE(estimator=SVC(C=1, kernel='linear'), n_features_to_select=1)"
      ]
     },
     "execution_count": 293,
     "metadata": {},
     "output_type": "execute_result"
    }
   ],
   "source": [
    "from sklearn.svm import SVC\n",
    "from sklearn.datasets import load_digits\n",
    "from sklearn.feature_selection import RFE\n",
    "import matplotlib.pyplot as plt\n",
    "\n",
    "# Load the digits dataset\n",
    "digits = load_digits()\n",
    "X = digits.images.reshape((len(digits.images), -1))\n",
    "y = digits.target\n",
    "\n",
    "# Create the RFE object and rank each pixel\n",
    "svc = SVC(kernel=\"linear\", C=1)\n",
    "rfe = RFE(estimator=svc, n_features_to_select=1, step=1)\n",
    "rfe.fit(X, y) "
   ]
  },
  {
   "cell_type": "code",
   "execution_count": 294,
   "metadata": {
    "ExecuteTime": {
     "end_time": "2022-11-27T21:34:39.991504Z",
     "start_time": "2022-11-27T21:34:39.801294Z"
    },
    "slideshow": {
     "slide_type": "subslide"
    }
   },
   "outputs": [
    {
     "data": {
      "image/png": "[encoded data removed]",
      "text/plain": [
       "<Figure size 288x288 with 2 Axes>"
      ]
     },
     "metadata": {
      "needs_background": "light"
     },
     "output_type": "display_data"
    }
   ],
   "source": [
    "ranking = rfe.ranking_.reshape(digits.images[0].shape)\n",
    "\n",
    "# Plot pixel ranking\n",
    "plt.matshow(ranking, cmap=plt.cm.Blues)\n",
    "plt.colorbar()\n",
    "plt.title(\"Ranking of pixels with RFE\")\n",
    "plt.show()"
   ]
  },
  {
   "cell_type": "code",
   "execution_count": 295,
   "metadata": {
    "ExecuteTime": {
     "end_time": "2022-11-27T21:34:45.969187Z",
     "start_time": "2022-11-27T21:34:45.965589Z"
    },
    "slideshow": {
     "slide_type": "subslide"
    }
   },
   "outputs": [
    {
     "data": {
      "text/plain": [
       "array([[64, 50, 31, 23, 10, 17, 34, 51],\n",
       "       [57, 37, 30, 43, 14, 32, 44, 52],\n",
       "       [54, 41, 19, 15, 28,  8, 39, 53],\n",
       "       [55, 45,  9, 18, 20, 38,  1, 59],\n",
       "       [63, 42, 25, 35, 29, 16,  2, 62],\n",
       "       [61, 40,  5, 11, 13,  6,  4, 58],\n",
       "       [56, 47, 26, 36, 24,  3, 22, 48],\n",
       "       [60, 49,  7, 27, 33, 21, 12, 46]])"
      ]
     },
     "execution_count": 295,
     "metadata": {},
     "output_type": "execute_result"
    }
   ],
   "source": [
    "rfe.ranking_.reshape(digits.images[0].shape)"
   ]
  },
  {
   "cell_type": "markdown",
   "metadata": {
    "slideshow": {
     "slide_type": "slide"
    }
   },
   "source": [
    "## Summary\n",
    "\n",
    "- **Classical regression** is simple and well understood, and is a good model, when its conditions are met\n",
    "    - The number of features is much less than number of samples\n",
    "    - There is not too much noise in the data\n",
    "    - The linear model is sufficient\n",
    "    - Data needs to be normalized before use\n",
    "    - Categorical data is not well supported, at least needs to be converted to numerical for example using one hot encoding\n",
    " - **Regularisation** includes many methods for balancing the trade off between model complexity and prediction error which prevents against over-fitting of the model\n",
    "    - Regularization is often used in two forms: **L2**-regularization minimises the squared sum of model parameters, **L1**-regularization minimises the absolute sum of the model parameters.\n",
    "- Non-linear regression models **SVR, RFR, GBRT** extend the regression to non-linear problems\n",
    "- **Ensemble models** include a bag (parallel) or boosted (serial) combination of many simple models, which are randomized (bag) or boosted versions of simple regressors\n",
    "    - Extratrees and Gradient Boosted Regression Trees can also use categorical data directly and they do not need the normalization of data\n",
    "- Recursive feature elimination (**RFE**)/addition are useful methods for model optimisation and feature selection \n",
    "- The feature importances measure in RF and GBTR models provides a clue for the importance of features\n",
    "- **R2-score** and **RMSE** are typical measures for model performance\n"
   ]
  }
 ],
 "metadata": {
  "celltoolbar": "Slideshow",
  "kernelspec": {
   "display_name": "Python 3 (ipykernel)",
   "language": "python",
   "name": "python3"
  },
  "language_info": {
   "codemirror_mode": {
    "name": "ipython",
    "version": 3
   },
   "file_extension": ".py",
   "mimetype": "text/x-python",
   "name": "python",
   "nbconvert_exporter": "python",
   "pygments_lexer": "ipython3",
   "version": "3.11.4"
  },
  "toc": {
   "base_numbering": 1,
   "nav_menu": {},
   "number_sections": true,
   "sideBar": true,
   "skip_h1_title": false,
   "title_cell": "Table of Contents",
   "title_sidebar": "Contents",
   "toc_cell": false,
   "toc_position": {},
   "toc_section_display": true,
   "toc_window_display": false
  },
  "varInspector": {
   "cols": {
    "lenName": 16,
    "lenType": 16,
    "lenVar": 40
   },
   "kernels_config": {
    "python": {
     "delete_cmd_postfix": "",
     "delete_cmd_prefix": "del ",
     "library": "var_list.py",
     "varRefreshCmd": "print(var_dic_list())"
    },
    "r": {
     "delete_cmd_postfix": ") ",
     "delete_cmd_prefix": "rm(",
     "library": "var_list.r",
     "varRefreshCmd": "cat(var_dic_list()) "
    }
   },
   "types_to_exclude": [
    "module",
    "function",
    "builtin_function_or_method",
    "instance",
    "_Feature"
   ],
   "window_display": false
  }
 },
 "nbformat": 4,
 "nbformat_minor": 4
}
