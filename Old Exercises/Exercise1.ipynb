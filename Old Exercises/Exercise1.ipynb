{
 "cells": [
  {
   "cell_type": "markdown",
   "metadata": {},
   "source": [
    "# Applied Machine Learning (2020), exercises\n",
    "\n",
    "\n",
    "## General instructions for all exercises\n",
    "\n",
    "Before you turn this problem in, make sure everything runs as expected. First, **restart the kernel** (in the menubar, select Kernel$\\rightarrow$Restart) and then **run all cells** (in the menubar, select Cell$\\rightarrow$Run All).\n",
    "\n",
    "Follow the instructions and fill in your solution under the line marked by tag\n",
    "\n",
    "> YOUR CODE HERE\n",
    "  \n",
    "Do not otherwise change the notebook, because it can disturb the autograding!\n",
    "\n",
    "Having written the answer, execute the code cell by and pressing `Shift-Enter` key combination. The code is run, and it may print some information under the code cell. The focus automatically moves to the next cell and you may \"execute\" that cell by pressing `Shift-Enter` again, until you have reached the code cell which tests your solution. Execute that and follow the feedback. Usually it either says that the solution seems acceptable, or reports some errors. You can go back to your solution, modify it and repeat everything until you are satisfied. Then proceed to the next task.\n",
    "   \n",
    "Repeat the process for all tasks.\n",
    "\n",
    "The notebook may also contain manually graded answers. Write your manualle graded answer under the line marked by tag:\n",
    "\n",
    "> YOUR ANSWER HERE\n",
    "\n",
    "Manually graded tasks may be text, pseudocode, or mathematical formulas. You can write formulas with $\\LaTeX$-syntax by enclosing the formula with dollar signs (`$`), for example `$f(x)=2 \\pi / \\alpha$`, will produce $f(x)=2 \\pi / \\alpha$\n",
    "\n",
    "When you have passed the tests in the notebook, and you are ready to submit your solutions, download the whole notebook, using menu `File -> Download as -> Notebook (.ipynb)`. Save the file in your hard disk, and submit it in [Moodle](https://moodle.uwasa.fi) under the corresponding excercise.\n",
    "\n",
    "Your solution should be an executable Python code. Use the code already existing as an example of Python programing and read more from the numerous Python programming material from the Internet if necessary. \n"
   ]
  },
  {
   "cell_type": "code",
   "execution_count": null,
   "metadata": {},
   "outputs": [],
   "source": [
    "NAME = \"\"\n",
    "Student_number = \"\""
   ]
  },
  {
   "cell_type": "markdown",
   "metadata": {},
   "source": [
    "---"
   ]
  },
  {
   "cell_type": "markdown",
   "metadata": {
    "slideshow": {
     "slide_type": "slide"
    }
   },
   "source": [
    "# ICAT3190, Module 1"
   ]
  },
  {
   "cell_type": "markdown",
   "metadata": {
    "slideshow": {
     "slide_type": "slide"
    }
   },
   "source": [
    "## Task 1\n",
    "\n",
    "Implement a function which calculates the Root Mean Square value of the input vector, according to the following formula:\n",
    "\n",
    "$$x_{rms}=\\sqrt{\\frac{1}{N}\\sum_{i=1}^{N} x_i^2} $$'\n",
    "\n",
    "Name your function as `myRMS`. It should take one input vector (x) as input and it returns single RMS value as output. Code your function in the cell below. When you think it is ready, execute it by pressing `Shift-Enter`. Then you can run the test cases in the next cell by hitting `Shift-Enter` again.\n",
    "\n",
    "- Remember to import necessary libraries, like numpy.\n",
    "- You may assume that the input vector is a numpy array, for example `x=np.array([1,2,3,4,5])`, or `x=np.linspace(0,1,500)`.\n",
    "- The power operator in python is `**`, while in many other programming languages it is `^`\n",
    "\n",
    "Read basics about python programming from [Dive into Python](https://diveinto.org/python3/table-of-contents.html) and use the documentation of [Numpy](https://numpy.org/).\n",
    "\n",
    "Check also the execution time of your program."
   ]
  },
  {
   "cell_type": "code",
   "execution_count": null,
   "metadata": {
    "deletable": false,
    "nbgrader": {
     "cell_type": "code",
     "checksum": "c568e4978b6270ffba4fb0d1227b234b",
     "grade": false,
     "grade_id": "cell-a63f475c126e250e",
     "locked": false,
     "schema_version": 3,
     "solution": true,
     "task": false
    },
    "slideshow": {
     "slide_type": "slide"
    }
   },
   "outputs": [],
   "source": [
    "%matplotlib inline\n",
    "\n",
    "from numpy import sqrt, square, mean\n",
    "\n",
    "# YOUR CODE HERE\n",
    "raise NotImplementedError()"
   ]
  },
  {
   "cell_type": "code",
   "execution_count": null,
   "metadata": {
    "deletable": false,
    "editable": false,
    "nbgrader": {
     "cell_type": "code",
     "checksum": "d9dc74c61e1c11eeb194c1cfa810076a",
     "grade": true,
     "grade_id": "cell-0bce15215e70f543",
     "locked": true,
     "points": 6,
     "schema_version": 3,
     "solution": false,
     "task": false
    },
    "slideshow": {
     "slide_type": "slide"
    }
   },
   "outputs": [],
   "source": [
    "### Tests for your code, Do not change!\n",
    "### There can be also additional hidden tests.\n",
    "### -----------------------------------\n",
    "from scipy.linalg import norm\n",
    "import numpy as np\n",
    "import sklearn\n",
    "\n",
    "from sklearn.metrics import mean_squared_error\n",
    "\n",
    "# Make a function for calculating rms using norm\n",
    "trueRMS = lambda x: sqrt(mean_squared_error(x,x*0))\n",
    "\n",
    "x1=np.array([2,2,2,2,2])\n",
    "assert(myRMS(x1)==2)\n",
    "\n",
    "x2=np.array([3,4,5.2,8,-2,0,1.2])\n",
    "assert(myRMS(x2)==trueRMS(x2))\n",
    "\n",
    "\n",
    "# Time it\n",
    "x4=np.random.normal(5,2,size=1000000)\n",
    "%time myRMS(x4)\n"
   ]
  },
  {
   "cell_type": "markdown",
   "metadata": {
    "slideshow": {
     "slide_type": "slide"
    }
   },
   "source": [
    "## Task 2\n",
    "\n",
    "Create a polynomial signal, $y$, and add some normal noise $\\mathcal{N}(\\mu, \\sigma)$ into it, where, $\\mu$, is the mean value of the noise and, $\\sigma$, is the standard deviation. Calculate the values of the signal in 100 points between $x \\in [0, 3]$. Create the signal according to the following formula:\n",
    "\n",
    "$$y=0.1 x^2 + 1.5 x + \\mathcal{N}(0,0.5) $$\n",
    "\n",
    "Then make a scatter plot of the $y$ against $x$. You can use the standard plot function, but do not use a line plot but plot only dots for all values using syntax `plt.plot(x,y,'*')`. Remember to import `plt` module from `matplotlib.pyplot as plt`.\n",
    "\n",
    "See how normal noise was created in the test cell (In [15]) of previous Task, using `np.random.normal()`. Use `np.linspace()` function to create a linear x-axis as was also shown in lecture notes.\n",
    "\n",
    "See examples from [MatplotLib tutorials](https://matplotlib.org/3.1.1/tutorials/index.html)."
   ]
  },
  {
   "cell_type": "code",
   "execution_count": 3,
   "metadata": {
    "deletable": false,
    "nbgrader": {
     "cell_type": "code",
     "checksum": "5c381f6cf3a7a27a1aecdbd8a7e92dbf",
     "grade": false,
     "grade_id": "cell-8b494ff0f9ebfec9",
     "locked": false,
     "schema_version": 3,
     "solution": true,
     "task": false
    },
    "slideshow": {
     "slide_type": "slide"
    }
   },
   "outputs": [],
   "source": [
    "# YOUR CODE HERE\n",
    "import numpy as np\n",
    "np.linspace\n"
   ]
  },
  {
   "cell_type": "code",
   "execution_count": null,
   "metadata": {
    "deletable": false,
    "editable": false,
    "nbgrader": {
     "cell_type": "code",
     "checksum": "1c3c2c50e88c94955aeba3dea0bd7c8c",
     "grade": true,
     "grade_id": "cell-12465ad6bb660424",
     "locked": true,
     "points": 2,
     "schema_version": 3,
     "solution": false,
     "task": false
    },
    "slideshow": {
     "slide_type": "slide"
    }
   },
   "outputs": [],
   "source": [
    "# Look visually, if the result looks like it should\n",
    "\n",
    "import matplotlib.pyplot as plt\n",
    "plt.plot(x,y, '*')"
   ]
  },
  {
   "cell_type": "code",
   "execution_count": null,
   "metadata": {
    "deletable": false,
    "editable": false,
    "nbgrader": {
     "cell_type": "code",
     "checksum": "84bb61ca1c6228cbaa98aed643a4ec94",
     "grade": true,
     "grade_id": "cell-5d603014f7ce3886",
     "locked": true,
     "points": 4,
     "schema_version": 3,
     "solution": false,
     "task": false
    },
    "slideshow": {
     "slide_type": "slide"
    }
   },
   "outputs": [],
   "source": [
    "### Tests for your code.\n",
    "### -----------------------------------\n",
    "assert(len(x)==100)\n",
    "assert((y.mean()>2.4) and (y.mean()<2.7))\n",
    "assert((y.min()>-1) and (y.max()<6.4))\n",
    "assert((y.std()>1.2) and (y.std()<2))"
   ]
  },
  {
   "cell_type": "markdown",
   "metadata": {
    "slideshow": {
     "slide_type": "slide"
    }
   },
   "source": [
    "## Task 3\n",
    "Fit orninary linearn regression model into the data which you just created, using the statsmodel library. Read instructions from [statsmodel documentation](https://www.statsmodels.org/stable/index.html). Use the second example for numpy arrays.\n",
    "\n",
    "In python data models, the typical flow of action is that you first import the model class from a library, then you instanatiate the model and then you fit the model to the data. The fitted model contains the model parameters and also some statistics describing the fitness of the model.\n",
    "\n",
    "Now do the following:\n",
    " 1. Import statsmodels.api module\n",
    " 1. Instantiate OLS model and store it as variable `model`\n",
    " 1. Fit your model to the data, y,x and store your fitted model as variable `fitted_model`\n",
    " 1. Print the summary of your model according to the instructions in the documentation\n",
    " 1. Study especially three values in the summary\n",
    "   1. R-squared\n",
    "   1. The coef-parameter of x1\n",
    "   1. The P-value of x1\n",
    "   \n",
    "- Does the model fit into the data? How much variance does it explain?\n",
    "- The model is linear, so it tries to fit a line into the data, what is the slope of the fitted line?\n",
    "- What is the probability that the slope is actually zero, but it is now found to be different by chance?"
   ]
  },
  {
   "cell_type": "code",
   "execution_count": null,
   "metadata": {
    "deletable": false,
    "nbgrader": {
     "cell_type": "code",
     "checksum": "c5424fdd17d9d19a6a7a6c6823b1cee5",
     "grade": false,
     "grade_id": "cell-240bc2d5471596e1",
     "locked": false,
     "schema_version": 3,
     "solution": true,
     "task": false
    },
    "slideshow": {
     "slide_type": "slide"
    }
   },
   "outputs": [],
   "source": [
    "# YOUR CODE HERE\n",
    "raise NotImplementedError()"
   ]
  },
  {
   "cell_type": "code",
   "execution_count": null,
   "metadata": {
    "deletable": false,
    "editable": false,
    "nbgrader": {
     "cell_type": "code",
     "checksum": "d9ba45eaf35cec0ea3c77933ca25c3c7",
     "grade": true,
     "grade_id": "cell-123ef52f2813c389",
     "locked": true,
     "points": 3,
     "schema_version": 3,
     "solution": false,
     "task": false
    },
    "slideshow": {
     "slide_type": "slide"
    }
   },
   "outputs": [],
   "source": [
    "# List the parameters of the fitted model\n",
    "print(fitted_model.summary())"
   ]
  },
  {
   "cell_type": "code",
   "execution_count": null,
   "metadata": {
    "deletable": false,
    "editable": false,
    "nbgrader": {
     "cell_type": "code",
     "checksum": "3e720e802c78708d3a72744c25a6a451",
     "grade": true,
     "grade_id": "cell-b54ffd8eab916c4a",
     "locked": true,
     "points": 8,
     "schema_version": 3,
     "solution": false,
     "task": false
    },
    "slideshow": {
     "slide_type": "slide"
    }
   },
   "outputs": [],
   "source": []
  },
  {
   "cell_type": "markdown",
   "metadata": {
    "slideshow": {
     "slide_type": "skip"
    }
   },
   "source": [
    "The end :)"
   ]
  }
 ],
 "metadata": {
  "kernelspec": {
   "display_name": "Python 3 (ipykernel)",
   "language": "python",
   "name": "python3"
  },
  "language_info": {
   "codemirror_mode": {
    "name": "ipython",
    "version": 3
   },
   "file_extension": ".py",
   "mimetype": "text/x-python",
   "name": "python",
   "nbconvert_exporter": "python",
   "pygments_lexer": "ipython3",
   "version": "3.9.2"
  },
  "toc": {
   "base_numbering": 1,
   "nav_menu": {},
   "number_sections": true,
   "sideBar": true,
   "skip_h1_title": false,
   "title_cell": "Table of Contents",
   "title_sidebar": "Contents",
   "toc_cell": false,
   "toc_position": {},
   "toc_section_display": true,
   "toc_window_display": false
  }
 },
 "nbformat": 4,
 "nbformat_minor": 2
}
