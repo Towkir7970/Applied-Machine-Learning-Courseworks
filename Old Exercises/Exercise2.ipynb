{
 "cells": [
  {
   "cell_type": "markdown",
   "metadata": {},
   "source": [
    "# Applied Machine Learning (2020), exercises\n",
    "\n",
    "\n",
    "## General instructions for all exercises\n",
    "\n",
    "Before you turn this problem in, make sure everything runs as expected. First, **restart the kernel** (in the menubar, select Kernel$\\rightarrow$Restart) and then **run all cells** (in the menubar, select Cell$\\rightarrow$Run All).\n",
    "\n",
    "Follow the instructions and fill in your solution under the line marked by tag\n",
    "\n",
    "> YOUR CODE HERE\n",
    "  \n",
    "Having written the answer, execute the code cell by and pressing `Shift-Enter` key combination. The code is run, and it may print some information under the code cell. The focus automatically moves to the next cell and you may \"execute\" that cell by pressing `Shift-Enter` again, until you have reached the code cell which tests your solution. Execute that and follow the feedback. Usually it either says that the solution seems acceptable, or reports some errors. You can go back to your solution, modify it and repeat everything until you are satisfied. Then proceed to the next task.\n",
    "   \n",
    "Repeat the process for all tasks.\n",
    "\n",
    "The notebook may also contain manually graded answers. Write your manualle graded answer under the line marked by tag:\n",
    "\n",
    "> YOUR ANSWER HERE\n",
    "\n",
    "Manually graded tasks may be text, pseudocode, or mathematical formulas. You can write formulas with $\\LaTeX$-syntax by enclosing the formula with dollar signs (`$`), for example `$f(x)=2 \\pi / \\alpha$`, will produce $f(x)=2 \\pi / \\alpha$\n",
    "\n",
    "When you have passed the tests in the notebook, and you are ready to submit your solutions, download the whole notebook, using menu `File -> Download as -> Notebook (.ipynb)`. Save the file in your hard disk, and submit it in [Moodle](https://moodle.uwasa.fi) under the corresponding excercise.\n",
    "\n",
    "Your solution should be an executable Python code. Use the code already existing as an example of Python programing and read more from the numerous Python programming material from the Internet if necessary. \n"
   ]
  },
  {
   "cell_type": "code",
   "execution_count": null,
   "metadata": {},
   "outputs": [],
   "source": [
    "NAME = \"\"\n",
    "Student_number = \"\""
   ]
  },
  {
   "cell_type": "markdown",
   "metadata": {},
   "source": [
    "---"
   ]
  },
  {
   "cell_type": "markdown",
   "metadata": {
    "deletable": false,
    "editable": false,
    "nbgrader": {
     "cell_type": "markdown",
     "checksum": "5591137bbf383cc42943fa1fe4013ca3",
     "grade": false,
     "grade_id": "cell-0bd9bf369d15fc72",
     "locked": true,
     "schema_version": 3,
     "solution": false,
     "task": false
    }
   },
   "source": [
    "## Reading, and visualizing data with pandas\n",
    "\n",
    "This execcise contains the following tasks:\n",
    "\n",
    "1. Read the CSV data to Pandas dataframe\n",
    "1. Study the data statistics \n",
    "1. Slice and plot Finnish Covid cases\n",
    "1. Parse timestamps from strings\n",
    "1. Differentiate the data to get daily cases\n",
    "1. Store the data in four different formats"
   ]
  },
  {
   "cell_type": "code",
   "execution_count": null,
   "metadata": {
    "deletable": false,
    "editable": false,
    "nbgrader": {
     "cell_type": "code",
     "checksum": "add1cf3229e9c214716e111596926fb4",
     "grade": false,
     "grade_id": "cell-4fd5279efd07c830",
     "locked": true,
     "schema_version": 3,
     "solution": false,
     "task": false
    }
   },
   "outputs": [],
   "source": [
    "import pandas as pd\n",
    "import matplotlib.pyplot as plt\n",
    "\n",
    "# This makes the plots to have white background and grids by default\n",
    "plt.style.use('seaborn-whitegrid')"
   ]
  },
  {
   "cell_type": "markdown",
   "metadata": {
    "deletable": false,
    "editable": false,
    "nbgrader": {
     "cell_type": "markdown",
     "checksum": "53290ecbbb419256f27fd9acf0b9e672",
     "grade": false,
     "grade_id": "cell-13bde4d9e4eb3309",
     "locked": true,
     "schema_version": 3,
     "solution": false,
     "task": false
    }
   },
   "source": [
    "### Task 1: Read the CSV data to Pandas dataframe\n",
    "\n",
    "Read the data file `time_series_covid_19_confirmed.csv` to a pandas dataframe called `D`, and display the head and tail of the dataframe.\n",
    "\n",
    "The data is taken from [Kaggle](https://www.kaggle.com/sudalairajkumar/novel-corona-virus-2019-dataset?rvi=1)."
   ]
  },
  {
   "cell_type": "code",
   "execution_count": null,
   "metadata": {
    "deletable": false,
    "nbgrader": {
     "cell_type": "code",
     "checksum": "7a65685ae10a6af139e7f3853fdfbbbd",
     "grade": false,
     "grade_id": "cell-f847b9b64c459963",
     "locked": false,
     "schema_version": 3,
     "solution": true,
     "task": false
    }
   },
   "outputs": [],
   "source": [
    "# YOUR CODE HERE\n",
    "raise NotImplementedError()"
   ]
  },
  {
   "cell_type": "code",
   "execution_count": null,
   "metadata": {
    "deletable": false,
    "editable": false,
    "nbgrader": {
     "cell_type": "code",
     "checksum": "befe0cd205764619c652b4dc93ab0f9e",
     "grade": true,
     "grade_id": "cell-4921356b2337c8ff",
     "locked": true,
     "points": 2,
     "schema_version": 3,
     "solution": false,
     "task": false
    }
   },
   "outputs": [],
   "source": [
    "# Some testing\n",
    "assert(D.shape == (266,250))\n"
   ]
  },
  {
   "cell_type": "markdown",
   "metadata": {
    "deletable": false,
    "editable": false,
    "nbgrader": {
     "cell_type": "markdown",
     "checksum": "122efcfa18301c6cb5d7218cb5d122da",
     "grade": false,
     "grade_id": "cell-0e40a44f622ce9c6",
     "locked": true,
     "schema_version": 3,
     "solution": false,
     "task": false
    }
   },
   "source": [
    "### Task 2: Study the statistics of the data\n",
    "\n",
    "Study the statistics of the corona data, using .describe() function. \n",
    "Do you find missing values in the data? Assign Boolen constant `True`/`False` in variable `Missingvalues=`. (`MissingValues=True` or `MissingValues=False`).\n",
    "\n",
    "Compare the median and mean value of cases in 23.9.2020. What does it tell you that they are different?"
   ]
  },
  {
   "cell_type": "code",
   "execution_count": null,
   "metadata": {
    "deletable": false,
    "nbgrader": {
     "cell_type": "code",
     "checksum": "ec342e43af9823fc7b0f022d571df94b",
     "grade": false,
     "grade_id": "cell-588346005fe2bfe7",
     "locked": false,
     "schema_version": 3,
     "solution": true,
     "task": false
    }
   },
   "outputs": [],
   "source": [
    "# YOUR CODE HERE\n",
    "raise NotImplementedError()"
   ]
  },
  {
   "cell_type": "code",
   "execution_count": null,
   "metadata": {
    "deletable": false,
    "editable": false,
    "nbgrader": {
     "cell_type": "code",
     "checksum": "e2dfe8a9760a40c7b7c130195380ca4e",
     "grade": true,
     "grade_id": "cell-ca2e4fced9c12842",
     "locked": true,
     "points": 2,
     "schema_version": 3,
     "solution": false,
     "task": false
    }
   },
   "outputs": [],
   "source": []
  },
  {
   "cell_type": "markdown",
   "metadata": {
    "deletable": false,
    "editable": false,
    "nbgrader": {
     "cell_type": "markdown",
     "checksum": "c5f1ccd791ff48588c3bfb3feae47606",
     "grade": false,
     "grade_id": "cell-50d2869d3a3a4b41",
     "locked": true,
     "schema_version": 3,
     "solution": false,
     "task": false
    }
   },
   "source": [
    "### Task 3: Slice and plot Finnish Covid cases\n",
    "\n",
    "Select the data to represent confirmed Covid cases in Finland, by selecting the right row, and only those columns, which shows the numbers of cases (all columns except first four). Transpose the selected slice of the Dataframe, using transpose operator `.T`. This makes rows to become columns and columns to become rows, just like the transpose of a Matrix in mathematics. You can chain the `.loc`, `.iloc` and `.T` operators in one line to accomplish your task.\n",
    "\n",
    "Save this resulting one-column dataframe by name `DF` in the workspace, and plot it using `.plot()` -function.\n"
   ]
  },
  {
   "cell_type": "code",
   "execution_count": null,
   "metadata": {
    "deletable": false,
    "nbgrader": {
     "cell_type": "code",
     "checksum": "ee829d9ceee7807508140be869bffaa4",
     "grade": false,
     "grade_id": "cell-384aa526eb314739",
     "locked": false,
     "schema_version": 3,
     "solution": true,
     "task": false
    }
   },
   "outputs": [],
   "source": [
    "# YOUR CODE HERE\n",
    "raise NotImplementedError()"
   ]
  },
  {
   "cell_type": "code",
   "execution_count": null,
   "metadata": {
    "deletable": false,
    "editable": false,
    "nbgrader": {
     "cell_type": "code",
     "checksum": "916f7c077527d2862e2e08a35c734956",
     "grade": true,
     "grade_id": "cell-dd2991cc709c91d5",
     "locked": true,
     "points": 2,
     "schema_version": 3,
     "solution": false,
     "task": false
    }
   },
   "outputs": [],
   "source": [
    "assert(DF.shape==(246,1))"
   ]
  },
  {
   "cell_type": "markdown",
   "metadata": {
    "deletable": false,
    "editable": false,
    "nbgrader": {
     "cell_type": "markdown",
     "checksum": "4d065d655e7dcab7364b5fb3e37acec8",
     "grade": false,
     "grade_id": "cell-3891aad33a622798",
     "locked": true,
     "schema_version": 3,
     "solution": false,
     "task": false
    }
   },
   "source": [
    "### Task 4: Parsing timestamps to datetime objects\n",
    "The data looks familiar and would be usefull already for many purposes, but it has still a problem. This is obviously a time series, but the computer does not yet understand what the values in time-axis are, and they are handled just strings without meaning. \n",
    "\n",
    "To let the computer understand them, they needs to be parsed to datetime objects. Any string can be parsed to datetime using string parser function, called `strptime()`. It uses a template for mathing a string to years (`%y`), months (`%m`) and days (`%d`). See more exact description from the [documentation](https://www.programiz.com/python-programming/datetime/strptime).\n",
    "\n",
    "The function for parsing the timestamp strings is provided below.\n"
   ]
  },
  {
   "cell_type": "code",
   "execution_count": null,
   "metadata": {
    "deletable": false,
    "editable": false,
    "nbgrader": {
     "cell_type": "code",
     "checksum": "db6579b4d7dde93669507ea98d927243",
     "grade": false,
     "grade_id": "cell-99dbc583693250d4",
     "locked": true,
     "schema_version": 3,
     "solution": false,
     "task": false
    }
   },
   "outputs": [],
   "source": [
    "from datetime import datetime\n",
    "\n",
    "# Parse a timestamp\n",
    "def parseTime(s):\n",
    "    return datetime.strptime(s, \"%m/%d/%y\")\n",
    "\n",
    "# Test with an example\n",
    "parseTime('1/23/20')"
   ]
  },
  {
   "cell_type": "markdown",
   "metadata": {
    "deletable": false,
    "editable": false,
    "nbgrader": {
     "cell_type": "markdown",
     "checksum": "4a5e3fe3d920c0777f4f4ba4d07ce725",
     "grade": false,
     "grade_id": "cell-c05cbc4e0d3ffe40",
     "locked": true,
     "schema_version": 3,
     "solution": false,
     "task": false
    }
   },
   "source": [
    "Replace the index of `DF` by parsing the list of values in it into list of datetime objects, and assign it to the new index. \n",
    "\n",
    "You can read the values of the current index, using a read/write property `.index` of the dataframe, and you can update the index by assigning a list of datetime objects into it. \n",
    "\n",
    "You can apply the previous `parseTime()`-function to all values in a list of date-strings by using a `map()` function in python as follows\n",
    "\n",
    " `map(parseTime, listOfStringValues)`\n",
    " \n",
    " See more from [documentation](https://www.programiz.com/python-programming/methods/built-in/map).\n",
    " \n",
    " Note that if you try to run it again, it will give you an error, since the index values are no longer strings, which could be parsed again.\n",
    " \n",
    " Now plot the data again, and you will notice that the computer now understands the time axis and can show it differently.\n",
    " \n",
    " Try to slice the data and only plot the values for september (`DF['yyyy-mm']`). See how the time axis is scaled again."
   ]
  },
  {
   "cell_type": "code",
   "execution_count": null,
   "metadata": {
    "deletable": false,
    "nbgrader": {
     "cell_type": "code",
     "checksum": "c10490f0d83feefa7058d1b625890b87",
     "grade": false,
     "grade_id": "cell-04ebd028e3a77d06",
     "locked": false,
     "schema_version": 3,
     "solution": true,
     "task": false
    }
   },
   "outputs": [],
   "source": [
    "# YOUR CODE HERE\n",
    "raise NotImplementedError()"
   ]
  },
  {
   "cell_type": "code",
   "execution_count": null,
   "metadata": {
    "deletable": false,
    "editable": false,
    "nbgrader": {
     "cell_type": "code",
     "checksum": "5564eea6f6e250ae20732c52ae70bdfc",
     "grade": true,
     "grade_id": "cell-f5f06c8b398ff91e",
     "locked": true,
     "points": 2,
     "schema_version": 3,
     "solution": false,
     "task": false
    }
   },
   "outputs": [],
   "source": [
    "assert((DF.loc['2020-09-23']==9288).values[0])\n"
   ]
  },
  {
   "cell_type": "markdown",
   "metadata": {
    "deletable": false,
    "editable": false,
    "nbgrader": {
     "cell_type": "markdown",
     "checksum": "acfad9e633121a188846efd84f166452",
     "grade": false,
     "grade_id": "cell-786420cd5eec7cd0",
     "locked": true,
     "schema_version": 3,
     "solution": false,
     "task": false
    }
   },
   "source": [
    "### Task 5: Differentiate to get the daily cases\n",
    "\n",
    "Now calculate the daily cases, by calculating the difference of the cumulative number of confirmed cases, using the `.diff()` function of the dataframe as name `daily`, and plot it. \n",
    "\n",
    "If you have time, you can also smooth the daily graph by using a rolling average (`.rolling()`), and plot the smoothed curve in different plot or the same plot. See examples from:\n",
    "- Pandas [diff function](https://pandas.pydata.org/pandas-docs/stable/reference/api/pandas.DataFrame.diff.html)\n",
    "- Pandas [rolling function](https://pandas.pydata.org/pandas-docs/stable/reference/api/pandas.DataFrame.rolling.html)\n",
    "\n",
    "Tip: If you want to plot both graphs in one figure, let the first plot return an axis object `ax` and define the new plot to use that same axis, as follows:\n",
    "\n",
    "`\n",
    "ax = daily. ... .plot(...)\n",
    "daily. ... .plot(ax=ax)\n",
    "`"
   ]
  },
  {
   "cell_type": "code",
   "execution_count": null,
   "metadata": {
    "deletable": false,
    "nbgrader": {
     "cell_type": "code",
     "checksum": "d2312370814571dd7575a08ba0db29ef",
     "grade": false,
     "grade_id": "cell-5eb1bffa3a0c4d15",
     "locked": false,
     "schema_version": 3,
     "solution": true,
     "task": false
    }
   },
   "outputs": [],
   "source": [
    "# YOUR CODE HERE\n",
    "raise NotImplementedError()"
   ]
  },
  {
   "cell_type": "code",
   "execution_count": null,
   "metadata": {
    "deletable": false,
    "editable": false,
    "nbgrader": {
     "cell_type": "code",
     "checksum": "184f62b4b73c9d55e907cb3fe7712ddf",
     "grade": true,
     "grade_id": "cell-4212a0eb49229648",
     "locked": true,
     "points": 2,
     "schema_version": 3,
     "solution": false,
     "task": false
    }
   },
   "outputs": [],
   "source": [
    "assert(daily.shape==(246,1))\n",
    "print(daily.loc['2020-09-23'])\n",
    "assert(daily.loc['2020-09-23'].values[0]==93)\n"
   ]
  },
  {
   "cell_type": "markdown",
   "metadata": {
    "deletable": false,
    "editable": false,
    "nbgrader": {
     "cell_type": "markdown",
     "checksum": "7b35d95d06f7718abafd9512e80d44ec",
     "grade": false,
     "grade_id": "cell-c41aef2181959a13",
     "locked": true,
     "schema_version": 3,
     "solution": false,
     "task": false
    }
   },
   "source": [
    "### Task 6: Save the parsed data to different formats\n",
    "\n",
    "Save the parsed dataframe, DF, in different formats:\n",
    " - CSV, use function `.to_csv()`, read documentation inline or from [net](), use filename `cases.csv`\n",
    " - HDF5, use function `.to_hdf()`, read documentation inline or from [net](https://pandas.pydata.org/pandas-docs/stable/reference/api/pandas.DataFrame.to_hdf.html), use filename `cases.hdf`, and key='data'\n",
    " - parquet, use function `.to_parquet()`, read documentation inline or from [net](https://pandas.pydata.org/pandas-docs/stable/reference/api/pandas.DataFrame.to_parquet.html), use filename `cases.parquet`\n",
    " - feather, use function `.to_feather()`, read documentation inline or from [net](https://pandas.pydata.org/pandas-docs/stable/reference/api/pandas.DataFrame.to_feather.html), use filename `cases.feather`\n",
    " \n",
    " Unfortunately feather or parquet do not support datetime objects as index. To overcome this issue, a new index consisting of only integers is created, and the dat is moved to the separate column. This can be accomplished by simply calling the `.reset_index()` from the dataframe.\n",
    " \n",
    " In addition, Feather and Parquet requires valid column names, so they needs to be defined too, which is a good idea anyway. The column names can be set using read/write property `.columns`:\n",
    " \n",
    " Both requirements can be set as follows:\n",
    " \n",
    " `\n",
    " daily_fixed = daily.reset_index()\n",
    " daily_fixed.columns=('Date', 'Cases')\n",
    " `\n",
    " \n",
    " See the code in the validation section for reading the files back."
   ]
  },
  {
   "cell_type": "code",
   "execution_count": null,
   "metadata": {
    "deletable": false,
    "nbgrader": {
     "cell_type": "code",
     "checksum": "2fc6e7b08f856c755fbfca7d367e6138",
     "grade": false,
     "grade_id": "cell-b27e4684e9b154f6",
     "locked": false,
     "schema_version": 3,
     "solution": true,
     "task": false
    }
   },
   "outputs": [],
   "source": [
    "# YOUR CODE HERE\n",
    "raise NotImplementedError()"
   ]
  },
  {
   "cell_type": "code",
   "execution_count": null,
   "metadata": {
    "deletable": false,
    "editable": false,
    "nbgrader": {
     "cell_type": "code",
     "checksum": "130ab499d3cce5f01a00d912dd2b6665",
     "grade": true,
     "grade_id": "cell-91e78d230d52fb4c",
     "locked": true,
     "points": 2,
     "schema_version": 3,
     "solution": false,
     "task": false
    }
   },
   "outputs": [],
   "source": [
    "data_csv=pd.read_csv('cases.csv')\n",
    "data_hdf=pd.read_hdf('cases.hdf', key='data')\n",
    "data_par=pd.read_parquet('cases.parquet')\n",
    "data_fea=pd.read_feather('cases.feather')\n",
    "\n",
    "assert(data_csv.shape==(246,2))\n",
    "assert(data_hdf.shape==(246,1))\n",
    "assert(data_par.shape==(246,2))\n",
    "assert(data_fea.shape==(246,2))\n",
    "\n",
    "# Check the types of the datetime column values\n",
    "assert(type(data_csv.iloc[1,0])==str)\n",
    "assert(type(data_hdf.index[0])==pd.Timestamp)\n",
    "assert(type(data_par.iloc[1,0])==pd.Timestamp)\n",
    "assert(type(data_fea.iloc[1,0])==pd.Timestamp)"
   ]
  },
  {
   "cell_type": "markdown",
   "metadata": {
    "deletable": false,
    "editable": false,
    "nbgrader": {
     "cell_type": "markdown",
     "checksum": "75aefc37c6dca9e57f3690f29e6cf7fa",
     "grade": false,
     "grade_id": "cell-140553854483d1cf",
     "locked": true,
     "schema_version": 3,
     "solution": false,
     "task": false
    }
   },
   "source": [
    "Note that the binary data formats retain the timestamps objects as timestamps, whereas after reading CSV, the timestamps needs to be parsed again to timestamps.\n",
    "\n",
    "To help deciding which format to use in your own projects, take a look at the \n",
    "[comparison of different file formats](https://towardsdatascience.com/the-best-format-to-save-pandas-data-414dca023e0d). The optimal file format depends also on the application."
   ]
  },
  {
   "cell_type": "code",
   "execution_count": null,
   "metadata": {},
   "outputs": [],
   "source": []
  }
 ],
 "metadata": {
  "kernelspec": {
   "display_name": "Python 3",
   "language": "python",
   "name": "python3"
  },
  "language_info": {
   "codemirror_mode": {
    "name": "ipython",
    "version": 3
   },
   "file_extension": ".py",
   "mimetype": "text/x-python",
   "name": "python",
   "nbconvert_exporter": "python",
   "pygments_lexer": "ipython3",
   "version": "3.7.8"
  }
 },
 "nbformat": 4,
 "nbformat_minor": 2
}
