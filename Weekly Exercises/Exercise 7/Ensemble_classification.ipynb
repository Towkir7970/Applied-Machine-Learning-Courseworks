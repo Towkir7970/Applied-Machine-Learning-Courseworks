{
 "cells": [
  {
   "cell_type": "markdown",
   "id": "99ee49e9",
   "metadata": {},
   "source": [
    "# Applied Machine Learning (2023), exercises\n",
    "\n",
    "\n",
    "## General instructions for all exercises\n",
    "\n",
    "Follow the instructions and fill in your solution under the line marked by tag\n",
    "\n",
    "> YOUR CODE HERE\n",
    "\n",
    "Remove also line \n",
    "\n",
    "> raise NotImplementedError()\n",
    "\n",
    "**Do not change other areas of the document**, since it may disturb the autograding of your results!\n",
    "  \n",
    "Having written the answer, execute the code cell by and pressing `Shift-Enter` key combination. The code is run, and it may print some information under the code cell. The focus automatically moves to the next cell and you may \"execute\" that cell by pressing `Shift-Enter` again, until you have reached the code cell which tests your solution. Execute that and follow the feedback. Usually it either says that the solution seems acceptable, or reports some errors. You can go back to your solution, modify it and repeat everything until you are satisfied. Then proceed to the next task.\n",
    "   \n",
    "Repeat the process for all tasks.\n",
    "\n",
    "The notebook may also contain manually graded answers. Write your manually graded answer under the line marked by tag:\n",
    "\n",
    "> YOUR ANSWER HERE\n",
    "\n",
    "Manually graded tasks are text in markdown format. It may contain text, pseudocode, or mathematical formulas. You can write formulas with $\\LaTeX$-syntax by enclosing the formula with dollar signs (`$`), for example `$f(x)=2 \\pi / \\alpha$`, will produce $f(x)=2 \\pi / \\alpha$\n",
    "\n",
    "When you have passed the tests in the notebook, and you are ready to submit your solutions, validate and submit your solution using the nbgrader tools from the `Nbgrader/Assignment List`-menu.\n"
   ]
  },
  {
   "cell_type": "code",
   "execution_count": null,
   "id": "ab3f25ed",
   "metadata": {},
   "outputs": [],
   "source": []
  },
  {
   "cell_type": "markdown",
   "id": "437096ad-2d38-41a3-9d96-273e0afde5fe",
   "metadata": {},
   "source": [
    "# Ensemble classification and hyperparameter tuning\n",
    "## Preparations"
   ]
  },
  {
   "cell_type": "code",
   "execution_count": 1,
   "id": "9557c18b-3e35-4650-a009-cf6cd4adca7a",
   "metadata": {},
   "outputs": [],
   "source": [
    "import numpy as np\n",
    "import pandas as pd\n",
    "import matplotlib.pyplot as plt\n",
    "import seaborn as sns\n",
    "sns.set()  # for plot styling"
   ]
  },
  {
   "cell_type": "code",
   "execution_count": 2,
   "id": "ba0bbfb2-0a3e-40eb-b587-3ff45e53cac0",
   "metadata": {},
   "outputs": [
    {
     "name": "stdout",
     "output_type": "stream",
     "text": [
      "['collagen' 'glycogen' 'lipids' 'DNA']\n"
     ]
    }
   ],
   "source": [
    "# Read the previously used liver spectroscopy data set\n",
    "D = pd.read_table('liver-spectroscopy.tab')\n",
    "\n",
    "# Print the classes\n",
    "print(D.type.unique())\n",
    "\n",
    "# Separate the true classes out from the data, into separate variable\n",
    "types=pd.Categorical(D.type)"
   ]
  },
  {
   "cell_type": "code",
   "execution_count": 3,
   "id": "4a65628d-654f-4323-851c-c5ac974c0637",
   "metadata": {},
   "outputs": [
    {
     "data": {
      "text/html": [
       "<div>\n",
       "<style scoped>\n",
       "    .dataframe tbody tr th:only-of-type {\n",
       "        vertical-align: middle;\n",
       "    }\n",
       "\n",
       "    .dataframe tbody tr th {\n",
       "        vertical-align: top;\n",
       "    }\n",
       "\n",
       "    .dataframe thead th {\n",
       "        text-align: right;\n",
       "    }\n",
       "</style>\n",
       "<table border=\"1\" class=\"dataframe\">\n",
       "  <thead>\n",
       "    <tr style=\"text-align: right;\">\n",
       "      <th></th>\n",
       "      <th>1801</th>\n",
       "      <th>1797</th>\n",
       "      <th>1793</th>\n",
       "      <th>1789</th>\n",
       "      <th>1785</th>\n",
       "      <th>1781</th>\n",
       "      <th>1778</th>\n",
       "      <th>1774</th>\n",
       "      <th>1770</th>\n",
       "      <th>1766</th>\n",
       "      <th>...</th>\n",
       "      <th>937</th>\n",
       "      <th>933</th>\n",
       "      <th>929</th>\n",
       "      <th>925</th>\n",
       "      <th>921</th>\n",
       "      <th>917</th>\n",
       "      <th>914</th>\n",
       "      <th>910</th>\n",
       "      <th>906</th>\n",
       "      <th>902</th>\n",
       "    </tr>\n",
       "  </thead>\n",
       "  <tbody>\n",
       "    <tr>\n",
       "      <th>730</th>\n",
       "      <td>0.148</td>\n",
       "      <td>0.149</td>\n",
       "      <td>0.150</td>\n",
       "      <td>0.151</td>\n",
       "      <td>0.151</td>\n",
       "      <td>0.152</td>\n",
       "      <td>0.154</td>\n",
       "      <td>0.156</td>\n",
       "      <td>0.159</td>\n",
       "      <td>0.161</td>\n",
       "      <td>...</td>\n",
       "      <td>0.202</td>\n",
       "      <td>0.202</td>\n",
       "      <td>0.202</td>\n",
       "      <td>0.201</td>\n",
       "      <td>0.200</td>\n",
       "      <td>0.199</td>\n",
       "      <td>0.197</td>\n",
       "      <td>0.195</td>\n",
       "      <td>0.192</td>\n",
       "      <td>0.190</td>\n",
       "    </tr>\n",
       "    <tr>\n",
       "      <th>241</th>\n",
       "      <td>0.093</td>\n",
       "      <td>0.093</td>\n",
       "      <td>0.093</td>\n",
       "      <td>0.093</td>\n",
       "      <td>0.093</td>\n",
       "      <td>0.094</td>\n",
       "      <td>0.095</td>\n",
       "      <td>0.098</td>\n",
       "      <td>0.099</td>\n",
       "      <td>0.100</td>\n",
       "      <td>...</td>\n",
       "      <td>0.221</td>\n",
       "      <td>0.223</td>\n",
       "      <td>0.223</td>\n",
       "      <td>0.221</td>\n",
       "      <td>0.219</td>\n",
       "      <td>0.215</td>\n",
       "      <td>0.211</td>\n",
       "      <td>0.206</td>\n",
       "      <td>0.203</td>\n",
       "      <td>0.200</td>\n",
       "    </tr>\n",
       "    <tr>\n",
       "      <th>347</th>\n",
       "      <td>0.103</td>\n",
       "      <td>0.103</td>\n",
       "      <td>0.104</td>\n",
       "      <td>0.104</td>\n",
       "      <td>0.104</td>\n",
       "      <td>0.105</td>\n",
       "      <td>0.106</td>\n",
       "      <td>0.108</td>\n",
       "      <td>0.110</td>\n",
       "      <td>0.110</td>\n",
       "      <td>...</td>\n",
       "      <td>0.220</td>\n",
       "      <td>0.221</td>\n",
       "      <td>0.221</td>\n",
       "      <td>0.219</td>\n",
       "      <td>0.217</td>\n",
       "      <td>0.214</td>\n",
       "      <td>0.211</td>\n",
       "      <td>0.207</td>\n",
       "      <td>0.203</td>\n",
       "      <td>0.200</td>\n",
       "    </tr>\n",
       "    <tr>\n",
       "      <th>253</th>\n",
       "      <td>0.129</td>\n",
       "      <td>0.129</td>\n",
       "      <td>0.129</td>\n",
       "      <td>0.129</td>\n",
       "      <td>0.128</td>\n",
       "      <td>0.128</td>\n",
       "      <td>0.129</td>\n",
       "      <td>0.130</td>\n",
       "      <td>0.131</td>\n",
       "      <td>0.131</td>\n",
       "      <td>...</td>\n",
       "      <td>0.234</td>\n",
       "      <td>0.237</td>\n",
       "      <td>0.238</td>\n",
       "      <td>0.237</td>\n",
       "      <td>0.236</td>\n",
       "      <td>0.234</td>\n",
       "      <td>0.231</td>\n",
       "      <td>0.227</td>\n",
       "      <td>0.225</td>\n",
       "      <td>0.223</td>\n",
       "    </tr>\n",
       "    <tr>\n",
       "      <th>561</th>\n",
       "      <td>0.095</td>\n",
       "      <td>0.095</td>\n",
       "      <td>0.095</td>\n",
       "      <td>0.094</td>\n",
       "      <td>0.093</td>\n",
       "      <td>0.093</td>\n",
       "      <td>0.093</td>\n",
       "      <td>0.095</td>\n",
       "      <td>0.098</td>\n",
       "      <td>0.103</td>\n",
       "      <td>...</td>\n",
       "      <td>0.236</td>\n",
       "      <td>0.237</td>\n",
       "      <td>0.239</td>\n",
       "      <td>0.239</td>\n",
       "      <td>0.240</td>\n",
       "      <td>0.239</td>\n",
       "      <td>0.238</td>\n",
       "      <td>0.235</td>\n",
       "      <td>0.233</td>\n",
       "      <td>0.233</td>\n",
       "    </tr>\n",
       "    <tr>\n",
       "      <th>496</th>\n",
       "      <td>0.102</td>\n",
       "      <td>0.102</td>\n",
       "      <td>0.103</td>\n",
       "      <td>0.103</td>\n",
       "      <td>0.103</td>\n",
       "      <td>0.104</td>\n",
       "      <td>0.105</td>\n",
       "      <td>0.107</td>\n",
       "      <td>0.113</td>\n",
       "      <td>0.124</td>\n",
       "      <td>...</td>\n",
       "      <td>0.212</td>\n",
       "      <td>0.215</td>\n",
       "      <td>0.218</td>\n",
       "      <td>0.220</td>\n",
       "      <td>0.223</td>\n",
       "      <td>0.224</td>\n",
       "      <td>0.225</td>\n",
       "      <td>0.225</td>\n",
       "      <td>0.225</td>\n",
       "      <td>0.226</td>\n",
       "    </tr>\n",
       "    <tr>\n",
       "      <th>110</th>\n",
       "      <td>0.148</td>\n",
       "      <td>0.149</td>\n",
       "      <td>0.149</td>\n",
       "      <td>0.150</td>\n",
       "      <td>0.150</td>\n",
       "      <td>0.151</td>\n",
       "      <td>0.151</td>\n",
       "      <td>0.152</td>\n",
       "      <td>0.154</td>\n",
       "      <td>0.155</td>\n",
       "      <td>...</td>\n",
       "      <td>0.197</td>\n",
       "      <td>0.197</td>\n",
       "      <td>0.196</td>\n",
       "      <td>0.195</td>\n",
       "      <td>0.193</td>\n",
       "      <td>0.191</td>\n",
       "      <td>0.189</td>\n",
       "      <td>0.186</td>\n",
       "      <td>0.184</td>\n",
       "      <td>0.182</td>\n",
       "    </tr>\n",
       "    <tr>\n",
       "      <th>120</th>\n",
       "      <td>0.129</td>\n",
       "      <td>0.129</td>\n",
       "      <td>0.130</td>\n",
       "      <td>0.131</td>\n",
       "      <td>0.130</td>\n",
       "      <td>0.131</td>\n",
       "      <td>0.132</td>\n",
       "      <td>0.134</td>\n",
       "      <td>0.135</td>\n",
       "      <td>0.136</td>\n",
       "      <td>...</td>\n",
       "      <td>0.230</td>\n",
       "      <td>0.231</td>\n",
       "      <td>0.231</td>\n",
       "      <td>0.230</td>\n",
       "      <td>0.229</td>\n",
       "      <td>0.227</td>\n",
       "      <td>0.225</td>\n",
       "      <td>0.222</td>\n",
       "      <td>0.220</td>\n",
       "      <td>0.218</td>\n",
       "    </tr>\n",
       "    <tr>\n",
       "      <th>82</th>\n",
       "      <td>0.139</td>\n",
       "      <td>0.140</td>\n",
       "      <td>0.140</td>\n",
       "      <td>0.141</td>\n",
       "      <td>0.141</td>\n",
       "      <td>0.142</td>\n",
       "      <td>0.143</td>\n",
       "      <td>0.145</td>\n",
       "      <td>0.146</td>\n",
       "      <td>0.148</td>\n",
       "      <td>...</td>\n",
       "      <td>0.231</td>\n",
       "      <td>0.231</td>\n",
       "      <td>0.231</td>\n",
       "      <td>0.231</td>\n",
       "      <td>0.230</td>\n",
       "      <td>0.228</td>\n",
       "      <td>0.225</td>\n",
       "      <td>0.223</td>\n",
       "      <td>0.221</td>\n",
       "      <td>0.220</td>\n",
       "    </tr>\n",
       "    <tr>\n",
       "      <th>551</th>\n",
       "      <td>0.101</td>\n",
       "      <td>0.102</td>\n",
       "      <td>0.102</td>\n",
       "      <td>0.102</td>\n",
       "      <td>0.102</td>\n",
       "      <td>0.103</td>\n",
       "      <td>0.104</td>\n",
       "      <td>0.106</td>\n",
       "      <td>0.111</td>\n",
       "      <td>0.118</td>\n",
       "      <td>...</td>\n",
       "      <td>0.221</td>\n",
       "      <td>0.222</td>\n",
       "      <td>0.222</td>\n",
       "      <td>0.222</td>\n",
       "      <td>0.222</td>\n",
       "      <td>0.219</td>\n",
       "      <td>0.217</td>\n",
       "      <td>0.214</td>\n",
       "      <td>0.212</td>\n",
       "      <td>0.211</td>\n",
       "    </tr>\n",
       "  </tbody>\n",
       "</table>\n",
       "<p>10 rows × 234 columns</p>\n",
       "</div>"
      ],
      "text/plain": [
       "      1801   1797   1793   1789   1785   1781   1778   1774   1770   1766  \\\n",
       "730  0.148  0.149  0.150  0.151  0.151  0.152  0.154  0.156  0.159  0.161   \n",
       "241  0.093  0.093  0.093  0.093  0.093  0.094  0.095  0.098  0.099  0.100   \n",
       "347  0.103  0.103  0.104  0.104  0.104  0.105  0.106  0.108  0.110  0.110   \n",
       "253  0.129  0.129  0.129  0.129  0.128  0.128  0.129  0.130  0.131  0.131   \n",
       "561  0.095  0.095  0.095  0.094  0.093  0.093  0.093  0.095  0.098  0.103   \n",
       "496  0.102  0.102  0.103  0.103  0.103  0.104  0.105  0.107  0.113  0.124   \n",
       "110  0.148  0.149  0.149  0.150  0.150  0.151  0.151  0.152  0.154  0.155   \n",
       "120  0.129  0.129  0.130  0.131  0.130  0.131  0.132  0.134  0.135  0.136   \n",
       "82   0.139  0.140  0.140  0.141  0.141  0.142  0.143  0.145  0.146  0.148   \n",
       "551  0.101  0.102  0.102  0.102  0.102  0.103  0.104  0.106  0.111  0.118   \n",
       "\n",
       "     ...   937    933    929    925    921    917    914    910    906    902   \n",
       "730  ...  0.202  0.202  0.202  0.201  0.200  0.199  0.197  0.195  0.192  0.190  \n",
       "241  ...  0.221  0.223  0.223  0.221  0.219  0.215  0.211  0.206  0.203  0.200  \n",
       "347  ...  0.220  0.221  0.221  0.219  0.217  0.214  0.211  0.207  0.203  0.200  \n",
       "253  ...  0.234  0.237  0.238  0.237  0.236  0.234  0.231  0.227  0.225  0.223  \n",
       "561  ...  0.236  0.237  0.239  0.239  0.240  0.239  0.238  0.235  0.233  0.233  \n",
       "496  ...  0.212  0.215  0.218  0.220  0.223  0.224  0.225  0.225  0.225  0.226  \n",
       "110  ...  0.197  0.197  0.196  0.195  0.193  0.191  0.189  0.186  0.184  0.182  \n",
       "120  ...  0.230  0.231  0.231  0.230  0.229  0.227  0.225  0.222  0.220  0.218  \n",
       "82   ...  0.231  0.231  0.231  0.231  0.230  0.228  0.225  0.223  0.221  0.220  \n",
       "551  ...  0.221  0.222  0.222  0.222  0.222  0.219  0.217  0.214  0.212  0.211  \n",
       "\n",
       "[10 rows x 234 columns]"
      ]
     },
     "metadata": {},
     "output_type": "display_data"
    },
    {
     "data": {
      "text/plain": [
       "<Axes: >"
      ]
     },
     "execution_count": 3,
     "metadata": {},
     "output_type": "execute_result"
    },
    {
     "data": {
      "image/png": "[encoded data removed]",
      "text/plain": [
       "<Figure size 640x480 with 1 Axes>"
      ]
     },
     "metadata": {},
     "output_type": "display_data"
    }
   ],
   "source": [
    "# Parse the column index to integer wavelengths using a lambda-function\n",
    "wl=D.columns[:-1].map(lambda x: int(float(x)))\n",
    "\n",
    "# Separate the numerical data from liver spectroscopy to design matrix X\n",
    "X=D.iloc[:,:-1]\n",
    "\n",
    "# Assign numerical values to column names, so that the plot is prettier\n",
    "X.columns=wl\n",
    "\n",
    "# Print and plot 10 randomly selected samples from the data\n",
    "sample=X.sample(10)\n",
    "display(sample)\n",
    "sample.T.plot()"
   ]
  },
  {
   "cell_type": "markdown",
   "id": "7cbca0a4-66ae-4b9a-ba60-13370e0e40a2",
   "metadata": {},
   "source": [
    "## Task 1: Apply the extratrees classifier\n",
    "\n",
    "Import Extratrees classifier from `sklearn.ensemble`, instantiate a classifier with following parameters. \n",
    " - number of estimators = 10\n",
    " - maximum depth = 3\n",
    " - minimum samples split = 2\n",
    "\n",
    "When the predictor is trained with these ad-hoc parameters, study its performance with following 5 methods\n",
    "\n",
    " 1. Styled confusion matrix: `display(pd.crosstab(....))`\n",
    " 3. Accuracy: `print(metrics.accuracy_score(...))`\n",
    " 4. More accuracy measures: `print(metrics.classification_report(...))`\n",
    " 5. Check accuracy with cross validation: `print(cross_val_score(...))` using three-fold cross validation\n",
    " 6. Calculate the mean of cross validation results over all folds\n",
    "\n",
    "You can check what recall and f1-score means from SKlearn documentation, page [Precision-Recall](https://scikit-learn.org/stable/auto_examples/model_selection/plot_precision_recall.html)\n",
    "\n",
    "You can import [Extratrees classifier](https://scikit-learn.org/stable/modules/generated/sklearn.ensemble.ExtraTreesClassifier.html#sklearn.ensemble.ExtraTreesClassifier) from [sklearn.ensemble](https://scikit-learn.org/stable/modules/classes.html#module-sklearn.ensemble) Import also [metrics](https://scikit-learn.org/stable/modules/classes.html#module-sklearn.metrics) from sklearn since it contains all important classifier metrices. And import cross_val_score from [sklearn.model_selection](https://scikit-learn.org/stable/modules/classes.html#module-sklearn.model_selection)\n",
    "\n",
    "Name your variables according to the following table, in order to make the autograder tests to work:\n",
    "\n",
    "| Variable | Name |\n",
    "| -------- | ------|\n",
    "| classifier, estimator | `est` |\n",
    "| Accuracy | `accuracy` |\n",
    "| Cross val accuracy | `cv_accuracy` |\n",
    "| Confusion matrix, made with crosstab | `cm` |"
   ]
  },
  {
   "cell_type": "code",
   "execution_count": 10,
   "id": "c64d83e5-c47f-400b-9cdf-ada0062d4ae8",
   "metadata": {},
   "outputs": [],
   "source": [
    "from sklearn.preprocessing import LabelEncoder\n",
    "le = LabelEncoder()\n",
    "y = le.fit_transform(types)"
   ]
  },
  {
   "cell_type": "code",
   "execution_count": 12,
   "id": "c00834a3-3800-4f98-934e-1caf153916d3",
   "metadata": {},
   "outputs": [
    {
     "data": {
      "text/plain": [
       "(731,)"
      ]
     },
     "execution_count": 12,
     "metadata": {},
     "output_type": "execute_result"
    }
   ],
   "source": [
    "y.shape"
   ]
  },
  {
   "cell_type": "code",
   "execution_count": 13,
   "id": "b75ef505-8c65-4edb-827e-286050835074",
   "metadata": {},
   "outputs": [],
   "source": [
    "from sklearn.model_selection import train_test_split\n",
    "X_train, X_test, y_train, y_test = train_test_split(X, y, test_size=0.33, random_state=42)"
   ]
  },
  {
   "cell_type": "code",
   "execution_count": 16,
   "id": "a1a1b5e9-cd7a-47a3-b2e7-b9fe4f5ae33b",
   "metadata": {
    "deletable": false,
    "nbgrader": {
     "cell_type": "code",
     "checksum": "b0c1f201c4d0b1e6f2975d292eecc2f3",
     "grade": false,
     "grade_id": "cell-8a3246a6c6d7ca95",
     "locked": false,
     "schema_version": 3,
     "solution": true,
     "task": false
    }
   },
   "outputs": [],
   "source": [
    "# YOUR CODE HERE\n",
    "from sklearn.ensemble import ExtraTreesClassifier\n",
    "est = ExtraTreesClassifier(n_estimators=10, max_depth=3, min_samples_split=2)\n",
    "est.fit(X_train, y_train)\n",
    "y_pred = est.predict(X_test)"
   ]
  },
  {
   "cell_type": "code",
   "execution_count": 17,
   "id": "49aed92a-0e15-454b-ac0c-f4a6bd7c059c",
   "metadata": {},
   "outputs": [
    {
     "data": {
      "text/plain": [
       "(242,)"
      ]
     },
     "execution_count": 17,
     "metadata": {},
     "output_type": "execute_result"
    }
   ],
   "source": [
    "y_pred.shape"
   ]
  },
  {
   "cell_type": "code",
   "execution_count": 26,
   "id": "407accc3-6740-4570-b690-7973f9580574",
   "metadata": {},
   "outputs": [],
   "source": [
    "from sklearn.metrics import accuracy_score\n",
    "from sklearn.model_selection import cross_val_score\n",
    "accuracy=accuracy_score(y_test, y_pred)\n",
    "cv_accuracy=cross_val_score(est, X, y, cv=3)"
   ]
  },
  {
   "cell_type": "code",
   "execution_count": 27,
   "id": "f53474a0-0e4f-402f-9d55-c9060f066fc2",
   "metadata": {},
   "outputs": [
    {
     "name": "stdout",
     "output_type": "stream",
     "text": [
      "[0.90983607 0.91393443 0.87654321]\n"
     ]
    }
   ],
   "source": [
    "print(cv_accuracy)"
   ]
  },
  {
   "cell_type": "code",
   "execution_count": 29,
   "id": "bff99c2c-3ae5-44a2-8c89-299605720b41",
   "metadata": {},
   "outputs": [
    {
     "data": {
      "text/plain": [
       "0.9001045672266073"
      ]
     },
     "execution_count": 29,
     "metadata": {},
     "output_type": "execute_result"
    }
   ],
   "source": [
    "mean_cv_accuracy = np.mean(cv_accuracy)\n",
    "mean_cv_accuracy"
   ]
  },
  {
   "cell_type": "code",
   "execution_count": 32,
   "id": "faab2f23-c0e4-49dc-b22b-8bb9db07d527",
   "metadata": {},
   "outputs": [],
   "source": [
    "cm=pd.crosstab(y_test, y_pred)"
   ]
  },
  {
   "cell_type": "code",
   "execution_count": 33,
   "id": "9f3b2f09-498b-4f28-89ca-27dc4a8f03b9",
   "metadata": {},
   "outputs": [
    {
     "data": {
      "text/html": [
       "<div>\n",
       "<style scoped>\n",
       "    .dataframe tbody tr th:only-of-type {\n",
       "        vertical-align: middle;\n",
       "    }\n",
       "\n",
       "    .dataframe tbody tr th {\n",
       "        vertical-align: top;\n",
       "    }\n",
       "\n",
       "    .dataframe thead th {\n",
       "        text-align: right;\n",
       "    }\n",
       "</style>\n",
       "<table border=\"1\" class=\"dataframe\">\n",
       "  <thead>\n",
       "    <tr style=\"text-align: right;\">\n",
       "      <th>col_0</th>\n",
       "      <th>0</th>\n",
       "      <th>1</th>\n",
       "      <th>2</th>\n",
       "      <th>3</th>\n",
       "    </tr>\n",
       "    <tr>\n",
       "      <th>row_0</th>\n",
       "      <th></th>\n",
       "      <th></th>\n",
       "      <th></th>\n",
       "      <th></th>\n",
       "    </tr>\n",
       "  </thead>\n",
       "  <tbody>\n",
       "    <tr>\n",
       "      <th>0</th>\n",
       "      <td>12</td>\n",
       "      <td>13</td>\n",
       "      <td>0</td>\n",
       "      <td>10</td>\n",
       "    </tr>\n",
       "    <tr>\n",
       "      <th>1</th>\n",
       "      <td>0</td>\n",
       "      <td>66</td>\n",
       "      <td>0</td>\n",
       "      <td>0</td>\n",
       "    </tr>\n",
       "    <tr>\n",
       "      <th>2</th>\n",
       "      <td>0</td>\n",
       "      <td>0</td>\n",
       "      <td>76</td>\n",
       "      <td>0</td>\n",
       "    </tr>\n",
       "    <tr>\n",
       "      <th>3</th>\n",
       "      <td>1</td>\n",
       "      <td>0</td>\n",
       "      <td>0</td>\n",
       "      <td>64</td>\n",
       "    </tr>\n",
       "  </tbody>\n",
       "</table>\n",
       "</div>"
      ],
      "text/plain": [
       "col_0   0   1   2   3\n",
       "row_0                \n",
       "0      12  13   0  10\n",
       "1       0  66   0   0\n",
       "2       0   0  76   0\n",
       "3       1   0   0  64"
      ]
     },
     "metadata": {},
     "output_type": "display_data"
    }
   ],
   "source": [
    "display(cm)"
   ]
  },
  {
   "cell_type": "code",
   "execution_count": 25,
   "id": "f711f583-09f2-4ed8-87d9-bc6419ea7c42",
   "metadata": {},
   "outputs": [
    {
     "data": {
      "text/plain": [
       "'              precision    recall  f1-score   support\\n\\n           0       0.92      0.34      0.50        35\\n           1       0.84      1.00      0.91        66\\n           2       1.00      1.00      1.00        76\\n           3       0.86      0.98      0.92        65\\n\\n    accuracy                           0.90       242\\n   macro avg       0.91      0.83      0.83       242\\nweighted avg       0.91      0.90      0.88       242\\n'"
      ]
     },
     "execution_count": 25,
     "metadata": {},
     "output_type": "execute_result"
    }
   ],
   "source": [
    "from sklearn.metrics import classification_report\n",
    "classification_report(y_test, y_pred)"
   ]
  },
  {
   "cell_type": "code",
   "execution_count": 34,
   "id": "f6a1d143-aeb2-4854-babd-e2a1d238aa1a",
   "metadata": {
    "deletable": false,
    "editable": false,
    "nbgrader": {
     "cell_type": "code",
     "checksum": "690db61d6657aefb7fbf512c361b73a8",
     "grade": true,
     "grade_id": "cell-bde6a2570713d7c3",
     "locked": true,
     "points": 4,
     "schema_version": 3,
     "solution": false,
     "task": false
    }
   },
   "outputs": [
    {
     "name": "stdout",
     "output_type": "stream",
     "text": [
      "No errrors found this far, your code may work :)\n"
     ]
    }
   ],
   "source": [
    "import sklearn\n",
    "errorfound=False\n",
    "require=('est', 'accuracy', 'cv_accuracy', 'cm')\n",
    "for var in require:\n",
    "    if var not in globals():\n",
    "        print(var, \"not found! Please define it.\")\n",
    "        errorfound=True\n",
    "\n",
    "if type(est) != sklearn.ensemble.ExtraTreesClassifier:\n",
    "    print(\"The classifier is of wrong type\")\n",
    "    errorfound=1\n",
    "if not errorfound:\n",
    "    print(\"No errrors found this far, your code may work :)\")\n"
   ]
  },
  {
   "cell_type": "markdown",
   "id": "902d2ca3-e471-44d7-b378-30e67c4004d5",
   "metadata": {},
   "source": [
    "## Task 2, optimize the classifier\n",
    "\n",
    "Lets try now to find optimal parameters controlling the model (=hyperparameters) for the classifier with grid search CV. Search the parameters:\n",
    " - `n_estimators`\n",
    " - `max_depth` and\n",
    " - `min_samples_split`\n",
    "\n",
    "Use the previously used extratrees classifier as a starting point\n",
    "\n",
    "Name your variables according to the following table, in order to make the autograder tests to work:\n",
    "\n",
    "| Variable | Name |\n",
    "| -------- | ------|\n",
    "| Tunable parameters structure | `params` |\n",
    "| Grid search object | `cv_est` |"
   ]
  },
  {
   "cell_type": "code",
   "execution_count": null,
   "id": "d716cc7b-67e3-4113-a16f-976c9b8fca88",
   "metadata": {
    "deletable": false,
    "nbgrader": {
     "cell_type": "code",
     "checksum": "0ee63314323978f340ddebb665a0811d",
     "grade": false,
     "grade_id": "cell-7fce41d98632a7d5",
     "locked": false,
     "schema_version": 3,
     "solution": true,
     "task": false
    }
   },
   "outputs": [],
   "source": [
    "# YOUR CODE HERE\n",
    "from sklearn.model_selection import GridSearchCV\n",
    "params = [{'n_estimators': range(10,25), 'max_depth': range(3,15),\n",
    "                     'min_samples_split': range(2,20)}]\n",
    "cv_est=GridSearchCV(est, params, cv=3)\n",
    "cv_est.fit(X_train, y_train);\n"
   ]
  },
  {
   "cell_type": "code",
   "execution_count": 37,
   "id": "c71d7f7d-dd74-4425-980c-e5995df26e8f",
   "metadata": {
    "deletable": false,
    "editable": false,
    "nbgrader": {
     "cell_type": "code",
     "checksum": "80c76637eb08ebe76f746f8cc69a62af",
     "grade": true,
     "grade_id": "cell-c6a9385f6d2122ad",
     "locked": true,
     "points": 3,
     "schema_version": 3,
     "solution": false,
     "task": false
    }
   },
   "outputs": [],
   "source": [
    "errorfound=False\n",
    "require=('params', 'cv_est')\n",
    "for var in require:\n",
    "    if var not in globals():\n",
    "        print(var, \"not found! Please define it.\")\n",
    "        errorfound=True\n",
    "        "
   ]
  },
  {
   "cell_type": "markdown",
   "id": "a62b2e9f-d103-41ad-ad52-f9af4270bd93",
   "metadata": {},
   "source": [
    "## Task 3\n",
    "\n",
    "Having trained your estimator, check what where the optimal parameters, and compare the CV-accuracy with the previous model and plot the confusion matrix with crosstab as well. Did it improve?\n",
    "\n",
    "Notice that you will find the optimised estimator as `cv_est.best_estimator_`, and you can see all its parameters with `est_opt.get_params()`.\n",
    "\n",
    "Name your variables according to the following table, in order to make the autograder tests to work:\n",
    "\n",
    "| Variable | Name |\n",
    "| -------- | ------|\n",
    "| Optimal, tuned predictor | `est_opt` |\n",
    "| Cross validation accuracy | `cv_opt` |\n",
    "| Confusion matrix  | `cm_opt` |"
   ]
  },
  {
   "cell_type": "code",
   "execution_count": 38,
   "id": "276cb450-bc94-420b-b1cc-c71d46b296ec",
   "metadata": {},
   "outputs": [
    {
     "name": "stdout",
     "output_type": "stream",
     "text": [
      "Accurary in the training set..0.997955\n",
      "Accurary in the test set......0.991736\n",
      "ExtraTreesClassifier(max_depth=16, min_samples_split=7, n_estimators=10)\n"
     ]
    }
   ],
   "source": [
    "est_opt=cv_est.best_estimator_\n",
    "\n",
    "print(\"Accurary in the training set..%f\" % accuracy_score(y_true=y_train, y_pred=est_opt.predict(X_train)))\n",
    "print(\"Accurary in the test set......%f\" % accuracy_score(y_true=y_test, y_pred=est_opt.predict(X_test)))\n",
    "print(est_opt)"
   ]
  },
  {
   "cell_type": "code",
   "execution_count": 39,
   "id": "f37e5398-e32c-4b17-8aa3-d1414550cd53",
   "metadata": {
    "deletable": false,
    "nbgrader": {
     "cell_type": "code",
     "checksum": "12182ea59d767994edf548d5ef2a4bb3",
     "grade": false,
     "grade_id": "cell-753f173f83201304",
     "locked": false,
     "schema_version": 3,
     "solution": true,
     "task": false
    }
   },
   "outputs": [
    {
     "data": {
      "text/plain": [
       "array([0.9057377 , 0.99180328, 0.98765432])"
      ]
     },
     "execution_count": 39,
     "metadata": {},
     "output_type": "execute_result"
    }
   ],
   "source": [
    "# YOUR CODE HERE\n",
    "cv_opt=cross_val_score(est_opt, X, y, cv=3)\n",
    "cv_opt"
   ]
  },
  {
   "cell_type": "code",
   "execution_count": 40,
   "id": "a148b15f-71c9-4c33-8603-5fe534f376d1",
   "metadata": {},
   "outputs": [
    {
     "data": {
      "text/plain": [
       "0.9617317681980705"
      ]
     },
     "execution_count": 40,
     "metadata": {},
     "output_type": "execute_result"
    }
   ],
   "source": [
    "mean_cv_opt = np.mean(cv_opt)\n",
    "mean_cv_opt"
   ]
  },
  {
   "cell_type": "code",
   "execution_count": 42,
   "id": "307c6337-0684-4c7e-be91-5fed65d7605c",
   "metadata": {},
   "outputs": [],
   "source": [
    "y_pred_opt = est_opt.predict(X_test)"
   ]
  },
  {
   "cell_type": "code",
   "execution_count": 43,
   "id": "66735779-f4ab-4e04-a1a4-1e809aa9b10a",
   "metadata": {},
   "outputs": [],
   "source": [
    "cm_opt=pd.crosstab(y_test, y_pred_opt)"
   ]
  },
  {
   "cell_type": "code",
   "execution_count": 44,
   "id": "6c4baf91-f96c-4831-9b61-e30e29ba7ee7",
   "metadata": {},
   "outputs": [
    {
     "data": {
      "text/html": [
       "<div>\n",
       "<style scoped>\n",
       "    .dataframe tbody tr th:only-of-type {\n",
       "        vertical-align: middle;\n",
       "    }\n",
       "\n",
       "    .dataframe tbody tr th {\n",
       "        vertical-align: top;\n",
       "    }\n",
       "\n",
       "    .dataframe thead th {\n",
       "        text-align: right;\n",
       "    }\n",
       "</style>\n",
       "<table border=\"1\" class=\"dataframe\">\n",
       "  <thead>\n",
       "    <tr style=\"text-align: right;\">\n",
       "      <th>col_0</th>\n",
       "      <th>0</th>\n",
       "      <th>1</th>\n",
       "      <th>2</th>\n",
       "      <th>3</th>\n",
       "    </tr>\n",
       "    <tr>\n",
       "      <th>row_0</th>\n",
       "      <th></th>\n",
       "      <th></th>\n",
       "      <th></th>\n",
       "      <th></th>\n",
       "    </tr>\n",
       "  </thead>\n",
       "  <tbody>\n",
       "    <tr>\n",
       "      <th>0</th>\n",
       "      <td>34</td>\n",
       "      <td>1</td>\n",
       "      <td>0</td>\n",
       "      <td>0</td>\n",
       "    </tr>\n",
       "    <tr>\n",
       "      <th>1</th>\n",
       "      <td>1</td>\n",
       "      <td>65</td>\n",
       "      <td>0</td>\n",
       "      <td>0</td>\n",
       "    </tr>\n",
       "    <tr>\n",
       "      <th>2</th>\n",
       "      <td>0</td>\n",
       "      <td>0</td>\n",
       "      <td>76</td>\n",
       "      <td>0</td>\n",
       "    </tr>\n",
       "    <tr>\n",
       "      <th>3</th>\n",
       "      <td>0</td>\n",
       "      <td>0</td>\n",
       "      <td>0</td>\n",
       "      <td>65</td>\n",
       "    </tr>\n",
       "  </tbody>\n",
       "</table>\n",
       "</div>"
      ],
      "text/plain": [
       "col_0   0   1   2   3\n",
       "row_0                \n",
       "0      34   1   0   0\n",
       "1       1  65   0   0\n",
       "2       0   0  76   0\n",
       "3       0   0   0  65"
      ]
     },
     "metadata": {},
     "output_type": "display_data"
    }
   ],
   "source": [
    "display(cm_opt)"
   ]
  },
  {
   "cell_type": "code",
   "execution_count": 45,
   "id": "ec8e1384-d2db-40ab-956f-073d0588ef11",
   "metadata": {
    "deletable": false,
    "editable": false,
    "nbgrader": {
     "cell_type": "code",
     "checksum": "dbb20f121cd8da83266da7353aae56b2",
     "grade": true,
     "grade_id": "cell-3d0ab546dec66f03",
     "locked": true,
     "points": 3,
     "schema_version": 3,
     "solution": false,
     "task": false
    }
   },
   "outputs": [],
   "source": [
    "errorfound=False\n",
    "require=('est_opt', 'cv_opt', 'cm_opt')\n",
    "for var in require:\n",
    "    if var not in globals():\n",
    "        print(var, \"not found! Please define it.\")\n",
    "        errorfound=True\n",
    "        "
   ]
  },
  {
   "cell_type": "code",
   "execution_count": null,
   "id": "03bdde59-5991-4db8-a88f-a5e27521a2d2",
   "metadata": {},
   "outputs": [],
   "source": []
  }
 ],
 "metadata": {
  "kernelspec": {
   "display_name": "Python 3 (ipykernel)",
   "language": "python",
   "name": "python3"
  },
  "language_info": {
   "codemirror_mode": {
    "name": "ipython",
    "version": 3
   },
   "file_extension": ".py",
   "mimetype": "text/x-python",
   "name": "python",
   "nbconvert_exporter": "python",
   "pygments_lexer": "ipython3",
   "version": "3.10.10"
  }
 },
 "nbformat": 4,
 "nbformat_minor": 5
}
