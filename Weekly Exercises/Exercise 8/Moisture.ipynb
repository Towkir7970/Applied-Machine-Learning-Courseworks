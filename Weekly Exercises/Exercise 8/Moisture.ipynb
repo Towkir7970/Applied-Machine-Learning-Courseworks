{
 "cells": [
  {
   "cell_type": "markdown",
   "metadata": {},
   "source": [
    "# Applied Machine Learning (2023), exercises\n",
    "\n",
    "\n",
    "## General instructions for all exercises\n",
    "\n",
    "Follow the instructions and fill in your solution under the line marked by tag\n",
    "\n",
    "> YOUR CODE HERE\n",
    "\n",
    "Remove also line \n",
    "\n",
    "> raise NotImplementedError()\n",
    "\n",
    "**Do not change other areas of the document**, since it may disturb the autograding of your results!\n",
    "  \n",
    "Having written the answer, execute the code cell by and pressing `Shift-Enter` key combination. The code is run, and it may print some information under the code cell. The focus automatically moves to the next cell and you may \"execute\" that cell by pressing `Shift-Enter` again, until you have reached the code cell which tests your solution. Execute that and follow the feedback. Usually it either says that the solution seems acceptable, or reports some errors. You can go back to your solution, modify it and repeat everything until you are satisfied. Then proceed to the next task.\n",
    "   \n",
    "Repeat the process for all tasks.\n",
    "\n",
    "The notebook may also contain manually graded answers. Write your manually graded answer under the line marked by tag:\n",
    "\n",
    "> YOUR ANSWER HERE\n",
    "\n",
    "Manually graded tasks are text in markdown format. It may contain text, pseudocode, or mathematical formulas. You can write formulas with $\\LaTeX$-syntax by enclosing the formula with dollar signs (`$`), for example `$f(x)=2 \\pi / \\alpha$`, will produce $f(x)=2 \\pi / \\alpha$\n",
    "\n",
    "When you have passed the tests in the notebook, and you are ready to submit your solutions, validate and submit your solution using the nbgrader tools from the `Nbgrader/Assignment List`-menu.\n"
   ]
  },
  {
   "cell_type": "code",
   "execution_count": null,
   "metadata": {},
   "outputs": [],
   "source": []
  },
  {
   "cell_type": "markdown",
   "metadata": {},
   "source": [
    "## Soil moisture prediction (Regression)\n",
    "A remote sensing system provides spectral images of soil, which is used to predict the soil moisture. The spectral data contains a matrix of reflected ligth at different wavelengts from one location. At the same time, the true soil moisture and temperature were measured with an accurate reference method. "
   ]
  },
  {
   "cell_type": "markdown",
   "metadata": {},
   "source": [
    "## Task 1\n",
    "\n",
    "\n",
    "### Read the data\n",
    "\n",
    "- Read a CSV-file, called `soilmoisture_dataset.csv`\n",
    "- Extract all the columns which has a wavelength number as column header to your design matrix X\n",
    "- Use the `soil_moisture` -column as dependent variable, y\n",
    "\n",
    "\n",
    "### Make training set and test set\n",
    "Separate your data X and y to training set (X_train, y_train) which contains 75% of the data and to the test set X_test, y_test which contains 25% of the data."
   ]
  },
  {
   "cell_type": "code",
   "execution_count": 1,
   "metadata": {
    "ExecuteTime": {
     "end_time": "2022-11-18T11:56:50.127184Z",
     "start_time": "2022-11-18T11:56:49.394059Z"
    }
   },
   "outputs": [],
   "source": [
    "import matplotlib.pyplot as plt\n",
    "import pandas as pd\n",
    "import numpy as np"
   ]
  },
  {
   "cell_type": "code",
   "execution_count": 2,
   "metadata": {},
   "outputs": [],
   "source": [
    "D = pd.read_csv('soilmoisture_dataset.csv')"
   ]
  },
  {
   "cell_type": "code",
   "execution_count": 3,
   "metadata": {},
   "outputs": [
    {
     "data": {
      "text/html": [
       "<div>\n",
       "<style scoped>\n",
       "    .dataframe tbody tr th:only-of-type {\n",
       "        vertical-align: middle;\n",
       "    }\n",
       "\n",
       "    .dataframe tbody tr th {\n",
       "        vertical-align: top;\n",
       "    }\n",
       "\n",
       "    .dataframe thead th {\n",
       "        text-align: right;\n",
       "    }\n",
       "</style>\n",
       "<table border=\"1\" class=\"dataframe\">\n",
       "  <thead>\n",
       "    <tr style=\"text-align: right;\">\n",
       "      <th></th>\n",
       "      <th>index</th>\n",
       "      <th>datetime</th>\n",
       "      <th>soil_moisture</th>\n",
       "      <th>soil_temperature</th>\n",
       "      <th>454</th>\n",
       "      <th>458</th>\n",
       "      <th>462</th>\n",
       "      <th>466</th>\n",
       "      <th>470</th>\n",
       "      <th>474</th>\n",
       "      <th>...</th>\n",
       "      <th>914</th>\n",
       "      <th>918</th>\n",
       "      <th>922</th>\n",
       "      <th>926</th>\n",
       "      <th>930</th>\n",
       "      <th>934</th>\n",
       "      <th>938</th>\n",
       "      <th>942</th>\n",
       "      <th>946</th>\n",
       "      <th>950</th>\n",
       "    </tr>\n",
       "  </thead>\n",
       "  <tbody>\n",
       "    <tr>\n",
       "      <th>0</th>\n",
       "      <td>0</td>\n",
       "      <td>2017-05-23 14:06:17</td>\n",
       "      <td>33.51</td>\n",
       "      <td>34.8</td>\n",
       "      <td>0.082131</td>\n",
       "      <td>0.055863</td>\n",
       "      <td>0.050047</td>\n",
       "      <td>0.047925</td>\n",
       "      <td>0.047498</td>\n",
       "      <td>0.046464</td>\n",
       "      <td>...</td>\n",
       "      <td>0.152845</td>\n",
       "      <td>0.152615</td>\n",
       "      <td>0.152927</td>\n",
       "      <td>0.154240</td>\n",
       "      <td>0.155018</td>\n",
       "      <td>0.154725</td>\n",
       "      <td>0.154682</td>\n",
       "      <td>0.154275</td>\n",
       "      <td>0.153477</td>\n",
       "      <td>0.153929</td>\n",
       "    </tr>\n",
       "    <tr>\n",
       "      <th>1</th>\n",
       "      <td>1</td>\n",
       "      <td>2017-05-23 14:08:17</td>\n",
       "      <td>33.49</td>\n",
       "      <td>35.2</td>\n",
       "      <td>0.079510</td>\n",
       "      <td>0.055326</td>\n",
       "      <td>0.049116</td>\n",
       "      <td>0.047579</td>\n",
       "      <td>0.046745</td>\n",
       "      <td>0.046833</td>\n",
       "      <td>...</td>\n",
       "      <td>0.152715</td>\n",
       "      <td>0.153102</td>\n",
       "      <td>0.153551</td>\n",
       "      <td>0.153590</td>\n",
       "      <td>0.153688</td>\n",
       "      <td>0.153370</td>\n",
       "      <td>0.154021</td>\n",
       "      <td>0.155543</td>\n",
       "      <td>0.156220</td>\n",
       "      <td>0.156727</td>\n",
       "    </tr>\n",
       "    <tr>\n",
       "      <th>2</th>\n",
       "      <td>2</td>\n",
       "      <td>2017-05-23 14:10:17</td>\n",
       "      <td>33.46</td>\n",
       "      <td>35.4</td>\n",
       "      <td>0.080599</td>\n",
       "      <td>0.054065</td>\n",
       "      <td>0.049150</td>\n",
       "      <td>0.047537</td>\n",
       "      <td>0.046525</td>\n",
       "      <td>0.046032</td>\n",
       "      <td>...</td>\n",
       "      <td>0.152362</td>\n",
       "      <td>0.152158</td>\n",
       "      <td>0.153204</td>\n",
       "      <td>0.153942</td>\n",
       "      <td>0.154610</td>\n",
       "      <td>0.154629</td>\n",
       "      <td>0.155609</td>\n",
       "      <td>0.155545</td>\n",
       "      <td>0.154884</td>\n",
       "      <td>0.154485</td>\n",
       "    </tr>\n",
       "    <tr>\n",
       "      <th>3</th>\n",
       "      <td>3</td>\n",
       "      <td>2017-05-23 14:12:17</td>\n",
       "      <td>33.33</td>\n",
       "      <td>35.0</td>\n",
       "      <td>0.078024</td>\n",
       "      <td>0.054972</td>\n",
       "      <td>0.049052</td>\n",
       "      <td>0.047920</td>\n",
       "      <td>0.046883</td>\n",
       "      <td>0.046775</td>\n",
       "      <td>...</td>\n",
       "      <td>0.153281</td>\n",
       "      <td>0.153990</td>\n",
       "      <td>0.154499</td>\n",
       "      <td>0.155012</td>\n",
       "      <td>0.154691</td>\n",
       "      <td>0.154643</td>\n",
       "      <td>0.155405</td>\n",
       "      <td>0.155918</td>\n",
       "      <td>0.157645</td>\n",
       "      <td>0.157824</td>\n",
       "    </tr>\n",
       "    <tr>\n",
       "      <th>4</th>\n",
       "      <td>4</td>\n",
       "      <td>2017-05-23 14:14:17</td>\n",
       "      <td>33.32</td>\n",
       "      <td>35.3</td>\n",
       "      <td>0.079973</td>\n",
       "      <td>0.055335</td>\n",
       "      <td>0.049314</td>\n",
       "      <td>0.047373</td>\n",
       "      <td>0.047028</td>\n",
       "      <td>0.046963</td>\n",
       "      <td>...</td>\n",
       "      <td>0.152803</td>\n",
       "      <td>0.153085</td>\n",
       "      <td>0.153295</td>\n",
       "      <td>0.154230</td>\n",
       "      <td>0.155071</td>\n",
       "      <td>0.155624</td>\n",
       "      <td>0.156504</td>\n",
       "      <td>0.156859</td>\n",
       "      <td>0.156634</td>\n",
       "      <td>0.156176</td>\n",
       "    </tr>\n",
       "  </tbody>\n",
       "</table>\n",
       "<p>5 rows × 129 columns</p>\n",
       "</div>"
      ],
      "text/plain": [
       "   index             datetime  soil_moisture  soil_temperature       454  \\\n",
       "0      0  2017-05-23 14:06:17          33.51              34.8  0.082131   \n",
       "1      1  2017-05-23 14:08:17          33.49              35.2  0.079510   \n",
       "2      2  2017-05-23 14:10:17          33.46              35.4  0.080599   \n",
       "3      3  2017-05-23 14:12:17          33.33              35.0  0.078024   \n",
       "4      4  2017-05-23 14:14:17          33.32              35.3  0.079973   \n",
       "\n",
       "        458       462       466       470       474  ...       914       918  \\\n",
       "0  0.055863  0.050047  0.047925  0.047498  0.046464  ...  0.152845  0.152615   \n",
       "1  0.055326  0.049116  0.047579  0.046745  0.046833  ...  0.152715  0.153102   \n",
       "2  0.054065  0.049150  0.047537  0.046525  0.046032  ...  0.152362  0.152158   \n",
       "3  0.054972  0.049052  0.047920  0.046883  0.046775  ...  0.153281  0.153990   \n",
       "4  0.055335  0.049314  0.047373  0.047028  0.046963  ...  0.152803  0.153085   \n",
       "\n",
       "        922       926       930       934       938       942       946  \\\n",
       "0  0.152927  0.154240  0.155018  0.154725  0.154682  0.154275  0.153477   \n",
       "1  0.153551  0.153590  0.153688  0.153370  0.154021  0.155543  0.156220   \n",
       "2  0.153204  0.153942  0.154610  0.154629  0.155609  0.155545  0.154884   \n",
       "3  0.154499  0.155012  0.154691  0.154643  0.155405  0.155918  0.157645   \n",
       "4  0.153295  0.154230  0.155071  0.155624  0.156504  0.156859  0.156634   \n",
       "\n",
       "        950  \n",
       "0  0.153929  \n",
       "1  0.156727  \n",
       "2  0.154485  \n",
       "3  0.157824  \n",
       "4  0.156176  \n",
       "\n",
       "[5 rows x 129 columns]"
      ]
     },
     "execution_count": 3,
     "metadata": {},
     "output_type": "execute_result"
    }
   ],
   "source": [
    "D.head()"
   ]
  },
  {
   "cell_type": "code",
   "execution_count": 4,
   "metadata": {},
   "outputs": [],
   "source": [
    "X = D.drop(['index', 'datetime', 'soil_moisture','soil_temperature'], axis=1)"
   ]
  },
  {
   "cell_type": "code",
   "execution_count": 5,
   "metadata": {},
   "outputs": [],
   "source": [
    "y = D['soil_moisture']"
   ]
  },
  {
   "cell_type": "code",
   "execution_count": 6,
   "metadata": {},
   "outputs": [
    {
     "data": {
      "text/plain": [
       "(679, 125)"
      ]
     },
     "execution_count": 6,
     "metadata": {},
     "output_type": "execute_result"
    }
   ],
   "source": [
    "X.shape"
   ]
  },
  {
   "cell_type": "code",
   "execution_count": 7,
   "metadata": {
    "ExecuteTime": {
     "end_time": "2022-11-18T11:56:56.067596Z",
     "start_time": "2022-11-18T11:56:55.478990Z"
    },
    "deletable": false,
    "nbgrader": {
     "cell_type": "code",
     "checksum": "86b4eaa340600dbc6c0f1b1033041b16",
     "grade": false,
     "grade_id": "cell-7ccfa9a73a1d6f54",
     "locked": false,
     "schema_version": 3,
     "solution": true,
     "task": false
    }
   },
   "outputs": [],
   "source": [
    "# YOUR CODE HERE\n",
    "from sklearn.model_selection import train_test_split\n",
    "X_train, X_test, y_train, y_test = train_test_split(X, y, test_size=0.25, random_state=42)"
   ]
  },
  {
   "cell_type": "code",
   "execution_count": 8,
   "metadata": {
    "ExecuteTime": {
     "end_time": "2022-11-18T12:02:34.074329Z",
     "start_time": "2022-11-18T12:02:34.065783Z"
    },
    "deletable": false,
    "editable": false,
    "nbgrader": {
     "cell_type": "code",
     "checksum": "457921762f9f9844764f124d9fb8c8c2",
     "grade": true,
     "grade_id": "cell-813c7fc121f0d455",
     "locked": true,
     "points": 2,
     "schema_version": 3,
     "solution": false,
     "task": false
    }
   },
   "outputs": [],
   "source": [
    "errorfound=False\n",
    "require=('X', 'y')\n",
    "for var in require:\n",
    "    if var not in globals():\n",
    "        print(var, \"not found! Please define it.\")\n",
    "        errorfound=True\n"
   ]
  },
  {
   "cell_type": "markdown",
   "metadata": {},
   "source": [
    "## Task 2\n",
    "\n",
    "- Study the data, select a regression algorithm for predicting the moisture\n",
    "- Train the regression algorithm using the training data.\n",
    "- Use cross validation to test the performance of the regressor and tune it's parameters\n",
    "- Finally test the regressor with the test set\n",
    "- Report the score (= $R^2$ = coefficient of determination) of the regressor in the training set, cross validation and in the test set\n",
    "- Plot the predicted moisture against the known moisture\n",
    "- What does the $R^2$ score tells? \n",
    "- What is your opinion of the performance? Is there signs of overfitting?"
   ]
  },
  {
   "cell_type": "code",
   "execution_count": 9,
   "metadata": {},
   "outputs": [],
   "source": [
    "from sklearn.ensemble import GradientBoostingRegressor\n",
    "from sklearn.model_selection import cross_val_score"
   ]
  },
  {
   "cell_type": "code",
   "execution_count": 16,
   "metadata": {
    "ExecuteTime": {
     "end_time": "2022-11-18T12:02:47.365432Z",
     "start_time": "2022-11-18T12:02:45.655047Z"
    },
    "deletable": false,
    "nbgrader": {
     "cell_type": "code",
     "checksum": "8e586f4b251acaf761dd91d17acfaea5",
     "grade": false,
     "grade_id": "cell-93a0d47f20379f85",
     "locked": false,
     "schema_version": 3,
     "solution": true,
     "task": false
    }
   },
   "outputs": [
    {
     "name": "stdout",
     "output_type": "stream",
     "text": [
      "Accurary in the training set..0.952402\n",
      "Accurary in crossvalidation...0.114897\n",
      "Accurary in the test set......0.909970\n"
     ]
    }
   ],
   "source": [
    "from sklearn.pipeline import Pipeline\n",
    "\n",
    "# YOUR CODE HERE\n",
    "est = GradientBoostingRegressor(n_estimators=50, learning_rate=0.1, max_depth=2)\n",
    "est.fit(X_train, y_train)\n",
    "yhat=est.predict(X_test)\n",
    "train_score=est.score(X_train,y_train)\n",
    "test_score=est.score(X_test,y_test)\n",
    "cv_score=cross_val_score(est, X, y, cv=5).mean()\n",
    "\n",
    "print(\"Accurary in the training set..%f\" % train_score)\n",
    "print(\"Accurary in crossvalidation...%f\" % cv_score)\n",
    "print(\"Accurary in the test set......%f\" % test_score)\n"
   ]
  },
  {
   "cell_type": "code",
   "execution_count": 31,
   "metadata": {},
   "outputs": [],
   "source": [
    "x_x = []\n",
    "for i in range(0,yhat.shape[0]):\n",
    "    x_x.append(i)"
   ]
  },
  {
   "cell_type": "code",
   "execution_count": 57,
   "metadata": {},
   "outputs": [
    {
     "data": {
      "image/png": "[encoded data removed]",
      "text/plain": [
       "<Figure size 640x480 with 1 Axes>"
      ]
     },
     "metadata": {},
     "output_type": "display_data"
    }
   ],
   "source": [
    "plt.scatter(x_x, y_test, alpha=0.5, color='red', label=['True Value'])\n",
    "plt.scatter(x_x, yhat, alpha=0.5, color='green', label=['Predicted Value'])\n",
    "plt.legend()\n",
    "plt.show()"
   ]
  },
  {
   "cell_type": "code",
   "execution_count": 17,
   "metadata": {
    "ExecuteTime": {
     "end_time": "2022-11-18T12:41:11.605297Z",
     "start_time": "2022-11-18T12:41:11.596369Z"
    },
    "deletable": false,
    "editable": false,
    "nbgrader": {
     "cell_type": "code",
     "checksum": "05f2b8130d8cc379a73cc8e491784e54",
     "grade": true,
     "grade_id": "cell-04912d6dd5d188c3",
     "locked": true,
     "points": 4,
     "schema_version": 3,
     "solution": false,
     "task": false
    }
   },
   "outputs": [
    {
     "ename": "NameError",
     "evalue": "name 'points' is not defined",
     "output_type": "error",
     "traceback": [
      "\u001b[0;31m---------------------------------------------------------------------------\u001b[0m",
      "\u001b[0;31mNameError\u001b[0m                                 Traceback (most recent call last)",
      "Cell \u001b[0;32mIn[17], line 14\u001b[0m\n\u001b[1;32m      9\u001b[0m         errorfound\u001b[38;5;241m=\u001b[39m\u001b[38;5;28;01mTrue\u001b[39;00m\n\u001b[1;32m     11\u001b[0m \u001b[38;5;28;01massert\u001b[39;00m(train_score\u001b[38;5;241m>\u001b[39m\u001b[38;5;241m0.85\u001b[39m), \u001b[38;5;124m\"\u001b[39m\u001b[38;5;124mTry again, if you can get better accuracy by tuning the regressor parameters\u001b[39m\u001b[38;5;124m\"\u001b[39m\n\u001b[0;32m---> 14\u001b[0m \u001b[43mpoints\u001b[49m\n",
      "\u001b[0;31mNameError\u001b[0m: name 'points' is not defined"
     ]
    }
   ],
   "source": [
    "# The coefficient of determination should be above 0.9 in the\n",
    "# test set depending on your regression algorithm and parameters\n",
    "\n",
    "errorfound=False\n",
    "require=('train_score', 'cv_score', 'test_score')\n",
    "for var in require:\n",
    "    if var not in globals():\n",
    "        print(var, \"not found! Please define it.\")\n",
    "        errorfound=True\n",
    "\n",
    "assert(train_score>0.85), \"Try again, if you can get better accuracy by tuning the regressor parameters\"\n",
    "\n",
    "\n",
    "points"
   ]
  },
  {
   "cell_type": "markdown",
   "metadata": {},
   "source": [
    "## Task 3, Select the best features\n",
    "\n",
    "Like it often is, some features are more important for regression than the others. \n",
    "\n",
    "- Study which features are the most important for predicting the moisture. If you used Extratrees regressor or GradientBoostedTree regressor, then you can use the .feature_importances vector. Another option is to use LASSO or Elastic net models and SelectFromModel to reduce unimportant features.\n",
    "- Plot a bar graph to visualize the importance of features\n",
    "- To check the importance of a single variable, plot a scatter plot using true moisture in x-axis and the value of the most important variable in y-axis.\n",
    "- Study the shape of the dependency. Is it linear or nonlinear?\n",
    "- Make a vector `features` which contains the names of the 10 most important features in decreasing order\n",
    "\n",
    "Name your variables according to the following table, in order to make the autograder tests to work:\n",
    "\n",
    "| Variable | Name |\n",
    "| -------- | ------|\n",
    "| Best features | `features` |\n",
    "| Barplot | `barplot` |\n",
    "| Scatter plot  | `scatterplot` |"
   ]
  },
  {
   "cell_type": "code",
   "execution_count": 43,
   "metadata": {},
   "outputs": [],
   "source": [
    "new_dict = dict(zip(X.columns, est.feature_importances_))"
   ]
  },
  {
   "cell_type": "code",
   "execution_count": 44,
   "metadata": {},
   "outputs": [],
   "source": [
    "get_features = sorted(new_dict.items(), key=lambda x:x[1], reverse=True)\n",
    "converted_dict = dict(get_features)"
   ]
  },
  {
   "cell_type": "code",
   "execution_count": 48,
   "metadata": {},
   "outputs": [],
   "source": [
    "ten_features = list(converted_dict.items())[:10]"
   ]
  },
  {
   "cell_type": "code",
   "execution_count": 59,
   "metadata": {
    "ExecuteTime": {
     "end_time": "2022-11-18T12:16:54.342319Z",
     "start_time": "2022-11-18T12:16:53.895958Z"
    },
    "deletable": false,
    "nbgrader": {
     "cell_type": "code",
     "checksum": "b4d33526c56f44935fef560a414503cc",
     "grade": false,
     "grade_id": "cell-515bf1cb9ed3beee",
     "locked": false,
     "schema_version": 3,
     "solution": true,
     "task": false
    }
   },
   "outputs": [
    {
     "data": {
      "image/png": "[encoded data removed]",
      "text/plain": [
       "<Figure size 640x480 with 1 Axes>"
      ]
     },
     "metadata": {},
     "output_type": "display_data"
    }
   ],
   "source": [
    "features=[]\n",
    "\n",
    "# You may find these lines usefull, in making the barplot\n",
    "x=range(len(X))\n",
    "barplot=plt.bar(X.columns, est.feature_importances_, label=X.columns)\n",
    "#plt.xticks(x, X.columns, rotation='vertical');\n",
    "\n",
    "# YOUR CODE HERE\n",
    "for i in ten_features:\n",
    "    features.append(i[0])"
   ]
  },
  {
   "cell_type": "code",
   "execution_count": 60,
   "metadata": {},
   "outputs": [
    {
     "data": {
      "image/png": "[encoded data removed]",
      "text/plain": [
       "<Figure size 640x480 with 1 Axes>"
      ]
     },
     "metadata": {},
     "output_type": "display_data"
    }
   ],
   "source": [
    "scatterplot = plt.scatter(y, [ten_features[0][1]]* len(y))"
   ]
  },
  {
   "cell_type": "code",
   "execution_count": 54,
   "metadata": {
    "ExecuteTime": {
     "end_time": "2022-11-18T12:19:49.842404Z",
     "start_time": "2022-11-18T12:19:49.835141Z"
    },
    "deletable": false,
    "editable": false,
    "nbgrader": {
     "cell_type": "code",
     "checksum": "2b5439af602c99153d0bfdc7555d2ede",
     "grade": true,
     "grade_id": "cell-35fdf7b370e0abb8",
     "locked": true,
     "points": 4,
     "schema_version": 3,
     "solution": false,
     "task": false
    }
   },
   "outputs": [
    {
     "ename": "NameError",
     "evalue": "name 'points' is not defined",
     "output_type": "error",
     "traceback": [
      "\u001b[0;31m---------------------------------------------------------------------------\u001b[0m",
      "\u001b[0;31mNameError\u001b[0m                                 Traceback (most recent call last)",
      "Cell \u001b[0;32mIn[54], line 10\u001b[0m\n\u001b[1;32m      6\u001b[0m         errorfound\u001b[38;5;241m=\u001b[39m\u001b[38;5;28;01mTrue\u001b[39;00m\n\u001b[1;32m      8\u001b[0m \u001b[38;5;28;01massert\u001b[39;00m(\u001b[38;5;28mlen\u001b[39m(features)\u001b[38;5;241m==\u001b[39m\u001b[38;5;241m10\u001b[39m), \u001b[38;5;124m\"\u001b[39m\u001b[38;5;124mPlease put the names of three most important features in list features!\u001b[39m\u001b[38;5;124m\"\u001b[39m\n\u001b[0;32m---> 10\u001b[0m \u001b[43mpoints\u001b[49m\n",
      "\u001b[0;31mNameError\u001b[0m: name 'points' is not defined"
     ]
    }
   ],
   "source": [
    "errorfound=False\n",
    "require=('features', 'barplot', 'scatterplot')\n",
    "for var in require:\n",
    "    if var not in globals():\n",
    "        print(var, \"not found! Please define it.\")\n",
    "        errorfound=True\n",
    "\n",
    "assert(len(features)==10), \"Please put the names of three most important features in list features!\"\n",
    "\n",
    "points"
   ]
  },
  {
   "cell_type": "code",
   "execution_count": null,
   "metadata": {},
   "outputs": [],
   "source": []
  }
 ],
 "metadata": {
  "kernelspec": {
   "display_name": "Python 3 (ipykernel)",
   "language": "python",
   "name": "python3"
  },
  "language_info": {
   "codemirror_mode": {
    "name": "ipython",
    "version": 3
   },
   "file_extension": ".py",
   "mimetype": "text/x-python",
   "name": "python",
   "nbconvert_exporter": "python",
   "pygments_lexer": "ipython3",
   "version": "3.10.10"
  },
  "toc": {
   "base_numbering": 1,
   "nav_menu": {},
   "number_sections": true,
   "sideBar": true,
   "skip_h1_title": false,
   "title_cell": "Table of Contents",
   "title_sidebar": "Contents",
   "toc_cell": false,
   "toc_position": {},
   "toc_section_display": true,
   "toc_window_display": false
  },
  "varInspector": {
   "cols": {
    "lenName": 16,
    "lenType": 16,
    "lenVar": 40
   },
   "kernels_config": {
    "python": {
     "delete_cmd_postfix": "",
     "delete_cmd_prefix": "del ",
     "library": "var_list.py",
     "varRefreshCmd": "print(var_dic_list())"
    },
    "r": {
     "delete_cmd_postfix": ") ",
     "delete_cmd_prefix": "rm(",
     "library": "var_list.r",
     "varRefreshCmd": "cat(var_dic_list()) "
    }
   },
   "types_to_exclude": [
    "module",
    "function",
    "builtin_function_or_method",
    "instance",
    "_Feature"
   ],
   "window_display": false
  }
 },
 "nbformat": 4,
 "nbformat_minor": 4
}
